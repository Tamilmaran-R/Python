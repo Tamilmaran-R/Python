{
 "cells": [
  {
   "cell_type": "code",
   "execution_count": 1,
   "id": "3c736842-b7f2-42b8-8e83-d809a86525d2",
   "metadata": {},
   "outputs": [
    {
     "name": "stdout",
     "output_type": "stream",
     "text": [
      "20\n"
     ]
    }
   ],
   "source": [
    "#static values\n",
    "k=10\n",
    "i=10\n",
    "print(k+i)"
   ]
  },
  {
   "cell_type": "code",
   "execution_count": 3,
   "id": "9240a48c-c7f0-4ea2-833c-18293fec11d5",
   "metadata": {},
   "outputs": [
    {
     "name": "stdin",
     "output_type": "stream",
     "text": [
      "enter the number 1\n"
     ]
    },
    {
     "data": {
      "text/plain": [
       "'1'"
      ]
     },
     "execution_count": 3,
     "metadata": {},
     "output_type": "execute_result"
    }
   ],
   "source": [
    "#dynamic values\n",
    "k=input(\"enter the number\")\n",
    "k"
   ]
  },
  {
   "cell_type": "code",
   "execution_count": 4,
   "id": "dfbd6805-b81b-4978-8b47-55de34aa4f2f",
   "metadata": {},
   "outputs": [
    {
     "name": "stdout",
     "output_type": "stream",
     "text": [
      "<class 'str'>\n"
     ]
    }
   ],
   "source": [
    "m=\"10\"\n",
    "print(type(m))"
   ]
  },
  {
   "cell_type": "code",
   "execution_count": 11,
   "id": "ca74a767-368d-4900-a264-7686f5346754",
   "metadata": {},
   "outputs": [
    {
     "name": "stdin",
     "output_type": "stream",
     "text": [
      "enter the name tamil\n"
     ]
    },
    {
     "name": "stdout",
     "output_type": "stream",
     "text": [
      "tamilmaran\n"
     ]
    }
   ],
   "source": [
    "k=input(\"enter the name\")\n",
    "m=\"maran\"\n",
    "print(k+m)"
   ]
  },
  {
   "cell_type": "code",
   "execution_count": 16,
   "id": "b56b3822-ff19-4d97-8284-f7da55f43c39",
   "metadata": {},
   "outputs": [
    {
     "name": "stdout",
     "output_type": "stream",
     "text": [
      "<class 'bool'>\n",
      "<class 'complex'>\n",
      "<class 'str'>\n",
      "<class 'float'>\n"
     ]
    }
   ],
   "source": [
    "#data type\n",
    "#number type\n",
    "a=\"america\" #string\n",
    "b=10.0      #float\n",
    "c=1+23j     #complex\n",
    "d=True      #Boolean\n",
    "print(type(d))\n",
    "print(type(c))\n",
    "print(type(a))\n",
    "print(type(b))"
   ]
  },
  {
   "cell_type": "code",
   "execution_count": 28,
   "id": "78a31ebf-e899-4b6c-9b67-94ef42dd2a00",
   "metadata": {},
   "outputs": [
    {
     "name": "stdout",
     "output_type": "stream",
     "text": [
      "2003.0\n",
      "2003.3\n",
      "(2+0j)\n",
      "(2+0j)\n",
      "3\n",
      "-23.0\n"
     ]
    }
   ],
   "source": [
    "#Casting\n",
    "t=float(2003) #float \n",
    "\n",
    "m=str(2003.3) #str cannot change the float \n",
    "\n",
    "s=complex(2) # str change into complex\n",
    "\n",
    "s1=str(2+0j) #complex cannot change s \n",
    "s2=3-23j\n",
    "print(t)\n",
    "print(m)\n",
    "print(s)\n",
    "print(s1)\n",
    "print(int(s2.real))  # print only real value and int based\n",
    "print(float(s2.imag)) # print only imag value and float based"
   ]
  },
  {
   "cell_type": "code",
   "execution_count": 24,
   "id": "6d2a09f5-cde2-47f5-b5db-611f20776eb9",
   "metadata": {},
   "outputs": [
    {
     "data": {
      "text/plain": [
       "9"
      ]
     },
     "execution_count": 24,
     "metadata": {},
     "output_type": "execute_result"
    }
   ],
   "source": [
    "m=int(9.3) # integer\n",
    "m          #float into int\n"
   ]
  },
  {
   "cell_type": "code",
   "execution_count": null,
   "id": "69e641be-9e3d-4ba4-ba9a-8d12049cf052",
   "metadata": {},
   "outputs": [],
   "source": []
  }
 ],
 "metadata": {
  "kernelspec": {
   "display_name": "Python [conda env:base] *",
   "language": "python",
   "name": "conda-base-py"
  },
  "language_info": {
   "codemirror_mode": {
    "name": "ipython",
    "version": 3
   },
   "file_extension": ".py",
   "mimetype": "text/x-python",
   "name": "python",
   "nbconvert_exporter": "python",
   "pygments_lexer": "ipython3",
   "version": "3.13.5"
  }
 },
 "nbformat": 4,
 "nbformat_minor": 5
}
