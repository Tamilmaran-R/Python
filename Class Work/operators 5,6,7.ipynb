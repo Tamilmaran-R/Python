{
 "cells": [
  {
   "cell_type": "code",
   "execution_count": 1,
   "id": "c36313db-fb1e-415e-a781-16b0bd04ef4e",
   "metadata": {},
   "outputs": [
    {
     "data": {
      "text/plain": [
       "0"
      ]
     },
     "execution_count": 1,
     "metadata": {},
     "output_type": "execute_result"
    }
   ],
   "source": [
    "#bitwise operator\n",
    "a=8\n",
    "b=19\n",
    "(a&b)"
   ]
  },
  {
   "cell_type": "code",
   "execution_count": 2,
   "id": "35e0ddad-bd3e-4540-a745-87570d8c15fe",
   "metadata": {},
   "outputs": [
    {
     "data": {
      "text/plain": [
       "2"
      ]
     },
     "execution_count": 2,
     "metadata": {},
     "output_type": "execute_result"
    }
   ],
   "source": [
    "a=6\n",
    "b=3\n",
    "(a&b)"
   ]
  },
  {
   "cell_type": "code",
   "execution_count": 3,
   "id": "9de98d4f-78af-4c04-a3e0-5cdd4cce9817",
   "metadata": {},
   "outputs": [
    {
     "data": {
      "text/plain": [
       "7"
      ]
     },
     "execution_count": 3,
     "metadata": {},
     "output_type": "execute_result"
    }
   ],
   "source": [
    "a=6\n",
    "b=3\n",
    "(a|b)"
   ]
  },
  {
   "cell_type": "code",
   "execution_count": 4,
   "id": "21da591d-040b-4193-b94c-7fc94dee5d9d",
   "metadata": {},
   "outputs": [
    {
     "name": "stdout",
     "output_type": "stream",
     "text": [
      "hihihihihi\n"
     ]
    }
   ],
   "source": [
    "print(\"hi\" *5)"
   ]
  },
  {
   "cell_type": "code",
   "execution_count": 5,
   "id": "09e61325-717a-4192-ad74-63a90682b78a",
   "metadata": {},
   "outputs": [
    {
     "ename": "TypeError",
     "evalue": "can only concatenate str (not \"int\") to str",
     "output_type": "error",
     "traceback": [
      "\u001b[1;31m---------------------------------------------------------------------------\u001b[0m",
      "\u001b[1;31mTypeError\u001b[0m                                 Traceback (most recent call last)",
      "Cell \u001b[1;32mIn[5], line 1\u001b[0m\n\u001b[1;32m----> 1\u001b[0m \u001b[38;5;28mprint\u001b[39m(\u001b[38;5;124m\"\u001b[39m\u001b[38;5;124mhi\u001b[39m\u001b[38;5;124m\"\u001b[39m\u001b[38;5;241m+\u001b[39m\u001b[38;5;241m5\u001b[39m)\n",
      "\u001b[1;31mTypeError\u001b[0m: can only concatenate str (not \"int\") to str"
     ]
    }
   ],
   "source": [
    "print(\"hi\"+5)"
   ]
  },
  {
   "cell_type": "code",
   "execution_count": 6,
   "id": "16dff875-7f20-449d-856d-c702c85a156b",
   "metadata": {},
   "outputs": [
    {
     "name": "stdout",
     "output_type": "stream",
     "text": [
      "2\n"
     ]
    }
   ],
   "source": [
    "print(True +True) #true  is 1 #false is 0"
   ]
  },
  {
   "cell_type": "code",
   "execution_count": 8,
   "id": "115c3582-c40c-465b-8206-6b6b8dff9c41",
   "metadata": {},
   "outputs": [
    {
     "name": "stdout",
     "output_type": "stream",
     "text": [
      "1\n"
     ]
    }
   ],
   "source": [
    "print(True + False ) "
   ]
  },
  {
   "cell_type": "code",
   "execution_count": 11,
   "id": "4826d596-741f-40bf-b42c-b851e3bcddbb",
   "metadata": {},
   "outputs": [
    {
     "name": "stdout",
     "output_type": "stream",
     "text": [
      "['how ', 'are', ' you']\n"
     ]
    }
   ],
   "source": [
    "k=\"how ,are, you\"\n",
    "print(k.split(\",\"))"
   ]
  }
 ],
 "metadata": {
  "kernelspec": {
   "display_name": "Python [conda env:base] *",
   "language": "python",
   "name": "conda-base-py"
  },
  "language_info": {
   "codemirror_mode": {
    "name": "ipython",
    "version": 3
   },
   "file_extension": ".py",
   "mimetype": "text/x-python",
   "name": "python",
   "nbconvert_exporter": "python",
   "pygments_lexer": "ipython3",
   "version": "3.13.5"
  }
 },
 "nbformat": 4,
 "nbformat_minor": 5
}
