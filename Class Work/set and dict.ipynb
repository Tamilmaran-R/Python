{
 "cells": [
  {
   "cell_type": "code",
   "execution_count": 3,
   "id": "30642862-be1f-4bf3-9fac-46faa090e067",
   "metadata": {},
   "outputs": [
    {
     "data": {
      "text/plain": [
       "{2, 3, 4, 5, 6, 7}"
      ]
     },
     "execution_count": 3,
     "metadata": {},
     "output_type": "execute_result"
    }
   ],
   "source": [
    "#sets\n",
    "a={2,3,4}\n",
    "b={5,6,7}\n",
    "c=a.union(b)\n",
    "c"
   ]
  },
  {
   "cell_type": "code",
   "execution_count": 9,
   "id": "c8041e9f-7e2b-4773-8cb8-7f857a0cd28d",
   "metadata": {},
   "outputs": [
    {
     "name": "stdout",
     "output_type": "stream",
     "text": [
      "{2, 3, 4, 5, 6, 7}\n"
     ]
    }
   ],
   "source": [
    "a={2,3,4}\n",
    "b={5,6,7}\n",
    "c=a.update(b)\n",
    "print(a)"
   ]
  },
  {
   "cell_type": "code",
   "execution_count": 19,
   "id": "4b30f9d6-56ba-4e46-903d-f0c63f820e39",
   "metadata": {},
   "outputs": [
    {
     "name": "stdout",
     "output_type": "stream",
     "text": [
      "dict_keys(['k', 'l', 'e'])\n",
      "dict_values([2, 4, 3])\n",
      "dict_items([('k', 2), ('l', 4), ('e', 3)])\n",
      "{'k': 6, 'l': 4, 'e': 3}\n"
     ]
    }
   ],
   "source": [
    "#dict\n",
    "\n",
    "a={\"k\":2,\"l\":4,\"e\":3}\n",
    "print(a.keys())\n",
    "print(a.values())\n",
    "print(a.items())\n",
    "a[\"k\"]=6\n",
    "print(a)\n",
    "\n",
    "\n"
   ]
  },
  {
   "cell_type": "code",
   "execution_count": 26,
   "id": "7494f5bc-82c3-4b79-a984-1a884be701e0",
   "metadata": {},
   "outputs": [
    {
     "name": "stdout",
     "output_type": "stream",
     "text": [
      "{20, 23, 40, 90, 30}\n"
     ]
    }
   ],
   "source": [
    "set1={20,30,40}\n",
    "set2={23,40,90,40}\n",
    "c=set1.union(set2)\n",
    "print(c)\n",
    "\n",
    "      "
   ]
  },
  {
   "cell_type": "code",
   "execution_count": 20,
   "id": "8dc99e34-da2f-47f3-b83d-e9f5f3106d61",
   "metadata": {},
   "outputs": [
    {
     "name": "stdout",
     "output_type": "stream",
     "text": [
      "{'k': 6, 'l': 4, 'e': 3}\n"
     ]
    }
   ],
   "source": [
    "a[\"k\"]=6\n",
    "print(a)\n"
   ]
  },
  {
   "cell_type": "code",
   "execution_count": null,
   "id": "8091b9b4-66ea-40f2-b49d-293598889709",
   "metadata": {},
   "outputs": [],
   "source": [
    "a[\"k\"]=6\n",
    "print(a)"
   ]
  },
  {
   "cell_type": "raw",
   "id": "e67a6905-3ac7-4460-a6d2-e0a964a49227",
   "metadata": {},
   "source": [
    "print(a[\"k])"
   ]
  },
  {
   "cell_type": "code",
   "execution_count": 22,
   "id": "f7539d1f-7109-47a6-bc1f-fbb754bdca3d",
   "metadata": {},
   "outputs": [
    {
     "name": "stdout",
     "output_type": "stream",
     "text": [
      "6\n"
     ]
    }
   ],
   "source": [
    "print(a[\"k\"])"
   ]
  },
  {
   "cell_type": "code",
   "execution_count": 23,
   "id": "30804d22-2391-4b5d-a7d4-c642269e2039",
   "metadata": {},
   "outputs": [
    {
     "name": "stdout",
     "output_type": "stream",
     "text": [
      "{'l': 4, 'e': 3}\n"
     ]
    }
   ],
   "source": [
    "a.pop(\"k\")\n",
    "print(a)"
   ]
  },
  {
   "cell_type": "code",
   "execution_count": null,
   "id": "1f9f54c2-769b-47f1-be4b-0308c248b029",
   "metadata": {},
   "outputs": [],
   "source": []
  }
 ],
 "metadata": {
  "kernelspec": {
   "display_name": "Python [conda env:base] *",
   "language": "python",
   "name": "conda-base-py"
  },
  "language_info": {
   "codemirror_mode": {
    "name": "ipython",
    "version": 3
   },
   "file_extension": ".py",
   "mimetype": "text/x-python",
   "name": "python",
   "nbconvert_exporter": "python",
   "pygments_lexer": "ipython3",
   "version": "3.13.5"
  }
 },
 "nbformat": 4,
 "nbformat_minor": 5
}
