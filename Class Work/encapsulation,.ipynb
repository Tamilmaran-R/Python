{
 "cells": [
  {
   "cell_type": "code",
   "execution_count": 20,
   "id": "5956ae64-d19f-47a0-8220-eee74b8b792f",
   "metadata": {},
   "outputs": [
    {
     "name": "stdout",
     "output_type": "stream",
     "text": [
      "30\n"
     ]
    },
    {
     "data": {
      "text/plain": [
       "40"
      ]
     },
     "execution_count": 20,
     "metadata": {},
     "output_type": "execute_result"
    }
   ],
   "source": [
    "#encapsulation\n",
    "\n",
    "class score:\n",
    "    def __init__(self,mark1,mark2,mark3):\n",
    "        self.mark1=mark1\n",
    "        self.mark2=mark2\n",
    "        self.mark3=mark3\n",
    "\n",
    "    def maths(self):\n",
    "        m=self.mark1\n",
    "        return m\n",
    "\n",
    "    def __sci(self):\n",
    "        s=self.mark2 #private\n",
    "        print(s)\n",
    "\n",
    "    def science(self): #inside call private \n",
    "        self.__sci()\n",
    "        \n",
    "        \n",
    "    def _eng(self):\n",
    "        e=self.mark3\n",
    "        return e\n",
    "\n",
    "marks=score(20,30,40)\n",
    "#marks.maths()\n",
    "marks.science()\n",
    "marks._eng()       \n"
   ]
  },
  {
   "cell_type": "code",
   "execution_count": null,
   "id": "640a8ea0-d4f5-4f98-a974-fdb92f52217f",
   "metadata": {},
   "outputs": [],
   "source": [
    "# task pc=var function using the multilevel inheritance "
   ]
  },
  {
   "cell_type": "code",
   "execution_count": 22,
   "id": "06924d8e-b0b1-4448-a75f-12becbb34dea",
   "metadata": {},
   "outputs": [
    {
     "data": {
      "text/plain": [
       "'polymorphism is same function but multiple classes'"
      ]
     },
     "execution_count": 22,
     "metadata": {},
     "output_type": "execute_result"
    }
   ],
   "source": [
    "'''polymorphism is same function but multiple classes'''\n"
   ]
  },
  {
   "cell_type": "code",
   "execution_count": null,
   "id": "0b7a114c-a13f-404a-8581-218bf84cd5b5",
   "metadata": {},
   "outputs": [],
   "source": []
  }
 ],
 "metadata": {
  "kernelspec": {
   "display_name": "Python [conda env:base] *",
   "language": "python",
   "name": "conda-base-py"
  },
  "language_info": {
   "codemirror_mode": {
    "name": "ipython",
    "version": 3
   },
   "file_extension": ".py",
   "mimetype": "text/x-python",
   "name": "python",
   "nbconvert_exporter": "python",
   "pygments_lexer": "ipython3",
   "version": "3.13.5"
  }
 },
 "nbformat": 4,
 "nbformat_minor": 5
}
