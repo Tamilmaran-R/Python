{
 "cells": [
  {
   "cell_type": "code",
   "execution_count": 1,
   "id": "110b78d1-691e-4117-9e24-1127594ff7f2",
   "metadata": {},
   "outputs": [
    {
     "data": {
      "text/plain": [
       "[111, 313, 232]"
      ]
     },
     "execution_count": 1,
     "metadata": {},
     "output_type": "execute_result"
    }
   ],
   "source": [
    "#list comprenstion\n",
    "l=[111,123,313,232]\n",
    "\n",
    "palindrome=[i for i in l if str(i)==str(i)[::-1]]\n",
    "palindrome\n"
   ]
  },
  {
   "cell_type": "code",
   "execution_count": 5,
   "id": "2fe2e711-cad5-4fff-a597-c4c51dcecac7",
   "metadata": {},
   "outputs": [
    {
     "name": "stdout",
     "output_type": "stream",
     "text": [
      "50\n"
     ]
    }
   ],
   "source": [
    " #lambda\n",
    "\n",
    "def lam(n):\n",
    "    return lambda a:a+n\n",
    "k=lam(49)\n",
    "print(k(1))\n",
    "\n",
    "    "
   ]
  },
  {
   "cell_type": "code",
   "execution_count": null,
   "id": "1a88607c-e825-4b81-98bb-1345ec338f2e",
   "metadata": {},
   "outputs": [],
   "source": [
    "#int using palindrom\n",
    "# map filter task"
   ]
  },
  {
   "cell_type": "code",
   "execution_count": 5,
   "id": "b07f7973-e74f-48f6-a581-c3fd2de0ac80",
   "metadata": {},
   "outputs": [
    {
     "ename": "TypeError",
     "evalue": "type 'int' is not subscriptable",
     "output_type": "error",
     "traceback": [
      "\u001b[1;31m---------------------------------------------------------------------------\u001b[0m",
      "\u001b[1;31mTypeError\u001b[0m                                 Traceback (most recent call last)",
      "Cell \u001b[1;32mIn[5], line 4\u001b[0m\n\u001b[0;32m      2\u001b[0m result\u001b[38;5;241m=\u001b[39m[]\n\u001b[0;32m      3\u001b[0m \u001b[38;5;28;01mfor\u001b[39;00m i \u001b[38;5;129;01min\u001b[39;00m l:\n\u001b[1;32m----> 4\u001b[0m     result\u001b[38;5;241m=\u001b[39m\u001b[38;5;28mint\u001b[39m[i]\n",
      "\u001b[1;31mTypeError\u001b[0m: type 'int' is not subscriptable"
     ]
    }
   ],
   "source": [
    "l=[111,123,313,232]\n",
    "result=[]\n",
    "\n",
    "for i in l:\n",
    "    result=int[i]\n",
    "\n"
   ]
  },
  {
   "cell_type": "code",
   "execution_count": 12,
   "id": "899d5824-c7c9-41f3-b150-80daa2502dfe",
   "metadata": {},
   "outputs": [
    {
     "name": "stdout",
     "output_type": "stream",
     "text": [
      "232\n"
     ]
    }
   ],
   "source": [
    "\n",
    "l=[111,123,313,232]\n",
    "\n",
    "for num in l:\n",
    "    original = num         # save the original number\n",
    "    rev = 0\n",
    "    while num > 0:\n",
    "        rev = rev * 10 + num % 10   # build reversed number\n",
    "        num //= 10                  # remove last digit\n",
    "    if original == rev:              # check palindrome\n",
    "        result.append(original)\n",
    "\n",
    "print(rev)\n"
   ]
  },
  {
   "cell_type": "code",
   "execution_count": 56,
   "id": "987e84d2-f25e-48cd-ae75-007c2bcd48cf",
   "metadata": {},
   "outputs": [
    {
     "name": "stdout",
     "output_type": "stream",
     "text": [
      "[222, 246, 626, 464]\n"
     ]
    }
   ],
   "source": [
    "#map\n",
    "l=[111,123,313,232]\n",
    "def mult(l):\n",
    "    return l+l\n",
    "result=map(mult,l)\n",
    "print(list(result))\n",
    "           "
   ]
  },
  {
   "cell_type": "code",
   "execution_count": 24,
   "id": "42802cbe-3669-4106-98bf-507c9b1ba952",
   "metadata": {},
   "outputs": [
    {
     "name": "stdout",
     "output_type": "stream",
     "text": [
      "[222, 246, 626, 464]\n"
     ]
    }
   ],
   "source": [
    "def multi(l):\n",
    "    for i in l:\n",
    "       result=multi(i+i)\n",
    "print(result)"
   ]
  },
  {
   "cell_type": "code",
   "execution_count": 55,
   "id": "0de0b180-a831-4bdb-bb99-8a6be2839f6b",
   "metadata": {},
   "outputs": [
    {
     "name": "stdout",
     "output_type": "stream",
     "text": [
      "[4, 6, 8]\n"
     ]
    }
   ],
   "source": [
    "#lambda\n",
    "'''l=[2,3,4]\n",
    "multi=lambda l:l+l #wrong\n",
    "multi(l)'''\n",
    "\n",
    "l=[2,3,4]\n",
    "result=[x+y for x,y in zip(l,l)]\n",
    "print(result)\n"
   ]
  },
  {
   "cell_type": "code",
   "execution_count": 1,
   "id": "ebaa9b5c-4ce7-4553-9cc5-8c8ea53ca37b",
   "metadata": {},
   "outputs": [
    {
     "data": {
      "text/plain": [
       "'even'"
      ]
     },
     "execution_count": 1,
     "metadata": {},
     "output_type": "execute_result"
    }
   ],
   "source": [
    "#lambda\n",
    "\n",
    "check=lambda a:\"even\" if a%2==0 else \"odd\"\n",
    "check(4)"
   ]
  },
  {
   "cell_type": "code",
   "execution_count": 4,
   "id": "6e24e81f-b9a1-4e3d-9959-4c1fe6c38f2f",
   "metadata": {},
   "outputs": [
    {
     "data": {
      "text/plain": [
       "200"
      ]
     },
     "execution_count": 4,
     "metadata": {},
     "output_type": "execute_result"
    }
   ],
   "source": [
    "a=lambda a:a+a\n",
    "a(100)\n"
   ]
  },
  {
   "cell_type": "code",
   "execution_count": 6,
   "id": "61c9986e-1100-424a-9925-ae5edf0bfb13",
   "metadata": {},
   "outputs": [
    {
     "name": "stdout",
     "output_type": "stream",
     "text": [
      "51\n"
     ]
    }
   ],
   "source": [
    "def mul(n):\n",
    "    return lambda a:a+n\n",
    "k=mul(49)\n",
    "print(k(2))"
   ]
  },
  {
   "cell_type": "code",
   "execution_count": 7,
   "id": "e639c660-93eb-43dc-bc0d-c0124774348c",
   "metadata": {},
   "outputs": [
    {
     "name": "stdout",
     "output_type": "stream",
     "text": [
      "-18\n"
     ]
    }
   ],
   "source": [
    "def sub(j):\n",
    "    return lambda a:a-j\n",
    "k=sub(20)\n",
    "print(k(2))"
   ]
  },
  {
   "cell_type": "code",
   "execution_count": 8,
   "id": "823ee5a7-136e-4ff0-9c32-d34397a5e9b8",
   "metadata": {},
   "outputs": [
    {
     "data": {
      "text/plain": [
       "[0, 1, 2, 3, 4, 5, 6, 7, 8, 9]"
      ]
     },
     "execution_count": 8,
     "metadata": {},
     "output_type": "execute_result"
    }
   ],
   "source": [
    "l=[]\n",
    "for i in range(10):\n",
    "    l.append(i)\n",
    "l"
   ]
  },
  {
   "cell_type": "code",
   "execution_count": 9,
   "id": "749e290a-c9fd-4eaa-8214-b49122893355",
   "metadata": {},
   "outputs": [
    {
     "data": {
      "text/plain": [
       "[0, 1, 2, 3, 4, 5, 6, 7, 8, 9]"
      ]
     },
     "execution_count": 9,
     "metadata": {},
     "output_type": "execute_result"
    }
   ],
   "source": [
    "l=[i for i in range(10)]\n",
    "l"
   ]
  },
  {
   "cell_type": "code",
   "execution_count": 13,
   "id": "b31c74cc-cad9-4a25-9708-6f000d4c789d",
   "metadata": {},
   "outputs": [
    {
     "data": {
      "text/plain": [
       "['odd', 'even']"
      ]
     },
     "execution_count": 13,
     "metadata": {},
     "output_type": "execute_result"
    }
   ],
   "source": [
    "\n",
    "l=[\"even\" if i%2!=0 else \"odd\" for i in range(2)]\n",
    "l"
   ]
  },
  {
   "cell_type": "code",
   "execution_count": 29,
   "id": "2d9c5eec-7a56-4362-993b-ac3106f352dd",
   "metadata": {},
   "outputs": [
    {
     "data": {
      "text/plain": [
       "[2, 3, 5, 7]"
      ]
     },
     "execution_count": 29,
     "metadata": {},
     "output_type": "execute_result"
    }
   ],
   "source": [
    "l=[1,2,3,4,5,6,7,8]\n",
    "m=[j for j in l if j>1 and all(j%i!=0 for i in range(2,j))]\n",
    "m"
   ]
  },
  {
   "cell_type": "code",
   "execution_count": 30,
   "id": "8d9f30d8-ca4c-4d7e-b857-be9fd0b8e8bf",
   "metadata": {},
   "outputs": [
    {
     "ename": "SyntaxError",
     "evalue": "invalid syntax (3959532316.py, line 2)",
     "output_type": "error",
     "traceback": [
      "\u001b[1;36m  Cell \u001b[1;32mIn[30], line 2\u001b[1;36m\u001b[0m\n\u001b[1;33m    m=[j for j in l if i>1 and (for i in range(2,j) if i<2 and i%2==0)]\u001b[0m\n\u001b[1;37m                                ^\u001b[0m\n\u001b[1;31mSyntaxError\u001b[0m\u001b[1;31m:\u001b[0m invalid syntax\n"
     ]
    }
   ],
   "source": [
    "l=[1,2,3,4,5,6,7,8]\n",
    "m=[j for j in l if i>1 i for i in range(2,j) if i<2 and i%2==0]"
   ]
  },
  {
   "cell_type": "code",
   "execution_count": 36,
   "id": "994e580a-24f2-45c9-a36b-4c31019ed8d6",
   "metadata": {},
   "outputs": [
    {
     "data": {
      "text/plain": [
       "[6]"
      ]
     },
     "execution_count": 36,
     "metadata": {},
     "output_type": "execute_result"
    }
   ],
   "source": [
    "l=[1,2,3,4,5,6,7,8]\n",
    "m=[i for i in l if i-2==4]\n",
    "m"
   ]
  },
  {
   "cell_type": "code",
   "execution_count": 44,
   "id": "a1721f3a-0e3b-4d09-961d-4027c07e5d38",
   "metadata": {},
   "outputs": [
    {
     "name": "stdout",
     "output_type": "stream",
     "text": [
      "[1.0, 1.0, 1.0, 1.0, 1.0, 1.0, 1.0, 1.0]\n"
     ]
    }
   ],
   "source": [
    "def add(n):\n",
    "    return n/n\n",
    "l=[1,2,3,4,5,6,7,8]\n",
    "m=map(add,l)\n",
    "print(list(m))"
   ]
  },
  {
   "cell_type": "code",
   "execution_count": null,
   "id": "689be386-e9b9-4171-ba17-4e465cb99b9a",
   "metadata": {},
   "outputs": [],
   "source": []
  }
 ],
 "metadata": {
  "kernelspec": {
   "display_name": "Python [conda env:base] *",
   "language": "python",
   "name": "conda-base-py"
  },
  "language_info": {
   "codemirror_mode": {
    "name": "ipython",
    "version": 3
   },
   "file_extension": ".py",
   "mimetype": "text/x-python",
   "name": "python",
   "nbconvert_exporter": "python",
   "pygments_lexer": "ipython3",
   "version": "3.13.5"
  }
 },
 "nbformat": 4,
 "nbformat_minor": 5
}
