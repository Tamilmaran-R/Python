{
 "cells": [
  {
   "cell_type": "code",
   "execution_count": 2,
   "id": "9f663f3c-b241-46f5-a402-08f7668790f3",
   "metadata": {},
   "outputs": [
    {
     "name": "stdout",
     "output_type": "stream",
     "text": [
      "hello\n"
     ]
    }
   ],
   "source": [
    "def function1():\n",
    "    print(\"hello\")\n",
    "\n",
    "function1()"
   ]
  },
  {
   "cell_type": "code",
   "execution_count": 9,
   "id": "5a6a1670-8b17-4afa-b2ed-ab9fa6f35062",
   "metadata": {},
   "outputs": [
    {
     "name": "stdout",
     "output_type": "stream",
     "text": [
      "3\n",
      "-1\n",
      "2\n"
     ]
    }
   ],
   "source": [
    "a=1\n",
    "b=2\n",
    "\n",
    "def add():\n",
    "    c=a+b\n",
    "    print(c)\n",
    "def sub():\n",
    "    d=a-b\n",
    "    print(d)\n",
    "\n",
    "def multi():\n",
    "    e=a*b\n",
    "    print(e)\n",
    "\n",
    "\n",
    "add()\n",
    "sub()\n",
    "multi()\n"
   ]
  },
  {
   "cell_type": "code",
   "execution_count": 18,
   "id": "7d1baba6-38f5-4f80-bc73-712a20c38505",
   "metadata": {},
   "outputs": [],
   "source": [
    "def anagram(a,b):\n",
    "    a=\"liste\"\n",
    "    b=\"slient\"\n",
    "    for i in (len(a)):\n",
    "        for j in (len(b)):\n",
    "            if a[i]==b[j]:\n",
    "                print(\"anagram\")\n",
    "    else:\n",
    "        print(\"not anagram\")\n",
    "\n"
   ]
  },
  {
   "cell_type": "code",
   "execution_count": 19,
   "id": "95d70b10-1b14-450f-862c-9f7504c6ec23",
   "metadata": {},
   "outputs": [
    {
     "name": "stdin",
     "output_type": "stream",
     "text": [
      " 1\n",
      " 1\n"
     ]
    },
    {
     "name": "stdout",
     "output_type": "stream",
     "text": [
      "2\n"
     ]
    }
   ],
   "source": [
    "def add(a,b):\n",
    "    c=a+b\n",
    "    print(c)\n",
    "a=int(input())\n",
    "b=int(input())\n",
    "add(a,b)\n"
   ]
  },
  {
   "cell_type": "code",
   "execution_count": 22,
   "id": "ecdb6cd8-dd57-4626-85df-2382d5a9807c",
   "metadata": {},
   "outputs": [],
   "source": [
    "#function\n",
    "def anagram(a,b):\n",
    "    a=\"liste\"\n",
    "    b=\"slient\"\n",
    "    for i in (len(a)):\n",
    "        for j in (len(b)):\n",
    "            if a[i]==b[j]:\n",
    "                print(\"anagram\")\n",
    "    else:\n",
    "        print(\"not anagram\")"
   ]
  },
  {
   "cell_type": "code",
   "execution_count": 32,
   "id": "db6fda25-70a9-424b-b9da-c7adcb92b890",
   "metadata": {},
   "outputs": [
    {
     "name": "stdin",
     "output_type": "stream",
     "text": [
      "enter we\n",
      "enter id\n"
     ]
    },
    {
     "name": "stdout",
     "output_type": "stream",
     "text": [
      "not anagram\n"
     ]
    }
   ],
   "source": []
  },
  {
   "cell_type": "code",
   "execution_count": 2,
   "id": "8b58f166-4f0f-4d72-aac9-ce830de312f1",
   "metadata": {},
   "outputs": [
    {
     "name": "stdout",
     "output_type": "stream",
     "text": [
      "hello\n"
     ]
    }
   ],
   "source": [
    "def hello():\n",
    "    print(\"hello\")\n",
    "\n",
    "hello()"
   ]
  },
  {
   "cell_type": "code",
   "execution_count": 5,
   "id": "ad3c7ee7-87da-42e3-ad1a-c1bba97708da",
   "metadata": {},
   "outputs": [
    {
     "name": "stdout",
     "output_type": "stream",
     "text": [
      "hello tamil\n",
      "hello maran\n",
      "hello r\n"
     ]
    }
   ],
   "source": [
    "#Function with Parameters\n",
    "def hi(name):\n",
    "    print(\"hello\",name)\n",
    "hi(\"tamil\")\n",
    "hi(\"maran\")\n",
    "hi(\"r\")"
   ]
  },
  {
   "cell_type": "code",
   "execution_count": 6,
   "id": "56126937-899d-4e79-9b37-2806d50f8d92",
   "metadata": {},
   "outputs": [
    {
     "name": "stdout",
     "output_type": "stream",
     "text": [
      "5\n",
      "4\n",
      "3\n",
      "2\n",
      "1\n",
      "times up\n"
     ]
    }
   ],
   "source": [
    "def total(n):\n",
    "    while n>0:\n",
    "        print(n)\n",
    "        n-=1\n",
    "    else:\n",
    "        print(\"times up\")\n",
    "total(5)\n",
    "    "
   ]
  },
  {
   "cell_type": "code",
   "execution_count": 7,
   "id": "b57e97f3-69cf-47e5-8c44-4ef4e8d0ac94",
   "metadata": {},
   "outputs": [
    {
     "name": "stdout",
     "output_type": "stream",
     "text": [
      "5\n",
      "4\n",
      "3\n",
      "2\n",
      "1\n",
      "Time's up!\n"
     ]
    }
   ],
   "source": [
    "def countdown(n):\n",
    "    while n > 0:\n",
    "        print(n)\n",
    "        n -= 1\n",
    "    print(\"Time's up!\")\n",
    "\n",
    "countdown(5)\n"
   ]
  },
  {
   "cell_type": "code",
   "execution_count": null,
   "id": "453e0e83-e070-4c01-a7fe-d9983b57ac09",
   "metadata": {},
   "outputs": [],
   "source": []
  }
 ],
 "metadata": {
  "kernelspec": {
   "display_name": "Python [conda env:base] *",
   "language": "python",
   "name": "conda-base-py"
  },
  "language_info": {
   "codemirror_mode": {
    "name": "ipython",
    "version": 3
   },
   "file_extension": ".py",
   "mimetype": "text/x-python",
   "name": "python",
   "nbconvert_exporter": "python",
   "pygments_lexer": "ipython3",
   "version": "3.13.5"
  }
 },
 "nbformat": 4,
 "nbformat_minor": 5
}
