{
 "cells": [
  {
   "cell_type": "code",
   "execution_count": 17,
   "id": "c04da44d-e576-4ad7-bad6-e189b74db560",
   "metadata": {},
   "outputs": [
    {
     "data": {
      "text/plain": [
       "[11, 45, 22, 23]"
      ]
     },
     "execution_count": 17,
     "metadata": {},
     "output_type": "execute_result"
    }
   ],
   "source": [
    "\n",
    "a={22,23,45,11,22,45}\n",
    "def remove_duplicate(a):\n",
    "    result=[]\n",
    "    for i in a:\n",
    "        if i not in result:\n",
    "            result.append(i)\n",
    "    return result\n",
    "\n",
    "remove_duplicate(a)\n",
    "    "
   ]
  },
  {
   "cell_type": "code",
   "execution_count": 18,
   "id": "8b06ada5-e03a-4272-90c2-7c3b82ef4a62",
   "metadata": {},
   "outputs": [
    {
     "data": {
      "text/plain": [
       "[24, 22, 23, 25]"
      ]
     },
     "execution_count": 18,
     "metadata": {},
     "output_type": "execute_result"
    }
   ],
   "source": [
    "a={22,23,24}\n",
    "b={23,24,25}\n",
    "\n",
    "def combine(a,b):\n",
    "    result=[]\n",
    "    for i in a:\n",
    "        if i not in result:\n",
    "            result.append(i)\n",
    "\n",
    "    for j in b:\n",
    "        if j not in result:\n",
    "            result.append(j)\n",
    "\n",
    "    return result\n",
    "\n",
    "combine(a,b)"
   ]
  },
  {
   "cell_type": "code",
   "execution_count": 19,
   "id": "e20af5b3-67df-4811-b4ad-649098203e7b",
   "metadata": {},
   "outputs": [
    {
     "data": {
      "text/plain": [
       "[24, 23]"
      ]
     },
     "execution_count": 19,
     "metadata": {},
     "output_type": "execute_result"
    }
   ],
   "source": [
    "\n",
    "a={22,23,24}\n",
    "b={23,24,25}\n",
    "def common(a,b):\n",
    "    c=[]\n",
    "    for i in a:\n",
    "        if i in b and i not in c:\n",
    "            c.append(i)\n",
    "    return c\n",
    "common(a,b)\n"
   ]
  },
  {
   "cell_type": "code",
   "execution_count": 3,
   "id": "7c819041-f9f9-4129-843c-c36dfd5b16a9",
   "metadata": {},
   "outputs": [
    {
     "data": {
      "text/plain": [
       "[16, 22]"
      ]
     },
     "execution_count": 3,
     "metadata": {},
     "output_type": "execute_result"
    }
   ],
   "source": [
    "a={22,23,24,16}\n",
    "b={23,24,25,19}\n",
    "\n",
    "def diff(a,b):\n",
    "    d=[]\n",
    "    for i in a:\n",
    "        if i not in b:\n",
    "            d.append(i)\n",
    "    return d\n",
    "\n",
    "diff(a,b)\n",
    "    "
   ]
  },
  {
   "cell_type": "code",
   "execution_count": 18,
   "id": "c4b7fe7d-7882-4de5-9893-298e095b557d",
   "metadata": {},
   "outputs": [
    {
     "name": "stdout",
     "output_type": "stream",
     "text": [
      "[(2, 4, 9), (2, 4, 6), (2, 6, 9), (2, 6, 6), (3, 4, 9), (3, 4, 6), (3, 6, 9), (3, 6, 6)]"
     ]
    }
   ],
   "source": [
    "a={2,3}\n",
    "b={4,6}\n",
    "c={6,9}\n",
    "\n",
    "def cartisian(a,b,c):\n",
    "    cart=[]\n",
    "    for i in a:\n",
    "        for j in b:\n",
    "            for z in c:\n",
    "                cart.append((i,j,z))\n",
    "                \n",
    "    print(cart,end=\"\")\n",
    "\n",
    "cartisian(a,b,c)\n"
   ]
  },
  {
   "cell_type": "code",
   "execution_count": null,
   "id": "32b243fd-e9ff-43f9-9b36-36ab31e07045",
   "metadata": {},
   "outputs": [],
   "source": []
  }
 ],
 "metadata": {
  "kernelspec": {
   "display_name": "Python [conda env:base] *",
   "language": "python",
   "name": "conda-base-py"
  },
  "language_info": {
   "codemirror_mode": {
    "name": "ipython",
    "version": 3
   },
   "file_extension": ".py",
   "mimetype": "text/x-python",
   "name": "python",
   "nbconvert_exporter": "python",
   "pygments_lexer": "ipython3",
   "version": "3.13.5"
  }
 },
 "nbformat": 4,
 "nbformat_minor": 5
}
