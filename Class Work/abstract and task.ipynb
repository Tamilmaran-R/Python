{
 "cells": [
  {
   "cell_type": "code",
   "execution_count": 13,
   "id": "0c5dc04c-afe9-4e5d-820a-03ac35bff490",
   "metadata": {},
   "outputs": [
    {
     "name": "stdin",
     "output_type": "stream",
     "text": [
      "enter the login Tamil\n",
      "enter the passw 1234\n"
     ]
    },
    {
     "name": "stdout",
     "output_type": "stream",
     "text": [
      "logined \n",
      "password accept \n"
     ]
    }
   ],
   "source": [
    "from abc import ABC, abstractmethod\n",
    "class account(ABC):\n",
    "\n",
    "    def __init__(self,log,passw):\n",
    "        self.log=log\n",
    "        self.passw=passw\n",
    "    @abstractmethod\n",
    "    def login(self):\n",
    "        pass\n",
    "    @abstractmethod\n",
    "    def password(self):\n",
    "        pass\n",
    "\n",
    "class cdetails(account):\n",
    "    def login(self):\n",
    "        if self.log==\"Tamil\":\n",
    "            print(\"logined \")\n",
    "        else:\n",
    "            print(\"check the log credeninitials\")\n",
    "class cpdetails(cdetails):\n",
    "    def password(self):\n",
    "        if self.passw==\"1234\":\n",
    "            print(\"password accept \")\n",
    "        else:\n",
    "            print(\"check the passw credeninitials\")\n",
    "log=input(\"enter the login\")\n",
    "passw=input(\"enter the passw\")\n",
    "\n",
    "m=cpdetails(log,passw)\n",
    "m.login()\n",
    "m.password()"
   ]
  },
  {
   "cell_type": "code",
   "execution_count": null,
   "id": "26b70c4a-a6c6-4896-b064-348216f4bc4f",
   "metadata": {},
   "outputs": [],
   "source": [
    "#k=    hello.welcome.!    task print only hello welcome and count the words"
   ]
  }
 ],
 "metadata": {
  "kernelspec": {
   "display_name": "Python [conda env:base] *",
   "language": "python",
   "name": "conda-base-py"
  },
  "language_info": {
   "codemirror_mode": {
    "name": "ipython",
    "version": 3
   },
   "file_extension": ".py",
   "mimetype": "text/x-python",
   "name": "python",
   "nbconvert_exporter": "python",
   "pygments_lexer": "ipython3",
   "version": "3.13.5"
  }
 },
 "nbformat": 4,
 "nbformat_minor": 5
}
