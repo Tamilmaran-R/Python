{
 "cells": [
  {
   "cell_type": "code",
   "execution_count": 13,
   "id": "7a2c7b4c-61b4-4390-a5f7-03fed249c628",
   "metadata": {},
   "outputs": [
    {
     "data": {
      "text/plain": [
       "'hello'"
      ]
     },
     "execution_count": 13,
     "metadata": {},
     "output_type": "execute_result"
    }
   ],
   "source": [
    "f=open(\"pyyy.txt\",\"r\")\n",
    "f.read()"
   ]
  },
  {
   "cell_type": "code",
   "execution_count": 4,
   "id": "ddde5a4d-20ee-4eda-bd94-5bcc80b2520b",
   "metadata": {},
   "outputs": [],
   "source": [
    "f=open(\"pyyy.txt\",\"w\")\n",
    "f.write(\"how are u\")\n",
    "f.close()\n"
   ]
  },
  {
   "cell_type": "code",
   "execution_count": 6,
   "id": "2e13e8f8-c5be-4deb-b548-3dad73add231",
   "metadata": {},
   "outputs": [],
   "source": [
    "f=open(\"pyyy.txt\",\"a\")\n",
    "f.write(\"how are u\")\n",
    "f.close()"
   ]
  },
  {
   "cell_type": "code",
   "execution_count": null,
   "id": "8272d6fc-fc7e-4ea3-ba4e-3ae629ff3d71",
   "metadata": {},
   "outputs": [],
   "source": [
    "f=open(\"pyyy.txt\",\"a\")\n",
    "f.append(\"how are u\")\n",
    "f.close()"
   ]
  },
  {
   "cell_type": "code",
   "execution_count": 9,
   "id": "c74a4768-1e70-418e-ab59-52711729ed18",
   "metadata": {},
   "outputs": [
    {
     "name": "stdout",
     "output_type": "stream",
     "text": [
      "{'Ah,': 1, 'I': 1, 'see': 1, 'what': 1, \"you're\": 1, 'trying': 1, 'to': 3, 'doâ€”append': 1, 'text': 1, 'a': 2, 'file.': 1, 'The': 2, 'intention': 1, 'is': 1, 'spot-on,': 1, 'but': 1, 'the': 1, 'method': 2, 'needs': 1, 'tweak.': 1, 'append()': 1, 'doesnâ€™t': 1, 'exist': 1, 'for': 1, 'file': 1, 'objects': 1, 'in': 1, 'Python.': 1, 'Instead,': 1, 'you': 1, 'should': 1, 'use': 1, 'write()': 1, 'add': 1, 'content.': 1}\n"
     ]
    }
   ],
   "source": [
    "f=open(\"pyyy.txt\",\"r\")\n",
    "k=f.read().split()\n",
    "count1={}\n",
    "for i in k:\n",
    "    if i not in count1:\n",
    "        count1[i]=1\n",
    "    else:\n",
    "        count1[i]+=1\n",
    "print(count1)\n",
    "\n"
   ]
  },
  {
   "cell_type": "code",
   "execution_count": 15,
   "id": "1115882e-d4cb-498f-a579-b2286c01fdba",
   "metadata": {},
   "outputs": [
    {
     "name": "stdout",
     "output_type": "stream",
     "text": [
      "(6, 8, 10)\n"
     ]
    }
   ],
   "source": [
    "l1=[2,3,4]\n",
    "l2=[4,5,6]\n",
    "k=(l1[0]+l2[0],l1[1]+l2[1],l1[2]+l2[2])\n",
    "print(k) "
   ]
  },
  {
   "cell_type": "code",
   "execution_count": null,
   "id": "1a35c8ff-29b7-4202-9038-9b53a6132e93",
   "metadata": {},
   "outputs": [],
   "source": [
    "f=open(\"pyyy11.txt\",\"x\")\n",
    "f.write(\"its ok\")\n",
    "f.close()"
   ]
  }
 ],
 "metadata": {
  "kernelspec": {
   "display_name": "Python [conda env:base] *",
   "language": "python",
   "name": "conda-base-py"
  },
  "language_info": {
   "codemirror_mode": {
    "name": "ipython",
    "version": 3
   },
   "file_extension": ".py",
   "mimetype": "text/x-python",
   "name": "python",
   "nbconvert_exporter": "python",
   "pygments_lexer": "ipython3",
   "version": "3.13.5"
  }
 },
 "nbformat": 4,
 "nbformat_minor": 5
}
