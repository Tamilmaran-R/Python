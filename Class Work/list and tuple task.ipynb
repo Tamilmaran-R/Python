{
 "cells": [
  {
   "cell_type": "code",
   "execution_count": null,
   "id": "b448d32e-cbf9-43fc-8382-9e9382cb2c8b",
   "metadata": {},
   "outputs": [],
   "source": [
    "k=[23,[2,3,4],45,76,\"Hi\"]\n",
    "\n",
    "k[2]=36\n",
    "k\n"
   ]
  },
  {
   "cell_type": "code",
   "execution_count": null,
   "id": "96602ea7-27dd-4204-93c0-976f0aa3cac8",
   "metadata": {},
   "outputs": [],
   "source": [
    "k=[23,[2,3,4],45,76,\"Hi\"]\n",
    "k[4]=\"welcome\"\n",
    "k"
   ]
  },
  {
   "cell_type": "code",
   "execution_count": null,
   "id": "76edc148-e18c-4af6-a7f5-f2139e5cc2c6",
   "metadata": {},
   "outputs": [],
   "source": [
    "k=[23,[2,3,4],45,76,\"Hi\"]\n",
    "k.pop(0)\n",
    "k"
   ]
  },
  {
   "cell_type": "code",
   "execution_count": null,
   "id": "9b64219d-dc61-4118-87e3-0c53794b93b5",
   "metadata": {},
   "outputs": [],
   "source": [
    "k=[23,[2,3,4],45,76,\"Hi\"]\n",
    "w=k.index(45)\n",
    "w"
   ]
  },
  {
   "cell_type": "code",
   "execution_count": null,
   "id": "3396c9f3-c4ff-45ff-8d46-86e9f36d2d1e",
   "metadata": {},
   "outputs": [],
   "source": [
    "# tuple\n",
    "\n",
    "k=(\"hi\",\"hello\",\"how\")\n",
    "l=list(k)\n",
    "l.remove(\"hello\")\n",
    "t=tuple(l)\n",
    "t\n"
   ]
  },
  {
   "cell_type": "code",
   "execution_count": 3,
   "id": "f8b846da-f700-4a24-a429-834b1f6fd220",
   "metadata": {},
   "outputs": [
    {
     "data": {
      "text/plain": [
       "(1, 2, 4, 5)"
      ]
     },
     "execution_count": 3,
     "metadata": {},
     "output_type": "execute_result"
    }
   ],
   "source": [
    "m=(1,2,3,4,5)\n",
    "l=list(m)\n",
    "l.remove(3)\n",
    "t=tuple(l)\n",
    "t"
   ]
  },
  {
   "cell_type": "code",
   "execution_count": null,
   "id": "b926fb8b-bd45-463c-a159-408df60c6869",
   "metadata": {},
   "outputs": [],
   "source": []
  }
 ],
 "metadata": {
  "kernelspec": {
   "display_name": "Python [conda env:base] *",
   "language": "python",
   "name": "conda-base-py"
  },
  "language_info": {
   "codemirror_mode": {
    "name": "ipython",
    "version": 3
   },
   "file_extension": ".py",
   "mimetype": "text/x-python",
   "name": "python",
   "nbconvert_exporter": "python",
   "pygments_lexer": "ipython3",
   "version": "3.13.5"
  }
 },
 "nbformat": 4,
 "nbformat_minor": 5
}
