{
 "cells": [
  {
   "cell_type": "code",
   "execution_count": null,
   "id": "506524a2-1a46-4e3d-a0a0-6209567aa87c",
   "metadata": {},
   "outputs": [],
   "source": [
    "#for loop have a range\n",
    "#while loop still satisfied they run"
   ]
  },
  {
   "cell_type": "raw",
   "id": "1a1d9b97-44e2-4d6e-b763-b97e4f5696e1",
   "metadata": {},
   "source": []
  },
  {
   "cell_type": "code",
   "execution_count": 4,
   "id": "a6c1536b-c543-4808-9cf1-de619b19ecef",
   "metadata": {},
   "outputs": [
    {
     "name": "stdout",
     "output_type": "stream",
     "text": [
      "0\n",
      "1\n",
      "2\n",
      "3\n",
      "4\n",
      "5\n",
      "6\n",
      "7\n",
      "8\n",
      "9\n"
     ]
    }
   ],
   "source": [
    "for i in range(10):\n",
    "    print(i)"
   ]
  },
  {
   "cell_type": "code",
   "execution_count": 5,
   "id": "959bcda3-9aa6-4292-a8ca-0a2d039b8053",
   "metadata": {},
   "outputs": [
    {
     "name": "stdout",
     "output_type": "stream",
     "text": [
      "1\n",
      "2\n",
      "3\n",
      "4\n",
      "5\n",
      "6\n",
      "7\n",
      "8\n",
      "9\n",
      "10\n"
     ]
    }
   ],
   "source": [
    "for i in range(1,11):\n",
    "    print(i)"
   ]
  },
  {
   "cell_type": "code",
   "execution_count": 6,
   "id": "1982a1c5-272d-40f4-b90d-30aa14200b27",
   "metadata": {},
   "outputs": [
    {
     "name": "stdout",
     "output_type": "stream",
     "text": [
      "1\n",
      "3\n",
      "5\n",
      "7\n",
      "9\n"
     ]
    }
   ],
   "source": [
    "for i in range(1,11,2): #starting value,ending value,steping value\n",
    "    print(i)"
   ]
  },
  {
   "cell_type": "code",
   "execution_count": 11,
   "id": "753d7675-5438-488f-adb7-c8cb2da6371c",
   "metadata": {},
   "outputs": [
    {
     "name": "stdout",
     "output_type": "stream",
     "text": [
      "o\n",
      "15\n"
     ]
    }
   ],
   "source": [
    "for r in range(10,20,5):\n",
    "    if r==10:\n",
    "        print(\"o\")\n",
    "    else:\n",
    "        print(r)"
   ]
  },
  {
   "cell_type": "code",
   "execution_count": 4,
   "id": "e10fdbb6-4a17-48a7-9a7f-07f74cc38797",
   "metadata": {},
   "outputs": [],
   "source": [
    "l=[1,2,3,4,5]#list\n",
    "for i in l:\n",
    "    print(i)"
   ]
  },
  {
   "cell_type": "code",
   "execution_count": 9,
   "id": "258f3f60-3048-4d43-a752-0d26592d1d8f",
   "metadata": {},
   "outputs": [
    {
     "name": "stdout",
     "output_type": "stream",
     "text": [
      "1\n",
      "2\n",
      "3\n",
      "4\n",
      "5\n"
     ]
    }
   ],
   "source": [
    "l=(1,2,3,4,5) # tuple\n",
    "for i in l:\n",
    "    print(i)"
   ]
  },
  {
   "cell_type": "code",
   "execution_count": null,
   "id": "d31a497c-a1b6-4f7a-83ef-9edf060376a6",
   "metadata": {},
   "outputs": [],
   "source": [
    "l={1,2,3,4,5} #set in loop is given un order\n",
    "for i in l:\n",
    "    print(i)"
   ]
  },
  {
   "cell_type": "code",
   "execution_count": 10,
   "id": "a4cf4045-a230-4a1c-8ea7-fa53ba810bc5",
   "metadata": {},
   "outputs": [
    {
     "name": "stdout",
     "output_type": "stream",
     "text": [
      "0 1\n",
      "1 2\n",
      "2 3\n",
      "3 4\n",
      "4 5\n"
     ]
    }
   ],
   "source": [
    "l=(1,2,3,4,5)\n",
    "for i,j in enumerate(l): #print the index also\n",
    "    print(i,j)"
   ]
  },
  {
   "cell_type": "code",
   "execution_count": 16,
   "id": "91a812cc-2e01-4789-b568-55428df65c46",
   "metadata": {},
   "outputs": [
    {
     "name": "stdout",
     "output_type": "stream",
     "text": [
      "5\n",
      "7\n",
      "17\n"
     ]
    }
   ],
   "source": [
    "l=[5,6,8,10,7,17]\n",
    "for i in l:\n",
    "    if i%2!=0:\n",
    "        print(i)\n"
   ]
  },
  {
   "cell_type": "code",
   "execution_count": null,
   "id": "7bbcf48e-41fa-49b7-b8b0-0f2777d53d53",
   "metadata": {},
   "outputs": [],
   "source": [
    "max ,min,2,2nd max,2nd min"
   ]
  },
  {
   "cell_type": "code",
   "execution_count": 12,
   "id": "bf2c276e-8c04-4432-9ac1-367c482e9716",
   "metadata": {},
   "outputs": [
    {
     "name": "stdout",
     "output_type": "stream",
     "text": [
      "6\n",
      "8\n",
      "10\n"
     ]
    }
   ],
   "source": [
    "l=[5,6,8,10,7,17]\n",
    "for i in l:\n",
    "    if i%2==0:\n",
    "        print(i)"
   ]
  },
  {
   "cell_type": "code",
   "execution_count": 13,
   "id": "6bab3e99-6686-4af5-a8d3-00b79eba0f6a",
   "metadata": {},
   "outputs": [
    {
     "name": "stdout",
     "output_type": "stream",
     "text": [
      "5\n"
     ]
    }
   ],
   "source": [
    "l=[5,6,8,10,7,17]\n",
    "\n",
    "min_value=l[0]\n",
    "for i in l:\n",
    "    if i<min_value:\n",
    "        min_value=i\n",
    "\n",
    "print(min_value)"
   ]
  },
  {
   "cell_type": "code",
   "execution_count": 16,
   "id": "48a3babe-cda1-47e5-9626-ab6caf7e70d1",
   "metadata": {},
   "outputs": [
    {
     "name": "stdout",
     "output_type": "stream",
     "text": [
      "17\n"
     ]
    }
   ],
   "source": [
    "max_value=l[0]\n",
    "for i in l:\n",
    "    if i>max_value:\n",
    "        max_value=i\n",
    "print(max_value)"
   ]
  },
  {
   "cell_type": "code",
   "execution_count": null,
   "id": "b1a36376-0990-4eac-8ff4-131dcfd30666",
   "metadata": {},
   "outputs": [],
   "source": []
  }
 ],
 "metadata": {
  "kernelspec": {
   "display_name": "Python [conda env:base] *",
   "language": "python",
   "name": "conda-base-py"
  },
  "language_info": {
   "codemirror_mode": {
    "name": "ipython",
    "version": 3
   },
   "file_extension": ".py",
   "mimetype": "text/x-python",
   "name": "python",
   "nbconvert_exporter": "python",
   "pygments_lexer": "ipython3",
   "version": "3.13.5"
  }
 },
 "nbformat": 4,
 "nbformat_minor": 5
}
