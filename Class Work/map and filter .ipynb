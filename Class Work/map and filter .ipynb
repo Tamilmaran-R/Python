{
 "cells": [
  {
   "cell_type": "code",
   "execution_count": 5,
   "id": "dae223c4-f092-4782-a3e8-5e89c624def7",
   "metadata": {},
   "outputs": [
    {
     "name": "stdout",
     "output_type": "stream",
     "text": [
      "[7, 7, 7, 7, 7, 7]\n"
     ]
    }
   ],
   "source": [
    "def add(x,y):\n",
    "    return x+y\n",
    "\n",
    "x=(1,2,3,4,5,6)\n",
    "b=(6,5,4,3,2,1)\n",
    "\n",
    "A=map(add,x,b)\n",
    "print(list(A))"
   ]
  },
  {
   "cell_type": "code",
   "execution_count": 6,
   "id": "bb37d07a-0748-4cc5-9b23-0d499c1052ff",
   "metadata": {},
   "outputs": [
    {
     "name": "stdout",
     "output_type": "stream",
     "text": [
      "[2, 3, 4]\n"
     ]
    }
   ],
   "source": [
    "def sub(x):\n",
    "    return x-1!=0\n",
    "n=(1,2,3,4)\n",
    "S=filter(sub,n)\n",
    "print(list(S))\n",
    "    "
   ]
  },
  {
   "cell_type": "code",
   "execution_count": null,
   "id": "93aa4277-9c9c-47d1-ade8-c6820af68cd9",
   "metadata": {},
   "outputs": [],
   "source": []
  }
 ],
 "metadata": {
  "kernelspec": {
   "display_name": "Python [conda env:base] *",
   "language": "python",
   "name": "conda-base-py"
  },
  "language_info": {
   "codemirror_mode": {
    "name": "ipython",
    "version": 3
   },
   "file_extension": ".py",
   "mimetype": "text/x-python",
   "name": "python",
   "nbconvert_exporter": "python",
   "pygments_lexer": "ipython3",
   "version": "3.13.5"
  }
 },
 "nbformat": 4,
 "nbformat_minor": 5
}
