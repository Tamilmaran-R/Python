{
 "cells": [
  {
   "cell_type": "code",
   "execution_count": 4,
   "id": "ebf68536-f0ce-473d-b31d-0168598c156d",
   "metadata": {},
   "outputs": [
    {
     "data": {
      "text/plain": [
       "'Maran,\\n     2000,\\n     350'"
      ]
     },
     "execution_count": 4,
     "metadata": {},
     "output_type": "execute_result"
    }
   ],
   "source": [
    "\n",
    "k=\"\"\"Maran,\n",
    "     2000,\n",
    "     350\"\"\"\n",
    "\n",
    "\n",
    "k\n"
   ]
  },
  {
   "cell_type": "code",
   "execution_count": 5,
   "id": "156be881-f717-4cd0-b302-e512dd8cf069",
   "metadata": {},
   "outputs": [
    {
     "name": "stdout",
     "output_type": "stream",
     "text": [
      "Maran,\n",
      "     2000,\n",
      "     350\n"
     ]
    }
   ],
   "source": [
    "print(k)"
   ]
  },
  {
   "cell_type": "code",
   "execution_count": 10,
   "id": "2f7fbca7-78b0-45d2-8696-c18d722e9a73",
   "metadata": {},
   "outputs": [
    {
     "name": "stdout",
     "output_type": "stream",
     "text": [
      "  COMPUTER  \n",
      "  computer  \n",
      "Science\n",
      "computer\n"
     ]
    }
   ],
   "source": [
    "m=\"  computer  \"\n",
    "print(m.upper()) #upper \n",
    "print(m.lower()) #lower\n",
    "c=\"science\"\n",
    "print(c.capitalize())#captialize\n",
    "print(m.strip())# remove the white space\n",
    "\n",
    "\n"
   ]
  },
  {
   "cell_type": "code",
   "execution_count": 12,
   "id": "cd86272c-0435-4f1b-a766-549658b5ab2d",
   "metadata": {},
   "outputs": [
    {
     "name": "stdout",
     "output_type": "stream",
     "text": [
      "iam from chennai my name is vel\n"
     ]
    }
   ],
   "source": [
    "Name=\"vel\"\n",
    "place=\"chennai\"\n",
    "\n",
    "p=f\"iam from {place} my name is {Name}\" #format\n",
    "print(p)"
   ]
  },
  {
   "cell_type": "code",
   "execution_count": 9,
   "id": "06c00872-3bfc-495e-93bd-ef00712facf6",
   "metadata": {},
   "outputs": [
    {
     "name": "stdout",
     "output_type": "stream",
     "text": [
      "['hello', 'world']\n"
     ]
    }
   ],
   "source": [
    "#split\n",
    "n=\"hello,world\"\n",
    "g=n.split(\",\")\n",
    "print(g)"
   ]
  },
  {
   "cell_type": "code",
   "execution_count": 54,
   "id": "df306cc5-8600-4989-95f0-254f1021d39a",
   "metadata": {},
   "outputs": [
    {
     "name": "stdout",
     "output_type": "stream",
     "text": [
      "hello\n",
      "world\n",
      "hello,world\n",
      "hello,world \n",
      "hello,world \n"
     ]
    }
   ],
   "source": [
    "#slicing\n",
    "n=\"hello,world \"\n",
    "print(n[0:5]) #begining slicing\n",
    "print(n[6:11])#between the slicing\n",
    "print(n[-12:-1])#negative\n",
    "print(n[0:])\n",
    "print(n[:12])\n"
   ]
  },
  {
   "cell_type": "code",
   "execution_count": null,
   "id": "21e9b62b-c9fe-4693-86ef-0b75bdeb7ae4",
   "metadata": {},
   "outputs": [],
   "source": []
  }
 ],
 "metadata": {
  "kernelspec": {
   "display_name": "Python [conda env:base] *",
   "language": "python",
   "name": "conda-base-py"
  },
  "language_info": {
   "codemirror_mode": {
    "name": "ipython",
    "version": 3
   },
   "file_extension": ".py",
   "mimetype": "text/x-python",
   "name": "python",
   "nbconvert_exporter": "python",
   "pygments_lexer": "ipython3",
   "version": "3.13.5"
  }
 },
 "nbformat": 4,
 "nbformat_minor": 5
}
