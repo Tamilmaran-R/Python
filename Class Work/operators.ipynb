{
 "cells": [
  {
   "cell_type": "code",
   "execution_count": 2,
   "id": "b6308960-1770-4d65-9d7d-888962e3844b",
   "metadata": {},
   "outputs": [
    {
     "name": "stdin",
     "output_type": "stream",
     "text": [
      "enter the value 2\n",
      "enter the value 4\n"
     ]
    },
    {
     "name": "stdout",
     "output_type": "stream",
     "text": [
      "6\n",
      "-2\n",
      "8\n",
      "0.5\n",
      "2\n",
      "0\n",
      "4\n"
     ]
    }
   ],
   "source": [
    "#arithimatic operator\n",
    "\n",
    "a=int(input(\"enter the value\"))\n",
    "b=int(input(\"enter the value\"))\n",
    "print(a+b) #addition\n",
    "print(a-b)#sub\n",
    "print(a*b)#multi\n",
    "print(a/b)\n",
    "print(a%b)\n",
    "print(a//b)\n",
    "print(a**2)"
   ]
  },
  {
   "cell_type": "code",
   "execution_count": 5,
   "id": "35366961-9f34-4e21-b3bc-79b9ab7e1e8e",
   "metadata": {},
   "outputs": [
    {
     "name": "stdout",
     "output_type": "stream",
     "text": [
      "True\n",
      "True\n",
      "False\n"
     ]
    }
   ],
   "source": [
    "#logical operator \n",
    "\n",
    "a=10\n",
    "b=7\n",
    "\n",
    "print(a>5 and b<50) #and operator\n",
    "print(a>5 or b<50) # or operator\n",
    "print(not(a>5 and b<50)) # not operator"
   ]
  },
  {
   "cell_type": "code",
   "execution_count": 13,
   "id": "42b39bd8-ccbf-48ea-9d83-f88dfede8f6c",
   "metadata": {},
   "outputs": [
    {
     "name": "stdout",
     "output_type": "stream",
     "text": [
      "False\n",
      "True\n",
      "True\n",
      "False\n",
      "False\n",
      "True\n"
     ]
    }
   ],
   "source": [
    "#comparision  operataor\n",
    "\n",
    "a=10\n",
    "b=7\n",
    "\n",
    "print(a==b) equalto\n",
    "\n",
    "print(a!=b)\n",
    "\n",
    "print(a>b)\n",
    "\n",
    "print(a<b)\n",
    "\n",
    "print(a<=b)\n",
    "\n",
    "print(a>=b)\n",
    "\n",
    "print(a!=b)\n",
    "\n",
    "\n"
   ]
  }
 ],
 "metadata": {
  "kernelspec": {
   "display_name": "Python [conda env:base] *",
   "language": "python",
   "name": "conda-base-py"
  },
  "language_info": {
   "codemirror_mode": {
    "name": "ipython",
    "version": 3
   },
   "file_extension": ".py",
   "mimetype": "text/x-python",
   "name": "python",
   "nbconvert_exporter": "python",
   "pygments_lexer": "ipython3",
   "version": "3.13.5"
  }
 },
 "nbformat": 4,
 "nbformat_minor": 5
}
