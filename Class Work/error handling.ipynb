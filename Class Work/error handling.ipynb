{
 "cells": [
  {
   "cell_type": "code",
   "execution_count": 40,
   "id": "783aea0b-67ac-49e1-b123-eb04218823e5",
   "metadata": {},
   "outputs": [
    {
     "name": "stdin",
     "output_type": "stream",
     "text": [
      "enter month Number: 1\n"
     ]
    },
    {
     "name": "stdout",
     "output_type": "stream",
     "text": [
      "Jan\n"
     ]
    }
   ],
   "source": [
    "\n",
    "    def month(i):\n",
    "        try:\n",
    "            i=int(input(\"enter month Number:\"))\n",
    "            if i==1:\n",
    "                print(\"Jan\") \n",
    "            elif i==2:\n",
    "                print(\"feb\")\n",
    "            elif i==3:\n",
    "                print(\"mar\")\n",
    "            elif i==4:\n",
    "                print(\"april\")\n",
    "            elif i==5:\n",
    "                print(\"may\")\n",
    "            else:\n",
    "                print(\"invalid\")\n",
    "                \n",
    "        except Exception as a:\n",
    "                print(a)\n",
    "\n",
    "month(i)\n"
   ]
  },
  {
   "cell_type": "code",
   "execution_count": null,
   "id": "bcc663c0-44d5-4aa9-a223-cfccf2f6d4e8",
   "metadata": {},
   "outputs": [],
   "source": []
  }
 ],
 "metadata": {
  "kernelspec": {
   "display_name": "Python [conda env:base] *",
   "language": "python",
   "name": "conda-base-py"
  },
  "language_info": {
   "codemirror_mode": {
    "name": "ipython",
    "version": 3
   },
   "file_extension": ".py",
   "mimetype": "text/x-python",
   "name": "python",
   "nbconvert_exporter": "python",
   "pygments_lexer": "ipython3",
   "version": "3.13.5"
  }
 },
 "nbformat": 4,
 "nbformat_minor": 5
}
