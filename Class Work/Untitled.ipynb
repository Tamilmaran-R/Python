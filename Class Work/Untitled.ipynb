{
 "cells": [
  {
   "cell_type": "code",
   "execution_count": 2,
   "id": "38a1e387-04cd-4de8-8f7d-045429d2fbe4",
   "metadata": {},
   "outputs": [
    {
     "data": {
      "text/plain": [
       "\"Ah, I see what you're trying to doâ€”append text to a file. The intention is spot-on, but the method needs a tweak. The append() method doesnâ€™t exist for file objects in Python. Instead, you should use write() to add content.\""
      ]
     },
     "execution_count": 2,
     "metadata": {},
     "output_type": "execute_result"
    }
   ],
   "source": [
    "f=open(\"pyyy.txt\",\"r\")\n",
    "f.read()"
   ]
  },
  {
   "cell_type": "code",
   "execution_count": 3,
   "id": "7b6ea2d2-e314-424d-8847-6a3cb432345d",
   "metadata": {},
   "outputs": [
    {
     "data": {
      "text/plain": [
       "37"
      ]
     },
     "execution_count": 3,
     "metadata": {},
     "output_type": "execute_result"
    }
   ],
   "source": [
    "f=open(\"pyyy.txt\",\"w\")\n",
    "f.write(\"you should use write() to add content\")"
   ]
  },
  {
   "cell_type": "code",
   "execution_count": 4,
   "id": "ad8f3330-1fe2-437c-bd68-3b64654851bc",
   "metadata": {},
   "outputs": [
    {
     "data": {
      "text/plain": [
       "'you should use write() to add content'"
      ]
     },
     "execution_count": 4,
     "metadata": {},
     "output_type": "execute_result"
    }
   ],
   "source": [
    "f=open(\"pyyy.txt\",\"r\")\n",
    "f.read()"
   ]
  },
  {
   "cell_type": "code",
   "execution_count": 7,
   "id": "8a6f0d64-9ce6-44a1-bf72-0da1dc4be55a",
   "metadata": {},
   "outputs": [
    {
     "data": {
      "text/plain": [
       "21"
      ]
     },
     "execution_count": 7,
     "metadata": {},
     "output_type": "execute_result"
    }
   ],
   "source": [
    "f=open(\"pyyy.txt\",\"a\")\n",
    "f.write( \"\" \"ok follow the command\")"
   ]
  },
  {
   "cell_type": "code",
   "execution_count": 8,
   "id": "9b7f26a3-fe4a-407c-8a87-ba316ec79c1a",
   "metadata": {},
   "outputs": [
    {
     "data": {
      "text/plain": [
       "'you should use write() to add contentok follow the commandok follow the command'"
      ]
     },
     "execution_count": 8,
     "metadata": {},
     "output_type": "execute_result"
    }
   ],
   "source": [
    "f=open(\"pyyy.txt\",\"r\")\n",
    "f.read()"
   ]
  },
  {
   "cell_type": "code",
   "execution_count": 14,
   "id": "b10de64a-5894-483c-8c9f-8a6237f7e245",
   "metadata": {},
   "outputs": [],
   "source": [
    "f=open(\"pyyy11.txt\",\"x\")\n",
    "f.write(\"its ok\")\n",
    "f.close()"
   ]
  },
  {
   "cell_type": "code",
   "execution_count": 20,
   "id": "5d0e4341-da63-4c51-b320-998804d37172",
   "metadata": {},
   "outputs": [
    {
     "data": {
      "text/plain": [
       "'its ok'"
      ]
     },
     "execution_count": 20,
     "metadata": {},
     "output_type": "execute_result"
    }
   ],
   "source": [
    "f=open(\"pyyy11.txt\",\"r\")\n",
    "f.read()"
   ]
  },
  {
   "cell_type": "code",
   "execution_count": null,
   "id": "7a435249-5eb3-46ed-a6d0-0759ffcd4219",
   "metadata": {},
   "outputs": [],
   "source": []
  }
 ],
 "metadata": {
  "kernelspec": {
   "display_name": "Python [conda env:base] *",
   "language": "python",
   "name": "conda-base-py"
  },
  "language_info": {
   "codemirror_mode": {
    "name": "ipython",
    "version": 3
   },
   "file_extension": ".py",
   "mimetype": "text/x-python",
   "name": "python",
   "nbconvert_exporter": "python",
   "pygments_lexer": "ipython3",
   "version": "3.13.5"
  }
 },
 "nbformat": 4,
 "nbformat_minor": 5
}
