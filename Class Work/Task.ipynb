{
 "cells": [
  {
   "cell_type": "code",
   "execution_count": 29,
   "id": "b9856f21-1cd3-4be7-8a5f-8af36cf57a09",
   "metadata": {},
   "outputs": [
    {
     "name": "stdout",
     "output_type": "stream",
     "text": [
      "Mastee\n"
     ]
    }
   ],
   "source": [
    "#Task replace the string using the index\n",
    "a=\"Master\"\n",
    "b=a[:5]+\"e\"+a[6:]\n",
    "print(b)\n"
   ]
  },
  {
   "cell_type": "code",
   "execution_count": 33,
   "id": "e3113275-2294-4807-9dfa-a76456a63b06",
   "metadata": {},
   "outputs": [
    {
     "name": "stdout",
     "output_type": "stream",
     "text": [
      "fell\n"
     ]
    }
   ],
   "source": [
    "x=\"bell\"\n",
    "y=x[:0]+\"f\"+x[1:]\n",
    "print(y)\n"
   ]
  },
  {
   "cell_type": "code",
   "execution_count": 34,
   "id": "c9425a36-e784-47f7-91e3-b755e83ad4b2",
   "metadata": {},
   "outputs": [
    {
     "name": "stdout",
     "output_type": "stream",
     "text": [
      "bfll\n"
     ]
    }
   ],
   "source": [
    "x=\"bell\"\n",
    "y=x[:1]+\"f\"+x[2:]\n",
    "print(y)"
   ]
  },
  {
   "cell_type": "code",
   "execution_count": 35,
   "id": "ac1ac81d-f6dd-47a0-89b2-ffcd92a24f7b",
   "metadata": {},
   "outputs": [
    {
     "name": "stdout",
     "output_type": "stream",
     "text": [
      "befl\n"
     ]
    }
   ],
   "source": [
    "x=\"bell\"\n",
    "y=x[:2]+\"f\"+x[3:]\n",
    "print(y)"
   ]
  },
  {
   "cell_type": "code",
   "execution_count": 36,
   "id": "d7260ff6-99e2-4d8e-9638-53cf6397f158",
   "metadata": {},
   "outputs": [
    {
     "name": "stdout",
     "output_type": "stream",
     "text": [
      "belf\n"
     ]
    }
   ],
   "source": [
    "x=\"bell\"\n",
    "y=x[:3]+\"f\"+x[4:]\n",
    "print(y)"
   ]
  },
  {
   "cell_type": "code",
   "execution_count": null,
   "id": "a15ef8d7-72bd-4de4-a692-64634dc6cb3a",
   "metadata": {},
   "outputs": [],
   "source": []
  }
 ],
 "metadata": {
  "kernelspec": {
   "display_name": "Python [conda env:base] *",
   "language": "python",
   "name": "conda-base-py"
  },
  "language_info": {
   "codemirror_mode": {
    "name": "ipython",
    "version": 3
   },
   "file_extension": ".py",
   "mimetype": "text/x-python",
   "name": "python",
   "nbconvert_exporter": "python",
   "pygments_lexer": "ipython3",
   "version": "3.13.5"
  }
 },
 "nbformat": 4,
 "nbformat_minor": 5
}
