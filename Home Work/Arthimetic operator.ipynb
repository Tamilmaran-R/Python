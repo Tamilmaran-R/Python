{
 "cells": [
  {
   "cell_type": "code",
   "execution_count": 9,
   "id": "2439cc55-686d-4067-985b-5f47094aecff",
   "metadata": {},
   "outputs": [
    {
     "name": "stdout",
     "output_type": "stream",
     "text": [
      "23\n",
      "17\n",
      "60\n",
      "6.666666666666667\n",
      "6\n",
      "8000\n",
      "2\n"
     ]
    }
   ],
   "source": [
    "#arthimetic operator\n",
    "\n",
    "a=20\n",
    "b=3\n",
    "\n",
    "print(a+b) # add\n",
    "\n",
    "print(a-b) #sub\n",
    "\n",
    "print(a*b) #multiply\n",
    "\n",
    "print(a/b)# division\n",
    "\n",
    "print(a//b) # divide and nearest whole number (integer) they converted (floor div)\n",
    "\n",
    "print(a**b) #power square\n",
    "\n",
    "print(a%b) # reminder will be given\n",
    "\n"
   ]
  },
  {
   "cell_type": "raw",
   "id": "32ae871f-f757-40d8-8fb7-71f56f07affd",
   "metadata": {},
   "source": [
    "\n"
   ]
  },
  {
   "cell_type": "code",
   "execution_count": null,
   "id": "4e3f3f23-358e-4d87-883c-6c97a493559e",
   "metadata": {},
   "outputs": [],
   "source": []
  }
 ],
 "metadata": {
  "kernelspec": {
   "display_name": "Python [conda env:base] *",
   "language": "python",
   "name": "conda-base-py"
  },
  "language_info": {
   "codemirror_mode": {
    "name": "ipython",
    "version": 3
   },
   "file_extension": ".py",
   "mimetype": "text/x-python",
   "name": "python",
   "nbconvert_exporter": "python",
   "pygments_lexer": "ipython3",
   "version": "3.13.5"
  }
 },
 "nbformat": 4,
 "nbformat_minor": 5
}
