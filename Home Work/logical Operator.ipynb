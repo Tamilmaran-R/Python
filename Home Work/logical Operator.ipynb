{
 "cells": [
  {
   "cell_type": "code",
   "execution_count": 6,
   "id": "93e4ca44-cebf-42e7-be04-7030dbfbfcf3",
   "metadata": {},
   "outputs": [
    {
     "name": "stdin",
     "output_type": "stream",
     "text": [
      " 10\n",
      " 13\n"
     ]
    },
    {
     "name": "stdout",
     "output_type": "stream",
     "text": [
      "False\n"
     ]
    }
   ],
   "source": [
    "#logical Operator\n",
    "\n",
    "a=int(input())\n",
    "b=int(input())\n",
    "print(a<=10 and b<=12) #AND operator"
   ]
  },
  {
   "cell_type": "code",
   "execution_count": 5,
   "id": "f870853f-c4bd-4875-8599-b4eecd9267dc",
   "metadata": {},
   "outputs": [
    {
     "name": "stdin",
     "output_type": "stream",
     "text": [
      " 10\n",
      " 11\n"
     ]
    },
    {
     "name": "stdout",
     "output_type": "stream",
     "text": [
      "True\n"
     ]
    }
   ],
   "source": [
    "a=int(input())\n",
    "b=int(input())\n",
    "print(a<=10 or b<=12) #OR operator"
   ]
  },
  {
   "cell_type": "code",
   "execution_count": 7,
   "id": "09cbe72f-5dba-45ba-9848-9bf155b84f0e",
   "metadata": {},
   "outputs": [
    {
     "name": "stdin",
     "output_type": "stream",
     "text": [
      " 10\n",
      " 12\n"
     ]
    },
    {
     "name": "stdout",
     "output_type": "stream",
     "text": [
      "False\n"
     ]
    }
   ],
   "source": [
    "a=int(input())\n",
    "b=int(input())\n",
    "print(not(a<=10 and b<=12))"
   ]
  },
  {
   "cell_type": "code",
   "execution_count": 10,
   "id": "0d870499-d95e-4b20-a417-b6cdba37fb01",
   "metadata": {},
   "outputs": [
    {
     "name": "stdin",
     "output_type": "stream",
     "text": [
      " hello\n",
      " World\n"
     ]
    },
    {
     "name": "stdout",
     "output_type": "stream",
     "text": [
      "False\n"
     ]
    }
   ],
   "source": [
    "a=str(input())\n",
    "b=str(input())\n",
    "print(a==\"hello\" and b==\"world\") #  AND string using inthe logical operator"
   ]
  },
  {
   "cell_type": "code",
   "execution_count": 11,
   "id": "9946093d-de32-4b87-8111-0e4039568925",
   "metadata": {},
   "outputs": [
    {
     "name": "stdin",
     "output_type": "stream",
     "text": [
      " hello  \n",
      " world\n"
     ]
    },
    {
     "name": "stdout",
     "output_type": "stream",
     "text": [
      "True\n"
     ]
    }
   ],
   "source": [
    "a=str(input())\n",
    "b=str(input())\n",
    "print(a==\"hello\" or b==\"world\") #  OR string using inthe logical operator"
   ]
  },
  {
   "cell_type": "code",
   "execution_count": 17,
   "id": "2058c2b2-b0e1-4558-852f-a94b61783a7f",
   "metadata": {},
   "outputs": [
    {
     "name": "stdin",
     "output_type": "stream",
     "text": [
      " user\n",
      " 12345\n"
     ]
    },
    {
     "name": "stdout",
     "output_type": "stream",
     "text": [
      "True\n"
     ]
    }
   ],
   "source": [
    "a=str(input())\n",
    "b=int(input())\n",
    "print(a==\"user\" and b==12345) # AND string + int using inthe logical operator"
   ]
  }
 ],
 "metadata": {
  "kernelspec": {
   "display_name": "Python [conda env:base] *",
   "language": "python",
   "name": "conda-base-py"
  },
  "language_info": {
   "codemirror_mode": {
    "name": "ipython",
    "version": 3
   },
   "file_extension": ".py",
   "mimetype": "text/x-python",
   "name": "python",
   "nbconvert_exporter": "python",
   "pygments_lexer": "ipython3",
   "version": "3.13.5"
  }
 },
 "nbformat": 4,
 "nbformat_minor": 5
}
