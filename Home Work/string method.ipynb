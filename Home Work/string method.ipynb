{
 "cells": [
  {
   "cell_type": "code",
   "execution_count": 3,
   "id": "bbc7e3f6-9c58-4487-a0f8-c6b3352b2e13",
   "metadata": {},
   "outputs": [
    {
     "name": "stdout",
     "output_type": "stream",
     "text": [
      "today will be holiday\n"
     ]
    }
   ],
   "source": [
    "#case fold \n",
    "\n",
    "info=\"Today Will Be Holiday\" # case fold that can change the sentence into lower\n",
    "a=info.casefold()\n",
    "print(a)"
   ]
  },
  {
   "cell_type": "code",
   "execution_count": 10,
   "id": "c0523e2a-2fc0-4351-91c9-280594a74e2e",
   "metadata": {},
   "outputs": [
    {
     "name": "stdout",
     "output_type": "stream",
     "text": [
      "    computer   \n"
     ]
    }
   ],
   "source": [
    "#center\n",
    "info=\"computer\"\n",
    "a=info.center(15) # that can be used to aline the string into center\n",
    "print(a)"
   ]
  },
  {
   "cell_type": "code",
   "execution_count": 14,
   "id": "b61503cb-560d-496d-97eb-84e84749349b",
   "metadata": {},
   "outputs": [
    {
     "name": "stdout",
     "output_type": "stream",
     "text": [
      "3\n"
     ]
    }
   ],
   "source": [
    "# count\n",
    "info=\"Today Will Be Holiday,Holiday,Holiday\" \n",
    "a=info.count(\"Holiday\") #that will be count the string in how many times they occure\n",
    "print(a)"
   ]
  },
  {
   "cell_type": "code",
   "execution_count": 15,
   "id": "e8f73006-66de-42b5-9ef4-a26489215eab",
   "metadata": {},
   "outputs": [
    {
     "name": "stdout",
     "output_type": "stream",
     "text": [
      "14\n"
     ]
    }
   ],
   "source": [
    "#index\n",
    "info=\"Today Will Be Holiday\" #find the string  position from the begining \n",
    "a=info.index(\"Holiday\") \n",
    "print(a)"
   ]
  },
  {
   "cell_type": "code",
   "execution_count": 16,
   "id": "4fe79060-bb03-4451-b90c-f84965715c4e",
   "metadata": {},
   "outputs": [
    {
     "name": "stdout",
     "output_type": "stream",
     "text": [
      "15\n"
     ]
    }
   ],
   "source": [
    "#between the range position\n",
    "info=\"Today Will Be Holiday\" #that find the position betw the range\n",
    "a=info.index(\"o\",5,20) \n",
    "print(a)"
   ]
  },
  {
   "cell_type": "code",
   "execution_count": 17,
   "id": "07d056e8-e6ac-45dd-814a-37f768bb5f26",
   "metadata": {},
   "outputs": [
    {
     "name": "stdout",
     "output_type": "stream",
     "text": [
      "Today govt school will be working day\n"
     ]
    }
   ],
   "source": [
    "#format\n",
    "school=\"govt\"\n",
    "day=\"working\"\n",
    "a=f\"Today {school} school will be {day} day\"# format to assign the static values\n",
    "print(a)"
   ]
  },
  {
   "cell_type": "code",
   "execution_count": null,
   "id": "5f99a09d-aba7-4576-a644-b11bc6fbbafc",
   "metadata": {},
   "outputs": [
    {
     "name": "stdin",
     "output_type": "stream",
     "text": [
      "which sector Private\n"
     ]
    }
   ],
   "source": [
    "#format dynamic\n",
    "school=input(\"which sector\")\n",
    "day=input(\"working or Holiday\")\n",
    "a=f\"Today {school} school will be {day} day\"# format to assign the static values\n",
    "print(a)"
   ]
  }
 ],
 "metadata": {
  "kernelspec": {
   "display_name": "Python [conda env:base] *",
   "language": "python",
   "name": "conda-base-py"
  },
  "language_info": {
   "codemirror_mode": {
    "name": "ipython",
    "version": 3
   },
   "file_extension": ".py",
   "mimetype": "text/x-python",
   "name": "python",
   "nbconvert_exporter": "python",
   "pygments_lexer": "ipython3",
   "version": "3.13.5"
  }
 },
 "nbformat": 4,
 "nbformat_minor": 5
}
