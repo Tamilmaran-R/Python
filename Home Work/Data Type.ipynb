{
 "cells": [
  {
   "cell_type": "code",
   "execution_count": 2,
   "id": "e0e85ade-be3d-4712-8f83-0e16a1aedd7a",
   "metadata": {},
   "outputs": [
    {
     "data": {
      "text/plain": [
       "'Max'"
      ]
     },
     "execution_count": 2,
     "metadata": {},
     "output_type": "execute_result"
    }
   ],
   "source": [
    "#String\n",
    "\n",
    "Name=\"Max\"\n",
    "Name"
   ]
  },
  {
   "cell_type": "code",
   "execution_count": 9,
   "id": "1f65bcc5-2618-4cae-ac2e-fc5201704ae6",
   "metadata": {},
   "outputs": [
    {
     "name": "stdout",
     "output_type": "stream",
     "text": [
      "20\n",
      "<class 'int'>\n",
      "20.5\n",
      "<class 'float'>\n",
      "(1+20j)\n",
      "<class 'complex'>\n",
      "True\n",
      "<class 'bool'>\n"
     ]
    }
   ],
   "source": [
    "#Data Type\n",
    "\n",
    "#integer\n",
    "Mark=20\n",
    "print(Mark)\n",
    "print(type(Mark))\n",
    "\n",
    "#Float\n",
    "Mark1=20.5\n",
    "print(Mark1)\n",
    "print(type(Mark1))\n",
    "\n",
    "#Complex\n",
    "Mark2= 1+20j\n",
    "print(Mark2)\n",
    "print(type(Mark2))\n",
    "\n",
    "#Boolean\n",
    "Mark3=True\n",
    "print(Mark3)\n",
    "print(type(Mark3))\n",
    "\n"
   ]
  },
  {
   "cell_type": "code",
   "execution_count": 19,
   "id": "e378c785-358f-4168-aba1-9a174b2ae5fa",
   "metadata": {},
   "outputs": [
    {
     "name": "stdout",
     "output_type": "stream",
     "text": [
      "20.0\n",
      "20\n",
      "(20+0j)\n"
     ]
    }
   ],
   "source": [
    "#casting\n",
    "# int\n",
    "Mark1=float(20) #int converted to float\n",
    "\n",
    "Mark2=str(20) #int converted to str\n",
    "\n",
    "Mark3=complex(20) #int converted to complex\n",
    "\n",
    "print(Mark1)\n",
    "print(Mark2)\n",
    "print(Mark3)"
   ]
  },
  {
   "cell_type": "code",
   "execution_count": 20,
   "id": "6a1663ff-ed57-4c7c-9339-d5d3989eb51f",
   "metadata": {},
   "outputs": [
    {
     "name": "stdout",
     "output_type": "stream",
     "text": [
      "20\n",
      "20.3\n",
      "(20.3+0j)\n"
     ]
    }
   ],
   "source": [
    "#casting\n",
    "# float\n",
    "Mark1=int(20.3) #Float converted to int\n",
    "\n",
    "Mark2=str(20.3) #Float converted to str\n",
    "\n",
    "Mark3=(20.3) #Float converted to complex\n",
    "\n",
    "print(Mark1)\n",
    "print(Mark2)\n",
    "print(Mark3)"
   ]
  },
  {
   "cell_type": "code",
   "execution_count": 29,
   "id": "a9478288-5372-4a91-a6bf-334678421f46",
   "metadata": {
    "scrolled": true
   },
   "outputs": [
    {
     "ename": "TypeError",
     "evalue": "int() argument must be a string, a bytes-like object or a real number, not 'complex'",
     "output_type": "error",
     "traceback": [
      "\u001b[1;31m---------------------------------------------------------------------------\u001b[0m",
      "\u001b[1;31mTypeError\u001b[0m                                 Traceback (most recent call last)",
      "Cell \u001b[1;32mIn[29], line 3\u001b[0m\n\u001b[0;32m      1\u001b[0m \u001b[38;5;66;03m#casting\u001b[39;00m\n\u001b[0;32m      2\u001b[0m \u001b[38;5;66;03m# complex\u001b[39;00m\n\u001b[1;32m----> 3\u001b[0m Mark1\u001b[38;5;241m=\u001b[39m\u001b[38;5;28mint\u001b[39m(\u001b[38;5;241m3\u001b[39m\u001b[38;5;241m+\u001b[39m\u001b[38;5;241m0\u001b[39mj) \u001b[38;5;66;03m#complex converted to int (invalid)\u001b[39;00m\n\u001b[0;32m      5\u001b[0m Mark2\u001b[38;5;241m=\u001b[39m\u001b[38;5;28mstr\u001b[39m(\u001b[38;5;241m3\u001b[39m\u001b[38;5;241m+\u001b[39m\u001b[38;5;241m0\u001b[39mj) \u001b[38;5;66;03m#complex converted to str (valid)\u001b[39;00m\n\u001b[0;32m      7\u001b[0m Mark3\u001b[38;5;241m=\u001b[39m\u001b[38;5;28mfloat\u001b[39m(\u001b[38;5;241m3\u001b[39m\u001b[38;5;241m+\u001b[39m\u001b[38;5;241m0\u001b[39mj) \u001b[38;5;66;03m#complex converted to float(invalid)\u001b[39;00m\n",
      "\u001b[1;31mTypeError\u001b[0m: int() argument must be a string, a bytes-like object or a real number, not 'complex'"
     ]
    }
   ],
   "source": [
    "#casting\n",
    "# complex\n",
    "Mark1=int(3+0j) #complex converted to int (invalid)\n",
    "\n",
    "Mark2=str(3+0j) #complex converted to str (valid)\n",
    "\n",
    "Mark3=float(3+0j) #complex converted to float(invalid)\n",
    "\n",
    "print(Mark2) \n",
    "print(Mark1)\n",
    "print(Mark3)"
   ]
  },
  {
   "cell_type": "code",
   "execution_count": 28,
   "id": "eb1f2a44-49b3-49ad-ba4d-17172c5df435",
   "metadata": {},
   "outputs": [
    {
     "data": {
      "text/plain": [
       "'(3+0j)'"
      ]
     },
     "execution_count": 28,
     "metadata": {},
     "output_type": "execute_result"
    }
   ],
   "source": [
    "Mark2=str(3+0j) #complex converted to str\n",
    "Mark2"
   ]
  },
  {
   "cell_type": "code",
   "execution_count": 32,
   "id": "07f8867e-b5e5-4796-b8a5-b63e9a9a5466",
   "metadata": {},
   "outputs": [
    {
     "name": "stdout",
     "output_type": "stream",
     "text": [
      "3.0\n",
      "0\n"
     ]
    }
   ],
   "source": [
    "Mark2=(3+0j)  # convert the complex into float and int\n",
    "print(float(Mark2.real))\n",
    "print(int(Mark2.imag))\n"
   ]
  },
  {
   "cell_type": "code",
   "execution_count": null,
   "id": "a97e6897-d02e-41c5-b194-f2c382492334",
   "metadata": {},
   "outputs": [],
   "source": []
  }
 ],
 "metadata": {
  "kernelspec": {
   "display_name": "Python [conda env:base] *",
   "language": "python",
   "name": "conda-base-py"
  },
  "language_info": {
   "codemirror_mode": {
    "name": "ipython",
    "version": 3
   },
   "file_extension": ".py",
   "mimetype": "text/x-python",
   "name": "python",
   "nbconvert_exporter": "python",
   "pygments_lexer": "ipython3",
   "version": "3.13.5"
  }
 },
 "nbformat": 4,
 "nbformat_minor": 5
}
