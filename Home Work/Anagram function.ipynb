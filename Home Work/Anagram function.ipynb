{
 "cells": [
  {
   "cell_type": "code",
   "execution_count": 15,
   "id": "34b43caf-ad7d-4e07-beab-1fa154871ed8",
   "metadata": {},
   "outputs": [
    {
     "name": "stdin",
     "output_type": "stream",
     "text": [
      "enter sszs\n",
      "enter sz\n"
     ]
    },
    {
     "name": "stdout",
     "output_type": "stream",
     "text": [
      "not anagram\n"
     ]
    }
   ],
   "source": [
    "\n",
    "def anagram(a,b):\n",
    "\n",
    "    counta={}\n",
    "    countb={}\n",
    "\n",
    "    for i in a:\n",
    "        if i in counta:\n",
    "            counta[i]+=1\n",
    "        else:\n",
    "            counta[i]=1\n",
    "\n",
    "    for j in b:\n",
    "        if j in countb:\n",
    "            countb[j]+=1\n",
    "        else:\n",
    "            countb[j]=1\n",
    "    \n",
    "    if counta == countb:\n",
    "        print(\"anagram\")\n",
    "    else:\n",
    "         print(\"not anagram\")\n",
    "\n",
    "a=input(\"enter\")\n",
    "b=input(\"enter\")\n",
    "\n",
    "anagram(a,b)\n",
    "\n",
    "    "
   ]
  },
  {
   "cell_type": "code",
   "execution_count": null,
   "id": "e8675788-d966-4f03-adf6-6dabfb592735",
   "metadata": {},
   "outputs": [],
   "source": []
  }
 ],
 "metadata": {
  "kernelspec": {
   "display_name": "Python [conda env:base] *",
   "language": "python",
   "name": "conda-base-py"
  },
  "language_info": {
   "codemirror_mode": {
    "name": "ipython",
    "version": 3
   },
   "file_extension": ".py",
   "mimetype": "text/x-python",
   "name": "python",
   "nbconvert_exporter": "python",
   "pygments_lexer": "ipython3",
   "version": "3.13.5"
  }
 },
 "nbformat": 4,
 "nbformat_minor": 5
}
