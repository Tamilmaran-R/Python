{
 "cells": [
  {
   "cell_type": "code",
   "execution_count": 2,
   "id": "67105126-97fc-4ed4-97af-c0fd6a88234c",
   "metadata": {},
   "outputs": [
    {
     "name": "stdout",
     "output_type": "stream",
     "text": [
      "50\n"
     ]
    }
   ],
   "source": [
    "#Values\n",
    "\n",
    "mark1=50   #Assign the values for variable\n",
    "print(mark1)"
   ]
  },
  {
   "cell_type": "code",
   "execution_count": 4,
   "id": "c1b78fb7-8ff3-4850-ae6e-0f02f90cf5ba",
   "metadata": {},
   "outputs": [
    {
     "name": "stdout",
     "output_type": "stream",
     "text": [
      "65\n",
      "50\n",
      "70\n"
     ]
    }
   ],
   "source": [
    "# multiple values\n",
    "\n",
    "mark1,mark2,mark3=50,65,70   #Assign the multiple values in multiple variable \n",
    "print(mark2)\n",
    "print(mark1)\n",
    "print(mark3)"
   ]
  },
  {
   "cell_type": "code",
   "execution_count": 7,
   "id": "bf155e38-be11-41e9-9d0b-8bebcb011bfb",
   "metadata": {},
   "outputs": [
    {
     "name": "stdout",
     "output_type": "stream",
     "text": [
      "185\n"
     ]
    }
   ],
   "source": [
    "# Static values\n",
    "\n",
    "mark1=50  #static values cannot change \n",
    "mark2=65\n",
    "mark3=70\n",
    "print(mark1+mark2+mark3)"
   ]
  },
  {
   "cell_type": "code",
   "execution_count": 14,
   "id": "cf44338d-8d19-4e77-9ffa-a2364a2c2ac9",
   "metadata": {},
   "outputs": [
    {
     "name": "stdin",
     "output_type": "stream",
     "text": [
      "Enter the mark1: 50\n",
      "Enter the mark2: 65\n",
      "Enter the mark3: 70\n"
     ]
    },
    {
     "name": "stdout",
     "output_type": "stream",
     "text": [
      "50\n",
      "65\n",
      "70\n"
     ]
    }
   ],
   "source": [
    "#Dynamic values\n",
    "\n",
    "mark1=input(\"Enter the mark1:\")\n",
    "mark2=input(\"Enter the mark2:\")\n",
    "mark3=input(\"Enter the mark3:\")\n",
    "print(mark1)\n",
    "print(mark2)\n",
    "print(mark3)\n",
    "\n"
   ]
  },
  {
   "cell_type": "code",
   "execution_count": null,
   "id": "c272ba34-30a0-4c03-9183-a99c4cccacf6",
   "metadata": {},
   "outputs": [],
   "source": []
  }
 ],
 "metadata": {
  "kernelspec": {
   "display_name": "Python [conda env:base] *",
   "language": "python",
   "name": "conda-base-py"
  },
  "language_info": {
   "codemirror_mode": {
    "name": "ipython",
    "version": 3
   },
   "file_extension": ".py",
   "mimetype": "text/x-python",
   "name": "python",
   "nbconvert_exporter": "python",
   "pygments_lexer": "ipython3",
   "version": "3.13.5"
  }
 },
 "nbformat": 4,
 "nbformat_minor": 5
}
