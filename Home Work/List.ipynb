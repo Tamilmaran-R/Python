{
 "cells": [
  {
   "cell_type": "code",
   "execution_count": 1,
   "id": "bbb1b1a6-08ab-4051-99d6-e67d9d0a2a41",
   "metadata": {},
   "outputs": [
    {
     "name": "stdout",
     "output_type": "stream",
     "text": [
      "[20, 30, 40, 50, 60]\n"
     ]
    }
   ],
   "source": [
    "#List\n",
    "\n",
    "a=[20,30,40,50,60]\n",
    "print(a)\n"
   ]
  },
  {
   "cell_type": "code",
   "execution_count": 2,
   "id": "fb0c9013-6bf1-44d3-b2a8-db938b9c7cd9",
   "metadata": {},
   "outputs": [
    {
     "name": "stdout",
     "output_type": "stream",
     "text": [
      "[20, 30, 40, 50, 60, 60, 30]\n"
     ]
    }
   ],
   "source": [
    "a=[20,30,40,50,60,60,30] #also store duplicate\n",
    "print(a)"
   ]
  },
  {
   "cell_type": "code",
   "execution_count": 3,
   "id": "1014ee23-3338-4ec5-a5ea-29372df93823",
   "metadata": {},
   "outputs": [
    {
     "name": "stdout",
     "output_type": "stream",
     "text": [
      "7\n"
     ]
    }
   ],
   "source": [
    "a=[20,30,40,50,60,60,30] #length\n",
    "print(len(a))"
   ]
  },
  {
   "cell_type": "code",
   "execution_count": 8,
   "id": "3b95c160-5d8d-496c-8efb-2f7c93dbae34",
   "metadata": {},
   "outputs": [
    {
     "name": "stdout",
     "output_type": "stream",
     "text": [
      "30\n",
      "[20, 30]\n",
      "[40, 50, 60]\n"
     ]
    }
   ],
   "source": [
    "#access the list\n",
    "\n",
    "a=[20,30,40,50,60]\n",
    "print(a[1]) #acess the single item\n",
    "\n",
    "print(a[0:2]) #access the between the range\n",
    "print(a[2:5])"
   ]
  },
  {
   "cell_type": "code",
   "execution_count": 9,
   "id": "76311dd6-9559-4a57-b43b-d50d682ecf31",
   "metadata": {},
   "outputs": [
    {
     "name": "stdout",
     "output_type": "stream",
     "text": [
      "40\n"
     ]
    }
   ],
   "source": [
    "a=[20,[30,40],50,60]\n",
    "print(a[1][1]) #nested list - that can be used to access the insidelist\n"
   ]
  },
  {
   "cell_type": "code",
   "execution_count": 10,
   "id": "1bb4087d-6bd2-4fc8-87aa-1291dc1f9665",
   "metadata": {},
   "outputs": [
    {
     "name": "stdout",
     "output_type": "stream",
     "text": [
      "[20, 30]\n"
     ]
    }
   ],
   "source": [
    "a=[20,30,40,50,60]\n",
    "print(a[:2])#before index"
   ]
  },
  {
   "cell_type": "code",
   "execution_count": 11,
   "id": "853c3a8f-e646-4039-a9fd-45a65ffbebf0",
   "metadata": {},
   "outputs": [
    {
     "name": "stdout",
     "output_type": "stream",
     "text": [
      "[40, 50, 60]\n"
     ]
    }
   ],
   "source": [
    "a=[20,30,40,50,60]\n",
    "print(a[2:])#after index"
   ]
  },
  {
   "cell_type": "code",
   "execution_count": 15,
   "id": "7e1dd620-2656-4c0e-9948-a8f5636b0dbf",
   "metadata": {},
   "outputs": [
    {
     "name": "stdout",
     "output_type": "stream",
     "text": [
      "20\n",
      "60\n"
     ]
    }
   ],
   "source": [
    "a=[20,30,40,50,60]\n",
    "print(a[-5])#negative index reverse\n",
    "print(a[-1])#negative index reverse"
   ]
  },
  {
   "cell_type": "code",
   "execution_count": 19,
   "id": "ba25d6fd-619f-49d5-bc26-1b7c90d5ef68",
   "metadata": {},
   "outputs": [
    {
     "name": "stdout",
     "output_type": "stream",
     "text": [
      "['a', 'b', 'c']\n"
     ]
    }
   ],
   "source": [
    "m=[\"a\",\"b\",\"c\",\"d\",\"e\"]\n",
    "print(m[-5:-2]) #negative range items"
   ]
  },
  {
   "cell_type": "code",
   "execution_count": 20,
   "id": "b2fc460b-3c9a-4322-a74a-b4ba8ebcd780",
   "metadata": {},
   "outputs": [
    {
     "name": "stdout",
     "output_type": "stream",
     "text": [
      "the letter NOT available\n"
     ]
    }
   ],
   "source": [
    "#if condition used in the list\n",
    "m=[\"a\",\"b\",\"c\",\"d\",\"e\"]\n",
    "if \"f\" in m:\n",
    "    print(\"the letter available\")\n",
    "else:\n",
    "     print(\"the letter NOT available\")\n"
   ]
  },
  {
   "cell_type": "code",
   "execution_count": 23,
   "id": "c783efcb-04e9-4509-ae6f-001811d68790",
   "metadata": {},
   "outputs": [
    {
     "name": "stdout",
     "output_type": "stream",
     "text": [
      "['AI', 'java', 'CSS', 'HTML', 'PY']\n"
     ]
    }
   ],
   "source": [
    "k=[\"AI\",\"ML\",\"CSS\",\"HTML\",\"PY\"]\n",
    "k[1:2]=[\"java\"] #repalce one value\n",
    "print(k)"
   ]
  },
  {
   "cell_type": "code",
   "execution_count": 22,
   "id": "ccf75973-4a18-4f88-b1f6-2af421bdb1b0",
   "metadata": {},
   "outputs": [
    {
     "name": "stdout",
     "output_type": "stream",
     "text": [
      "['AI', 'java', 'react', 'HTML', 'PY']\n"
     ]
    }
   ],
   "source": [
    "k=[\"AI\",\"ML\",\"CSS\",\"HTML\",\"PY\"]\n",
    "k[1:3]=[\"java\",\"react\"] #replace two values\n",
    "print(k)"
   ]
  },
  {
   "cell_type": "code",
   "execution_count": 25,
   "id": "1526c95c-40ec-49d6-8b48-af5522c79487",
   "metadata": {},
   "outputs": [
    {
     "name": "stdout",
     "output_type": "stream",
     "text": [
      "['AI', 'sql', 'ML', 'CSS', 'HTML', 'PY']\n"
     ]
    }
   ],
   "source": [
    "k=[\"AI\",\"ML\",\"CSS\",\"HTML\",\"PY\"]\n",
    "k.insert(1,\"sql\")\n",
    "print(k)                        # insert"
   ]
  },
  {
   "cell_type": "code",
   "execution_count": 26,
   "id": "bef413ec-98f9-4252-b2bd-dbb9ad8de791",
   "metadata": {},
   "outputs": [
    {
     "name": "stdout",
     "output_type": "stream",
     "text": [
      "['AI', 'ML', 'CSS', 'HTML', 'PY', 'sql']\n"
     ]
    }
   ],
   "source": [
    "#append\n",
    "\n",
    "k=[\"AI\",\"ML\",\"CSS\",\"HTML\",\"PY\"]\n",
    "k.append(\"sql\")\n",
    "print(k)"
   ]
  },
  {
   "cell_type": "code",
   "execution_count": 27,
   "id": "c840c348-0c53-4d0e-aedf-81531a4e3b35",
   "metadata": {},
   "outputs": [
    {
     "name": "stdout",
     "output_type": "stream",
     "text": [
      "['AI', 'ML', 'CSS', 'HTML', 'PY', 20, 30, 40, 50, 60]\n"
     ]
    }
   ],
   "source": [
    "#extend \n",
    "k=[\"AI\",\"ML\",\"CSS\",\"HTML\",\"PY\"]\n",
    "a=[20,30,40,50,60]\n",
    "k.extend(a) # extend the second var\n",
    "print(k) "
   ]
  },
  {
   "cell_type": "code",
   "execution_count": 28,
   "id": "5d869676-901a-4b28-933e-ed79555f21f7",
   "metadata": {},
   "outputs": [
    {
     "name": "stdout",
     "output_type": "stream",
     "text": [
      "['AI', 'ML', 'HTML', 'PY']\n"
     ]
    }
   ],
   "source": [
    "#Remove Specified Item\n",
    "k=[\"AI\",\"ML\",\"CSS\",\"HTML\",\"PY\"]\n",
    "k.remove(\"CSS\")\n",
    "print(k)\n"
   ]
  },
  {
   "cell_type": "code",
   "execution_count": 32,
   "id": "33aa445d-14d3-47e0-a0f1-b2a3352cf1f0",
   "metadata": {},
   "outputs": [
    {
     "name": "stdout",
     "output_type": "stream",
     "text": [
      "['AI', 'CSS', 'HTML', 'PY']\n"
     ]
    }
   ],
   "source": [
    "#Remove Specified Index\n",
    "k=[\"AI\",\"ML\",\"CSS\",\"HTML\",\"PY\"]\n",
    "k.pop(1)\n",
    "print(k)"
   ]
  },
  {
   "cell_type": "code",
   "execution_count": 33,
   "id": "d404bde4-1112-4498-b9de-b91bd91f0c6a",
   "metadata": {},
   "outputs": [
    {
     "name": "stdout",
     "output_type": "stream",
     "text": [
      "['AI', 'ML', 'CSS', 'HTML']\n"
     ]
    }
   ],
   "source": [
    "#Remove last item\n",
    "\n",
    "k=[\"AI\",\"ML\",\"CSS\",\"HTML\",\"PY\"]\n",
    "k.pop()\n",
    "print(k)"
   ]
  },
  {
   "cell_type": "code",
   "execution_count": 36,
   "id": "035a439c-9560-4c26-8f66-ac11befae3b5",
   "metadata": {},
   "outputs": [
    {
     "data": {
      "text/plain": [
       "['a', 'c', 'd', 'e']"
      ]
     },
     "execution_count": 36,
     "metadata": {},
     "output_type": "execute_result"
    }
   ],
   "source": [
    "#delete specific index\n",
    "m=[\"a\",\"b\",\"c\",\"d\",\"e\"]\n",
    "del m[1]\n",
    "m\n"
   ]
  },
  {
   "cell_type": "code",
   "execution_count": 38,
   "id": "9742f491-5f1a-4f05-8aee-75994ac5cc7e",
   "metadata": {},
   "outputs": [],
   "source": [
    "m=[\"a\",\"b\",\"c\",\"d\",\"e\"]\n",
    "del m #delete the entire list\n"
   ]
  },
  {
   "cell_type": "code",
   "execution_count": 41,
   "id": "98075126-f8ac-4254-8cda-94f54328708b",
   "metadata": {},
   "outputs": [
    {
     "name": "stdout",
     "output_type": "stream",
     "text": [
      "[]\n"
     ]
    }
   ],
   "source": [
    "#clear every thing \n",
    "m=[\"a\",\"b\",\"c\",\"d\",\"e\"]\n",
    "m.clear()\n",
    "print(m)"
   ]
  },
  {
   "cell_type": "code",
   "execution_count": null,
   "id": "98890bdc-0b9e-4d46-96f8-4c8cc1a13f7a",
   "metadata": {},
   "outputs": [],
   "source": []
  }
 ],
 "metadata": {
  "kernelspec": {
   "display_name": "Python [conda env:base] *",
   "language": "python",
   "name": "conda-base-py"
  },
  "language_info": {
   "codemirror_mode": {
    "name": "ipython",
    "version": 3
   },
   "file_extension": ".py",
   "mimetype": "text/x-python",
   "name": "python",
   "nbconvert_exporter": "python",
   "pygments_lexer": "ipython3",
   "version": "3.13.5"
  }
 },
 "nbformat": 4,
 "nbformat_minor": 5
}
