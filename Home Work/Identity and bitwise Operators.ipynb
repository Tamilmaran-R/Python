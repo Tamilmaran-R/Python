{
 "cells": [
  {
   "cell_type": "code",
   "execution_count": 4,
   "id": "36769ba4-2785-4edd-a9e4-c5146cc0e9b6",
   "metadata": {},
   "outputs": [
    {
     "name": "stdout",
     "output_type": "stream",
     "text": [
      "False\n",
      "False\n",
      "True\n",
      "True\n",
      "True\n"
     ]
    }
   ],
   "source": [
    "#Identity Operators\n",
    "\n",
    "a=[123456]\n",
    "b=[1234567]\n",
    "c=a\n",
    "a1=c\n",
    "print(a is b) #is - True if equal\n",
    "print(b is a)\n",
    "print(a is c)\n",
    "print(a1 is a)\n",
    "print(b is not a) #is not - True if not equal"
   ]
  },
  {
   "cell_type": "code",
   "execution_count": 7,
   "id": "5a78ae5c-48be-4193-af1d-ba67c8d79b92",
   "metadata": {},
   "outputs": [
    {
     "name": "stdout",
     "output_type": "stream",
     "text": [
      "True\n",
      "False\n",
      "True\n"
     ]
    }
   ],
   "source": [
    "#Membership Operators\n",
    "\n",
    "a=[\"vivo\",\"Mi\",\"Apple\"]\n",
    "print(\"Mi\" in a)  #\"IN\" that can be used to check the string inside the list\n",
    "\n",
    "print(\"Nothing\" in a)\n",
    "\n",
    "b=[\"vivo\",\"Mi\",\"Apple\"]\n",
    "print(\"Techno\" not in b)  #\"NOT IN\" that can be used to check the string not inside the list"
   ]
  },
  {
   "cell_type": "code",
   "execution_count": 15,
   "id": "895fd68f-1dd2-46ea-a3e3-c0f80ce41285",
   "metadata": {},
   "outputs": [
    {
     "name": "stdout",
     "output_type": "stream",
     "text": [
      "4\n",
      "5\n",
      "1\n",
      "-6\n",
      "0\n"
     ]
    }
   ],
   "source": [
    "#Bitwise Operators\n",
    "\n",
    "a=5\n",
    "b=4\n",
    "print(a&b) #AND both have 1 they return 1 else 0\n",
    "\n",
    "print(a|b) #OR anyone have 1 they return 1 \n",
    "\n",
    "print(a^b)    # XOR The ^ operator compares each bit and set it to 1 if only one is 1, otherwise (if both are 1 or both are 0) it is set to 0\n",
    "\n",
    "print(~a) #NOT inverts all \n",
    "\n",
    " "
   ]
  },
  {
   "cell_type": "code",
   "execution_count": 19,
   "id": "e13df719-2ff8-4823-a9e0-7ed2c55ffe67",
   "metadata": {},
   "outputs": [
    {
     "name": "stdout",
     "output_type": "stream",
     "text": [
      "40\n",
      "160\n"
     ]
    }
   ],
   "source": [
    "#Zero fill left shift\n",
    "\n",
    "a=10\n",
    "print(a<<2)\n",
    "print(a<<4)"
   ]
  },
  {
   "cell_type": "code",
   "execution_count": 21,
   "id": "37fa9478-669c-4ed2-a218-8d33ba20b95c",
   "metadata": {},
   "outputs": [
    {
     "name": "stdout",
     "output_type": "stream",
     "text": [
      "5\n"
     ]
    }
   ],
   "source": [
    "#right shift\n",
    "a=10\n",
    "print(a>>1)"
   ]
  }
 ],
 "metadata": {
  "kernelspec": {
   "display_name": "Python [conda env:base] *",
   "language": "python",
   "name": "conda-base-py"
  },
  "language_info": {
   "codemirror_mode": {
    "name": "ipython",
    "version": 3
   },
   "file_extension": ".py",
   "mimetype": "text/x-python",
   "name": "python",
   "nbconvert_exporter": "python",
   "pygments_lexer": "ipython3",
   "version": "3.13.5"
  }
 },
 "nbformat": 4,
 "nbformat_minor": 5
}
