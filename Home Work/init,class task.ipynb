{
 "cells": [
  {
   "cell_type": "code",
   "execution_count": null,
   "id": "739e48d7-492b-45a8-ac2d-e4aff675ed2c",
   "metadata": {},
   "outputs": [],
   "source": [
    "Task:\n",
    "mark={\"Tamil\":90,\"English\":95,\"maths\":91}\n"
   ]
  },
  {
   "cell_type": "code",
   "execution_count": null,
   "id": "8856ea48-9179-47c9-bfe0-e24bfc8fe93f",
   "metadata": {},
   "outputs": [],
   "source": [
    "\n",
    "#class\n",
    "a=int(input(\"enter\"))\n",
    "b=int(input(\"enter\"))\n",
    "class mark:\n",
    "    def mult(self):\n",
    "        if a!=b:\n",
    "            return a*b\n",
    "        else:\n",
    "            print(\"invalid\")\n",
    "m=mark()\n",
    "k=m.mult()\n",
    "print(k)\n"
   ]
  },
  {
   "cell_type": "code",
   "execution_count": null,
   "id": "b07e4d1c-269f-4348-9115-5909305a6682",
   "metadata": {},
   "outputs": [],
   "source": [
    "'''mark task\n",
    " class task using function:\n",
    " using init function  cal add and sub=multi,multi%add=dive'''\n",
    "\n",
    " "
   ]
  },
  {
   "cell_type": "code",
   "execution_count": null,
   "id": "7af5d4f9-a39b-4860-bf65-26ec6f8a6585",
   "metadata": {},
   "outputs": [],
   "source": [
    "'''login,add,update,delete\n",
    "d={\"user1\":{\"name\":\"\",\"age\"=\"\",\"place\"=\"\",\"dep\"=\"\"}}\n",
    "'''\n"
   ]
  },
  {
   "cell_type": "code",
   "execution_count": 9,
   "id": "fd8d5aa5-ddfd-40be-802f-8cbb869bd470",
   "metadata": {},
   "outputs": [
    {
     "name": "stdin",
     "output_type": "stream",
     "text": [
      "enter insert key name\n",
      "enter insert value tamil\n"
     ]
    },
    {
     "name": "stdout",
     "output_type": "stream",
     "text": [
      "{'user1': {'name': 'tamil', 'age': 20, 'place': 'zyz', 'dep': 'cs', 'password': 123}}\n"
     ]
    }
   ],
   "source": [
    "'''\n",
    "d={\"user1\":{\"name\":\"xyz\",\"age\":20,\"place\":\"zyz\",\"dep\":\"cs\",\"password\":123}}\n",
    "\n",
    "def login():\n",
    "    a=input(\"enter name\")\n",
    "    b=int(input(\"enter password\"))\n",
    "\n",
    "    if a==(d[\"user1\"][\"name\"])and b==(d[\"user1\"][\"password\"]):\n",
    "        print(\"account login\")\n",
    "    else:\n",
    "        print(\"invalid\")\n",
    "login()\n",
    "\n",
    "def insert():\n",
    "    user=input(\"enter user\")\n",
    "    c=input(\"enter insert key\")\n",
    "    e=input(\"enter insert value\")\n",
    "    if user in d:\n",
    "        d[user][c]=e\n",
    "        print(d)\n",
    "    \n",
    "insert()\n",
    "'''\n",
    "d={\"user1\":{\"name\":\"xyz\",\"age\":20,\"place\":\"zyz\",\"dep\":\"cs\",\"password\":123}}\n",
    "\n",
    "def updated():\n",
    "    u1=input(\"enter insert key\")\n",
    "    u2=input(\"enter insert value\")\n",
    "    \n",
    "    if u1 in d[\"user1\"]:\n",
    "        d[\"user1\"][u1]=u2\n",
    "        print(d)\n",
    "\n",
    "updated()\n",
    "\n",
    "\n",
    "        \n",
    "    \n"
   ]
  },
  {
   "cell_type": "code",
   "execution_count": null,
   "id": "146241be-e074-42f5-aa9b-ce9df4f24ca9",
   "metadata": {},
   "outputs": [],
   "source": [
    "a={\"Tamil\":90,\"English\":95,\"maths\":91}\n",
    "b={}\n",
    "c=-1\n",
    "for i,j in a.items():\n",
    "    if j>c:\n",
    "        c=j\n",
    "        b=i\n",
    "print(f\"{b},{c}\")\n",
    "    \n"
   ]
  },
  {
   "cell_type": "markdown",
   "id": "0f1082bd-b105-46e1-b2e7-85a355a3a885",
   "metadata": {},
   "source": [
    "# "
   ]
  },
  {
   "cell_type": "code",
   "execution_count": null,
   "id": "a469eb71-3305-40f8-a8a9-cc3cafe4fb1f",
   "metadata": {},
   "outputs": [],
   "source": [
    "'''class task using function:using init function  cal add and sub=multi,multi%add=dive'''\n",
    "\n",
    "class money():\n",
    "    def __init__(self,a,b):\n",
    "        self.money1=a\n",
    "        self.money2=b\n",
    "    def add(self):\n",
    "        c=self.money1+self.money2\n",
    "        return c\n",
    "    def sub(self):\n",
    "        d=self.money1-self.money2\n",
    "        return d\n",
    "    def multi(self):\n",
    "        e=self.add()*self.sub()\n",
    "        return e\n",
    "    def div(self):\n",
    "        f=self.multi()//self.add()\n",
    "        return f\n",
    "        \n",
    "money1=int(input(\"enter1\"))\n",
    "money2=int(input(\"enter2\"))\n",
    "\n",
    "pay=money(money1,money2)\n",
    "print(pay.add())\n",
    "print(pay.sub())\n",
    "print(pay.multi())\n",
    "print(pay.div())\n",
    "\n",
    "    "
   ]
  },
  {
   "cell_type": "code",
   "execution_count": null,
   "id": "d0abe952-64af-4ccb-bb37-0f99da651674",
   "metadata": {},
   "outputs": [],
   "source": []
  },
  {
   "cell_type": "code",
   "execution_count": null,
   "id": "fc76610a-81ea-49c5-abfd-127cbaa65290",
   "metadata": {},
   "outputs": [],
   "source": []
  }
 ],
 "metadata": {
  "kernelspec": {
   "display_name": "Python [conda env:base] *",
   "language": "python",
   "name": "conda-base-py"
  },
  "language_info": {
   "codemirror_mode": {
    "name": "ipython",
    "version": 3
   },
   "file_extension": ".py",
   "mimetype": "text/x-python",
   "name": "python",
   "nbconvert_exporter": "python",
   "pygments_lexer": "ipython3",
   "version": "3.13.5"
  }
 },
 "nbformat": 4,
 "nbformat_minor": 5
}
