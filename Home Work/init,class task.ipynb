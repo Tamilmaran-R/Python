{
 "cells": [
  {
   "cell_type": "code",
   "execution_count": null,
   "id": "739e48d7-492b-45a8-ac2d-e4aff675ed2c",
   "metadata": {},
   "outputs": [],
   "source": [
    "Task:\n",
    "mark={\"Tamil\":90,\"English\":95,\"maths\":91}\n"
   ]
  },
  {
   "cell_type": "code",
   "execution_count": null,
   "id": "8856ea48-9179-47c9-bfe0-e24bfc8fe93f",
   "metadata": {},
   "outputs": [],
   "source": [
    "\n",
    "#class\n",
    "a=int(input(\"enter\"))\n",
    "b=int(input(\"enter\"))\n",
    "class mark:\n",
    "    def mult(self):\n",
    "        if a!=b:\n",
    "            return a*b\n",
    "        else:\n",
    "            print(\"invalid\")\n",
    "m=mark()\n",
    "k=m.mult()\n",
    "print(k)\n"
   ]
  },
  {
   "cell_type": "code",
   "execution_count": null,
   "id": "b07e4d1c-269f-4348-9115-5909305a6682",
   "metadata": {},
   "outputs": [],
   "source": [
    "'''mark task\n",
    " class task using function:\n",
    " using init function  cal add and sub=multi,multi%add=dive'''\n",
    "\n",
    " "
   ]
  },
  {
   "cell_type": "code",
   "execution_count": null,
   "id": "7af5d4f9-a39b-4860-bf65-26ec6f8a6585",
   "metadata": {},
   "outputs": [],
   "source": [
    "'''login,add,update,delete\n",
    "d={\"user1\":{\"name\":\"\",\"age\"=\"\",\"place\"=\"\",\"dep\"=\"\"}}\n",
    "'''\n"
   ]
  },
  {
   "cell_type": "code",
   "execution_count": 29,
   "id": "146241be-e074-42f5-aa9b-ce9df4f24ca9",
   "metadata": {},
   "outputs": [
    {
     "ename": "NameError",
     "evalue": "name 'i' is not defined",
     "output_type": "error",
     "traceback": [
      "\u001b[1;31m---------------------------------------------------------------------------\u001b[0m",
      "\u001b[1;31mNameError\u001b[0m                                 Traceback (most recent call last)",
      "Cell \u001b[1;32mIn[29], line 6\u001b[0m\n\u001b[0;32m      4\u001b[0m         i\u001b[38;5;241m.\u001b[39mvalues\u001b[38;5;241m>\u001b[39m\u001b[38;5;241m90\u001b[39m\n\u001b[0;32m      5\u001b[0m         \u001b[38;5;28mprint\u001b[39m(i)\n\u001b[1;32m----> 6\u001b[0m \u001b[38;5;28mmax\u001b[39m()\n",
      "Cell \u001b[1;32mIn[29], line 3\u001b[0m, in \u001b[0;36mmax\u001b[1;34m()\u001b[0m\n\u001b[0;32m      1\u001b[0m \u001b[38;5;28;01mdef\u001b[39;00m\u001b[38;5;250m \u001b[39m\u001b[38;5;21mmax\u001b[39m():\n\u001b[0;32m      2\u001b[0m     a\u001b[38;5;241m=\u001b[39m{\u001b[38;5;124m\"\u001b[39m\u001b[38;5;124mTamil\u001b[39m\u001b[38;5;124m\"\u001b[39m:\u001b[38;5;241m90\u001b[39m,\u001b[38;5;124m\"\u001b[39m\u001b[38;5;124mEnglish\u001b[39m\u001b[38;5;124m\"\u001b[39m:\u001b[38;5;241m95\u001b[39m,\u001b[38;5;124m\"\u001b[39m\u001b[38;5;124mmaths\u001b[39m\u001b[38;5;124m\"\u001b[39m:\u001b[38;5;241m91\u001b[39m}\n\u001b[1;32m----> 3\u001b[0m     \u001b[38;5;28;01mif\u001b[39;00m i \u001b[38;5;129;01min\u001b[39;00m a:\n\u001b[0;32m      4\u001b[0m         i\u001b[38;5;241m.\u001b[39mvalues\u001b[38;5;241m>\u001b[39m\u001b[38;5;241m90\u001b[39m\n\u001b[0;32m      5\u001b[0m         \u001b[38;5;28mprint\u001b[39m(i)\n",
      "\u001b[1;31mNameError\u001b[0m: name 'i' is not defined"
     ]
    }
   ],
   "source": [
    "\n",
    "def max():\n",
    "    a={\"Tamil\":90,\"English\":95,\"maths\":91}\n",
    "    if i in a:\n",
    "        i.item\n",
    "        print(i)\n",
    "max()\n",
    "    "
   ]
  },
  {
   "cell_type": "markdown",
   "id": "0f1082bd-b105-46e1-b2e7-85a355a3a885",
   "metadata": {},
   "source": [
    "# "
   ]
  },
  {
   "cell_type": "code",
   "execution_count": 1,
   "id": "a469eb71-3305-40f8-a8a9-cc3cafe4fb1f",
   "metadata": {},
   "outputs": [
    {
     "name": "stdin",
     "output_type": "stream",
     "text": [
      "enter1 5\n",
      "enter2 2\n"
     ]
    },
    {
     "name": "stdout",
     "output_type": "stream",
     "text": [
      "7\n",
      "3\n",
      "21\n",
      "3\n"
     ]
    }
   ],
   "source": [
    "class money():\n",
    "    def __init__(self,a,b):\n",
    "        self.money1=a\n",
    "        self.money2=b\n",
    "    def add(self):\n",
    "        c=self.money1+self.money2\n",
    "        return c\n",
    "    def sub(self):\n",
    "        d=self.money1-self.money2\n",
    "        return d\n",
    "    def multi(self):\n",
    "        e=self.add()*self.sub()\n",
    "        return e\n",
    "    def div(self):\n",
    "        f=self.multi()//zself.add()\n",
    "        return f\n",
    "        \n",
    "money1=int(input(\"enter1\"))\n",
    "money2=int(input(\"enter2\"))\n",
    "\n",
    "pay=money(money1,money2)\n",
    "print(pay.add())\n",
    "print(pay.sub())\n",
    "print(pay.multi())\n",
    "print(pay.div())\n",
    "\n",
    "    "
   ]
  },
  {
   "cell_type": "code",
   "execution_count": null,
   "id": "d0abe952-64af-4ccb-bb37-0f99da651674",
   "metadata": {},
   "outputs": [],
   "source": []
  },
  {
   "cell_type": "code",
   "execution_count": null,
   "id": "fc76610a-81ea-49c5-abfd-127cbaa65290",
   "metadata": {},
   "outputs": [],
   "source": []
  }
 ],
 "metadata": {
  "kernelspec": {
   "display_name": "Python [conda env:base] *",
   "language": "python",
   "name": "conda-base-py"
  },
  "language_info": {
   "codemirror_mode": {
    "name": "ipython",
    "version": 3
   },
   "file_extension": ".py",
   "mimetype": "text/x-python",
   "name": "python",
   "nbconvert_exporter": "python",
   "pygments_lexer": "ipython3",
   "version": "3.13.5"
  }
 },
 "nbformat": 4,
 "nbformat_minor": 5
}
