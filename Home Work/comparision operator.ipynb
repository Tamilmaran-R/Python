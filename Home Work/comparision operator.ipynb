{
 "cells": [
  {
   "cell_type": "code",
   "execution_count": 4,
   "id": "58bb4eba-31c1-40e5-b0a6-4bfdf0f60dd9",
   "metadata": {},
   "outputs": [
    {
     "name": "stdout",
     "output_type": "stream",
     "text": [
      "False\n",
      "True\n"
     ]
    }
   ],
   "source": [
    "#comparision operator\n",
    "\n",
    "a=10\n",
    "b=11\n",
    "c=12\n",
    "d=11\n",
    "print(a==b)\n",
    "print(b==d) #equal to"
   ]
  },
  {
   "cell_type": "code",
   "execution_count": 5,
   "id": "56e6c6c4-0b28-45db-8ea8-9d2ea4b0d051",
   "metadata": {},
   "outputs": [
    {
     "name": "stdout",
     "output_type": "stream",
     "text": [
      "True\n"
     ]
    }
   ],
   "source": [
    "a=10\n",
    "b=15\n",
    "print(a!=b) #not equal to"
   ]
  },
  {
   "cell_type": "code",
   "execution_count": 6,
   "id": "fb04c77c-def9-41c2-b4fe-3846f9bcc705",
   "metadata": {},
   "outputs": [
    {
     "name": "stdout",
     "output_type": "stream",
     "text": [
      "False\n"
     ]
    }
   ],
   "source": [
    "a=10\n",
    "b=15\n",
    "print(a>b) #greaterthan"
   ]
  },
  {
   "cell_type": "code",
   "execution_count": 7,
   "id": "24ba6e62-e01f-4e82-aa59-66a22800f7da",
   "metadata": {},
   "outputs": [
    {
     "name": "stdout",
     "output_type": "stream",
     "text": [
      "True\n"
     ]
    }
   ],
   "source": [
    "a=10\n",
    "b=15\n",
    "print(a<b) #lessthan"
   ]
  },
  {
   "cell_type": "code",
   "execution_count": 8,
   "id": "3429a83e-5934-430e-a41b-76dac2a8db1f",
   "metadata": {},
   "outputs": [
    {
     "name": "stdout",
     "output_type": "stream",
     "text": [
      "True\n"
     ]
    }
   ],
   "source": [
    "a=10\n",
    "b=15\n",
    "print(a<=b) #lessthan or equalto"
   ]
  },
  {
   "cell_type": "code",
   "execution_count": 10,
   "id": "8d4abe4e-9f3b-43b4-accf-473d7166414d",
   "metadata": {},
   "outputs": [
    {
     "name": "stdout",
     "output_type": "stream",
     "text": [
      "True\n"
     ]
    }
   ],
   "source": [
    "a=10\n",
    "b=1\n",
    "print(a>=b) #greaterthan or equalto"
   ]
  }
 ],
 "metadata": {
  "kernelspec": {
   "display_name": "Python [conda env:base] *",
   "language": "python",
   "name": "conda-base-py"
  },
  "language_info": {
   "codemirror_mode": {
    "name": "ipython",
    "version": 3
   },
   "file_extension": ".py",
   "mimetype": "text/x-python",
   "name": "python",
   "nbconvert_exporter": "python",
   "pygments_lexer": "ipython3",
   "version": "3.13.5"
  }
 },
 "nbformat": 4,
 "nbformat_minor": 5
}
