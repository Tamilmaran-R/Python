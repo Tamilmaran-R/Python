{
 "cells": [
  {
   "cell_type": "code",
   "execution_count": 2,
   "id": "4ef23449-322d-478a-9ca8-3cba0bdd9736",
   "metadata": {},
   "outputs": [
    {
     "name": "stdin",
     "output_type": "stream",
     "text": [
      "PLAYER1: stone\n",
      "PLAYER2: paper\n"
     ]
    },
    {
     "name": "stdout",
     "output_type": "stream",
     "text": [
      "  PLAYER 2 Winner  \n"
     ]
    }
   ],
   "source": [
    "\n",
    "\n",
    "def game():\n",
    "     try:\n",
    "         user1=input(\"PLAYER1:\")\n",
    "         user2=input(\"PLAYER2:\") \n",
    "\n",
    "         if user1==\"stone\"and user2==\"paper\":\n",
    "             print(\"  PLAYER 2 Winner  \")\n",
    "         elif user1==\"paper\"and user2==\"stone\":\n",
    "             print(\"   PLAYER 1 Winner  \")\n",
    "         elif user1==\"stone\"and user2==\"sicer\":\n",
    "             print(\"   PLAYER 1 Winner  \")\n",
    "         elif user1==\"sicer\"and user2==\"stone\":\n",
    "             print(\"   PLAYER 2 Winner   \")\n",
    "         elif user1==\"paper\"and user2==\"sicer\":\n",
    "             print(\"   PLAYER 2 Winner   \")\n",
    "         elif user1==\"sicer\"and user2==\"paper\":\n",
    "             print(\"PLAYER 1 Winner\")\n",
    "         elif user1==\"stone\"and user2==\"stone\":\n",
    "             print(\"match tie\")\n",
    "         elif user1==\"paper\"and user2==\"paper\":\n",
    "             print(\"match tie\")\n",
    "         elif user1==\"sicer\"and user2==\"sicer\":\n",
    "             print(\"match tie\")\n",
    "         else:\n",
    "             print(\"check the input\")\n",
    "     except Exception as e:\n",
    "         print(e)\n",
    "         \n",
    "game()\n",
    " "
   ]
  },
  {
   "cell_type": "code",
   "execution_count": null,
   "id": "4a484dc1-22f8-47b1-bd14-39a1a161134c",
   "metadata": {},
   "outputs": [],
   "source": []
  }
 ],
 "metadata": {
  "kernelspec": {
   "display_name": "Python [conda env:base] *",
   "language": "python",
   "name": "conda-base-py"
  },
  "language_info": {
   "codemirror_mode": {
    "name": "ipython",
    "version": 3
   },
   "file_extension": ".py",
   "mimetype": "text/x-python",
   "name": "python",
   "nbconvert_exporter": "python",
   "pygments_lexer": "ipython3",
   "version": "3.13.5"
  }
 },
 "nbformat": 4,
 "nbformat_minor": 5
}
