{
 "cells": [
  {
   "cell_type": "code",
   "execution_count": null,
   "id": "0d33850c-6fff-42d0-8317-7687a7d272bc",
   "metadata": {},
   "outputs": [
    {
     "name": "stdin",
     "output_type": "stream",
     "text": [
      "enter skill java\n"
     ]
    }
   ],
   "source": [
    "skill=input(\"enter skill\")\n",
    "exp=input(\"enter exp\")\n",
    "native=input(\"enter native\")\n",
    "\n",
    "if skill==\"py\" and exp==\"1\" and native==\"chennai\":\n",
    "    print(\"tcs\")\n",
    "elif skill==\"py\" and exp==\"2\" and native==\"chennai\":\n",
    "    print(\"wipro\")\n",
    "elif skill==\"java\" and exp==\"1\" and native==\"coimbatore\":\n",
    "    print(\"cogni\")\n",
    "elif skill==\"java\" and exp==\"1\" and native==\"chennai\":\n",
    "    print(\"trios\")\n",
    "elif skill==\"java\" and exp==\"2\" and native==\"coimbatore\":\n",
    "    print(\"accenture\")\n",
    "elif skill==\"java\" and exp==\"2\" and native==\"chennai\":\n",
    "    print(\"HCL\")\n",
    "\n",
    "else:\n",
    "    print(\"none\")"
   ]
  },
  {
   "cell_type": "code",
   "execution_count": null,
   "id": "8c888ea8-ec7f-4741-9e96-348618869f5b",
   "metadata": {},
   "outputs": [],
   "source": []
  }
 ],
 "metadata": {
  "kernelspec": {
   "display_name": "Python [conda env:base] *",
   "language": "python",
   "name": "conda-base-py"
  },
  "language_info": {
   "codemirror_mode": {
    "name": "ipython",
    "version": 3
   },
   "file_extension": ".py",
   "mimetype": "text/x-python",
   "name": "python",
   "nbconvert_exporter": "python",
   "pygments_lexer": "ipython3",
   "version": "3.13.5"
  }
 },
 "nbformat": 4,
 "nbformat_minor": 5
}
