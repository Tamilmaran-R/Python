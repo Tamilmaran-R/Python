{
 "cells": [
  {
   "cell_type": "code",
   "execution_count": 1,
   "id": "2b98ac06-c272-49a6-a224-961771dd054b",
   "metadata": {},
   "outputs": [
    {
     "name": "stdout",
     "output_type": "stream",
     "text": [
      "Tamilmaran\n"
     ]
    }
   ],
   "source": [
    "#Legal variable example\n",
    "\n",
    "Fullname=\"Tamilmaran\" #start with letter\n",
    "print(Fullname)"
   ]
  },
  {
   "cell_type": "code",
   "execution_count": 5,
   "id": "d1347f50-e718-4f7e-becc-75ffbc758150",
   "metadata": {},
   "outputs": [
    {
     "name": "stdout",
     "output_type": "stream",
     "text": [
      "India\n"
     ]
    }
   ],
   "source": [
    "#Legal variable example\n",
    "Fullname1=\"India\" #start with underscore\n",
    "print(_Fullname)"
   ]
  },
  {
   "cell_type": "code",
   "execution_count": 6,
   "id": "28d106db-b54a-4025-98ef-8121dc0c5810",
   "metadata": {},
   "outputs": [
    {
     "name": "stdout",
     "output_type": "stream",
     "text": [
      "India\n"
     ]
    }
   ],
   "source": [
    "Fullname5=\"India\" #contain Numbers but not start with begin\n",
    "print(Fullname5)"
   ]
  },
  {
   "cell_type": "code",
   "execution_count": 7,
   "id": "5f69e2dd-0671-4acd-9fd1-46d8a9202656",
   "metadata": {},
   "outputs": [
    {
     "name": "stdout",
     "output_type": "stream",
     "text": [
      "5\n"
     ]
    }
   ],
   "source": [
    "count_fullname=5 #between underscore allowed\n",
    "print(count_fullname)"
   ]
  },
  {
   "cell_type": "code",
   "execution_count": 8,
   "id": "d59511e6-7974-46f6-a283-a0a819364c33",
   "metadata": {},
   "outputs": [
    {
     "name": "stdout",
     "output_type": "stream",
     "text": [
      "Tamilmaran\n"
     ]
    }
   ],
   "source": [
    "FullName=\"Tamilmaran\" #use case work\n",
    "print(Fullname)"
   ]
  },
  {
   "cell_type": "code",
   "execution_count": 9,
   "id": "476650f4-7f56-4840-9915-7aeaf542b7fe",
   "metadata": {},
   "outputs": [
    {
     "ename": "SyntaxError",
     "evalue": "invalid decimal literal (684932913.py, line 1)",
     "output_type": "error",
     "traceback": [
      "\u001b[1;36m  Cell \u001b[1;32mIn[9], line 1\u001b[1;36m\u001b[0m\n\u001b[1;33m    1name=\"tamil\"\u001b[0m\n\u001b[1;37m    ^\u001b[0m\n\u001b[1;31mSyntaxError\u001b[0m\u001b[1;31m:\u001b[0m invalid decimal literal\n"
     ]
    }
   ],
   "source": [
    "#illegal variable example\n",
    "1name=\"tamil\"#cannot start with number\n",
    "print(1name)"
   ]
  },
  {
   "cell_type": "code",
   "execution_count": 11,
   "id": "d33b6413-f2bb-478f-84fd-f18552cf88ab",
   "metadata": {},
   "outputs": [
    {
     "ename": "SyntaxError",
     "evalue": "cannot assign to expression here. Maybe you meant '==' instead of '='? (2238409866.py, line 1)",
     "output_type": "error",
     "traceback": [
      "\u001b[1;36m  Cell \u001b[1;32mIn[11], line 1\u001b[1;36m\u001b[0m\n\u001b[1;33m    Full-name =\"Tamilmaran\" #cannot use hyphen\u001b[0m\n\u001b[1;37m    ^\u001b[0m\n\u001b[1;31mSyntaxError\u001b[0m\u001b[1;31m:\u001b[0m cannot assign to expression here. Maybe you meant '==' instead of '='?\n"
     ]
    }
   ],
   "source": [
    "Full-name =\"Tamilmaran\" #cannot use hyphen\n",
    "print(Full-name)"
   ]
  },
  {
   "cell_type": "code",
   "execution_count": 12,
   "id": "5368fe88-f258-4c80-95d7-444305050b7a",
   "metadata": {},
   "outputs": [
    {
     "ename": "SyntaxError",
     "evalue": "invalid syntax (2559532917.py, line 1)",
     "output_type": "error",
     "traceback": [
      "\u001b[1;36m  Cell \u001b[1;32mIn[12], line 1\u001b[1;36m\u001b[0m\n\u001b[1;33m    Full name =\"Tamilmaran\" #space not allowed\u001b[0m\n\u001b[1;37m         ^\u001b[0m\n\u001b[1;31mSyntaxError\u001b[0m\u001b[1;31m:\u001b[0m invalid syntax\n"
     ]
    }
   ],
   "source": [
    "Full name =\"Tamilmaran\" #spaces not allowed\n",
    "print(Full name)"
   ]
  },
  {
   "cell_type": "code",
   "execution_count": 13,
   "id": "b24c4797-d966-4778-b869-08388b8cd6e8",
   "metadata": {},
   "outputs": [
    {
     "ename": "SyntaxError",
     "evalue": "invalid syntax (108878985.py, line 1)",
     "output_type": "error",
     "traceback": [
      "\u001b[1;36m  Cell \u001b[1;32mIn[13], line 1\u001b[1;36m\u001b[0m\n\u001b[1;33m    $Fullname =\"Tamilmaran\" #cannot use special characters\u001b[0m\n\u001b[1;37m    ^\u001b[0m\n\u001b[1;31mSyntaxError\u001b[0m\u001b[1;31m:\u001b[0m invalid syntax\n"
     ]
    }
   ],
   "source": [
    "$Fullname =\"Tamilmaran\" #cannot use special characters\n",
    "print($Fullname)"
   ]
  },
  {
   "cell_type": "code",
   "execution_count": 14,
   "id": "65204626-b7b9-49d7-ba93-e35680cfafa3",
   "metadata": {},
   "outputs": [
    {
     "ename": "SyntaxError",
     "evalue": "invalid syntax (2896076980.py, line 1)",
     "output_type": "error",
     "traceback": [
      "\u001b[1;36m  Cell \u001b[1;32mIn[14], line 1\u001b[1;36m\u001b[0m\n\u001b[1;33m    from=\"Chennai\"\u001b[0m\n\u001b[1;37m        ^\u001b[0m\n\u001b[1;31mSyntaxError\u001b[0m\u001b[1;31m:\u001b[0m invalid syntax\n"
     ]
    }
   ],
   "source": [
    "from=\"Chennai\" #cannot use the keyword\n",
    "print(from)"
   ]
  },
  {
   "cell_type": "code",
   "execution_count": null,
   "id": "636152cb-8812-48a8-a5aa-e5c13e027524",
   "metadata": {},
   "outputs": [],
   "source": []
  }
 ],
 "metadata": {
  "kernelspec": {
   "display_name": "Python [conda env:base] *",
   "language": "python",
   "name": "conda-base-py"
  },
  "language_info": {
   "codemirror_mode": {
    "name": "ipython",
    "version": 3
   },
   "file_extension": ".py",
   "mimetype": "text/x-python",
   "name": "python",
   "nbconvert_exporter": "python",
   "pygments_lexer": "ipython3",
   "version": "3.13.5"
  }
 },
 "nbformat": 4,
 "nbformat_minor": 5
}
