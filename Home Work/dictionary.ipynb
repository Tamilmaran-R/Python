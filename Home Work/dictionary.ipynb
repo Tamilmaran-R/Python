{
 "cells": [
  {
   "cell_type": "code",
   "execution_count": 1,
   "id": "802fa99b-e703-40c9-8e79-88bcac262fcd",
   "metadata": {},
   "outputs": [
    {
     "name": "stdout",
     "output_type": "stream",
     "text": [
      "1\n"
     ]
    }
   ],
   "source": [
    "#dictionary\n",
    "dic={\"jan\":1,\"feb\":2,\"mar\":3,\"april\":4}\n",
    "print(dic[\"jan\"])"
   ]
  },
  {
   "cell_type": "code",
   "execution_count": 2,
   "id": "2a6ef2b9-4ca5-48f5-871f-ae039146122a",
   "metadata": {},
   "outputs": [
    {
     "data": {
      "text/plain": [
       "{'jan': 1, 'feb': 2, 'mar': 3, 'april': 4, 'may': 5}"
      ]
     },
     "execution_count": 2,
     "metadata": {},
     "output_type": "execute_result"
    }
   ],
   "source": [
    "dic={\"jan\":1,\"feb\":2,\"mar\":3,\"april\":4}\n",
    "dic[\"may\"]=5 #add the items\n",
    "dic"
   ]
  },
  {
   "cell_type": "code",
   "execution_count": 3,
   "id": "22424ddd-e0bc-4476-9f6a-683df922e82e",
   "metadata": {},
   "outputs": [
    {
     "data": {
      "text/plain": [
       "{'jan': 1, 'feb': 2, 'mar': 3, 'april': 4, 'may': 5}"
      ]
     },
     "execution_count": 3,
     "metadata": {},
     "output_type": "execute_result"
    }
   ],
   "source": [
    "dic"
   ]
  },
  {
   "cell_type": "code",
   "execution_count": 4,
   "id": "e30a0825-f88f-4be8-9e87-b2e85bee39e3",
   "metadata": {},
   "outputs": [
    {
     "data": {
      "text/plain": [
       "dict_values([1, 2, 3, 4, 5])"
      ]
     },
     "execution_count": 4,
     "metadata": {},
     "output_type": "execute_result"
    }
   ],
   "source": [
    "#retrive the values from the dictionary\n",
    "dic.values()"
   ]
  },
  {
   "cell_type": "code",
   "execution_count": 5,
   "id": "399465ab-7bd7-4f0a-9b2e-f4bcbcfd46b8",
   "metadata": {},
   "outputs": [
    {
     "data": {
      "text/plain": [
       "{'jan': 1, 'feb': 2, 'mar': 3, 'april': 4, 'may': 5, 'june': 6, 'july': 7}"
      ]
     },
     "execution_count": 5,
     "metadata": {},
     "output_type": "execute_result"
    }
   ],
   "source": [
    "m={\"june\":6,\"july\":7}\n",
    "dic.update(m)\n",
    "dic"
   ]
  },
  {
   "cell_type": "code",
   "execution_count": 10,
   "id": "4fdc6408-a7db-4fdf-8148-f529bdb95f0c",
   "metadata": {},
   "outputs": [
    {
     "data": {
      "text/plain": [
       "{'jan': 1, 'feb': 2, 'mar': 3}"
      ]
     },
     "execution_count": 10,
     "metadata": {},
     "output_type": "execute_result"
    }
   ],
   "source": [
    "#popitem\n",
    "dic={\"jan\":1,\"feb\":2,\"mar\":3,\"april\":4}\n",
    "dic.popitem() #last item removed \n",
    "dic"
   ]
  },
  {
   "cell_type": "code",
   "execution_count": 11,
   "id": "240fb293-8365-442a-a2a1-042d9042a4c9",
   "metadata": {},
   "outputs": [
    {
     "data": {
      "text/plain": [
       "{'jan': 1, 'feb': 2, 'april': 4}"
      ]
     },
     "execution_count": 11,
     "metadata": {},
     "output_type": "execute_result"
    }
   ],
   "source": [
    "dic={\"jan\":1,\"feb\":2,\"mar\":3,\"april\":4}\n",
    "dic.pop(\"mar\")#pop remove selected index item\n",
    "dic"
   ]
  },
  {
   "cell_type": "code",
   "execution_count": 12,
   "id": "b2d25e96-18e2-4c4c-9540-4166a49e1dca",
   "metadata": {},
   "outputs": [
    {
     "data": {
      "text/plain": [
       "{}"
      ]
     },
     "execution_count": 12,
     "metadata": {},
     "output_type": "execute_result"
    }
   ],
   "source": [
    "#clear\n",
    "dic={\"jan\":1,\"feb\":2,\"mar\":3,\"april\":4}\n",
    "dic.clear()\n",
    "dic"
   ]
  },
  {
   "cell_type": "code",
   "execution_count": 19,
   "id": "66b6552b-5f8d-426a-a647-ee2f4cd29901",
   "metadata": {},
   "outputs": [
    {
     "data": {
      "text/plain": [
       "dict_values([{'name': 'jan', 'no': 1}, {'name': 'jan', 'no': 1}, {'name': 'jan', 'no': 1}])"
      ]
     },
     "execution_count": 19,
     "metadata": {},
     "output_type": "execute_result"
    }
   ],
   "source": [
    "months={\n",
    "    \"jan\":{\"name\":\"jan\",\"no\":1},\n",
    "    \"feb\":{\"name\":\"jan\",\"no\":1},\n",
    "    \"mar\":{\"name\":\"jan\",\"no\":1}\n",
    "}\n",
    "\n",
    "months[\"jan\"][\"name\"]\n",
    "\n",
    "months.values()"
   ]
  },
  {
   "cell_type": "code",
   "execution_count": null,
   "id": "93fb21ab-cb5b-47df-9b1d-75a2a53cbd9b",
   "metadata": {},
   "outputs": [],
   "source": []
  }
 ],
 "metadata": {
  "kernelspec": {
   "display_name": "Python [conda env:base] *",
   "language": "python",
   "name": "conda-base-py"
  },
  "language_info": {
   "codemirror_mode": {
    "name": "ipython",
    "version": 3
   },
   "file_extension": ".py",
   "mimetype": "text/x-python",
   "name": "python",
   "nbconvert_exporter": "python",
   "pygments_lexer": "ipython3",
   "version": "3.13.5"
  }
 },
 "nbformat": 4,
 "nbformat_minor": 5
}
