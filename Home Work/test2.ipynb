{
 "cells": [
  {
   "cell_type": "code",
   "execution_count": 16,
   "id": "3f4734bc-25a3-4d68-9acd-53b35a236ce7",
   "metadata": {},
   "outputs": [
    {
     "data": {
      "text/plain": [
       "['A', 'F', 'B', 'A', 'C']"
      ]
     },
     "execution_count": 16,
     "metadata": {},
     "output_type": "execute_result"
    }
   ],
   "source": [
    "#Marks to Grade Conversion for N Students\n",
    "def marks():\n",
    "    mrk=[85,40,77,92,60]\n",
    "    g=[]\n",
    "    for i in mrk:\n",
    "        if i>=85:\n",
    "            g.append(\"A\")\n",
    "        elif i>=70:\n",
    "            g.append(\"B\")\n",
    "        elif i>=60:\n",
    "            g.append(\"C\")\n",
    "        elif i>=50:\n",
    "            g.append(\"D\")\n",
    "        else:\n",
    "            g.append(\"F\")\n",
    "\n",
    "    return g\n",
    "\n",
    "marks()\n",
    "\n",
    "\n",
    "\n",
    "        \n",
    "            \n",
    "        "
   ]
  },
  {
   "cell_type": "code",
   "execution_count": 22,
   "id": "f8576d56-01e3-4033-90e1-8568577617de",
   "metadata": {},
   "outputs": [
    {
     "name": "stdin",
     "output_type": "stream",
     "text": [
      "enter the name: Anu\n"
     ]
    },
    {
     "name": "stdout",
     "output_type": "stream",
     "text": [
      "9911223344\n"
     ]
    }
   ],
   "source": [
    "contact={\"Ravi\": \"9876543210\", \"Anu\": \"9911223344\"}  \n",
    "\n",
    "def numbers():\n",
    "    i=input(\"enter the name:\")\n",
    "    if i in contact:\n",
    "        print(contact[i])\n",
    "            \n",
    "numbers()"
   ]
  },
  {
   "cell_type": "code",
   "execution_count": 30,
   "id": "a9ce64d3-a6c9-4d5c-8c99-7e8eecccdfac",
   "metadata": {},
   "outputs": [
    {
     "name": "stdin",
     "output_type": "stream",
     "text": [
      "enter the password wxsxsx\n"
     ]
    },
    {
     "name": "stdout",
     "output_type": "stream",
     "text": [
      "w****x\n"
     ]
    }
   ],
   "source": [
    "def password():\n",
    "    i=input(\"enter the password\")\n",
    "    mask=i[0]+\"*\"*(len(i)-2)+i[-1]\n",
    "    print(mask)\n",
    "password()"
   ]
  },
  {
   "cell_type": "code",
   "execution_count": 36,
   "id": "6658f711-4dc7-424b-b198-98ae02fb120d",
   "metadata": {},
   "outputs": [
    {
     "name": "stdin",
     "output_type": "stream",
     "text": [
      "enter snxj ssnxhjwnx sbnjwn \n"
     ]
    },
    {
     "name": "stdout",
     "output_type": "stream",
     "text": [
      "ssnxhjwnx\n"
     ]
    }
   ],
   "source": [
    "\n",
    "#longest\n",
    "def longword():\n",
    "    sentence=input(\"enter\")\n",
    "    words=sentence.split()\n",
    "\n",
    "    longest=\"\"\n",
    "    maxlength=0\n",
    "    for i in words:\n",
    "        count=0\n",
    "        for ch in i:\n",
    "            count+=1\n",
    "        if count>maxlength:\n",
    "            maxlength=count\n",
    "            longest=i\n",
    "    print(longest)\n",
    "            \n",
    "longword()"
   ]
  },
  {
   "cell_type": "code",
   "execution_count": 43,
   "id": "9c190ce9-cbfc-4704-ab0b-4f819356e878",
   "metadata": {},
   "outputs": [
    {
     "name": "stdout",
     "output_type": "stream",
     "text": [
      "121\n",
      "88\n"
     ]
    }
   ],
   "source": [
    "def palidrome():\n",
    "    num=[121,88,133,13]\n",
    "    for i in num:\n",
    "        if str(i)==str(i)[::-1]:\n",
    "            print(i)\n",
    "\n",
    "palidrome()\n"
   ]
  },
  {
   "cell_type": "code",
   "execution_count": 56,
   "id": "2798628b-4787-4414-a6ef-6e46d8a5fe10",
   "metadata": {},
   "outputs": [
    {
     "name": "stdout",
     "output_type": "stream",
     "text": [
      "[1, 2, 3, 4, 5]\n"
     ]
    }
   ],
   "source": [
    "def flatten():\n",
    "    num = [[1, 2], [3, 4], [5]]\n",
    "    flat=[]\n",
    "    for i in num:\n",
    "        for j in i:\n",
    "            flat.append(j)\n",
    "    print(flat)\n",
    "\n",
    "flatten()\n",
    "    "
   ]
  },
  {
   "cell_type": "code",
   "execution_count": 80,
   "id": "154947dd-2288-41c9-9050-265d8e4c30ef",
   "metadata": {},
   "outputs": [
    {
     "name": "stdin",
     "output_type": "stream",
     "text": [
      "enter the number ABCDE12341\n"
     ]
    },
    {
     "name": "stdout",
     "output_type": "stream",
     "text": [
      "invalid\n"
     ]
    }
   ],
   "source": [
    "def formate():\n",
    "    pan=input(\"enter the number\")\n",
    "\n",
    "    if len(pan)!=10:\n",
    "        print(\"check the numbers\")\n",
    "        return\n",
    "    \n",
    "    for f in pan[0:5]:\n",
    "        if not ('A'<= f <='Z'):\n",
    "            print(\"invalid\")\n",
    "            return\n",
    "\n",
    "    for n in pan[5:9]:\n",
    "        if not ('0'<= n <='9'):\n",
    "            print(\"invalid\")\n",
    "            return\n",
    "            \n",
    "    for l in pan[9]:\n",
    "        if not ('A'<= l <='Z'):\n",
    "            print(\"invalid\")\n",
    "            return\n",
    "\n",
    "        print(\"valid\")\n",
    "        \n",
    "formate()\n"
   ]
  },
  {
   "cell_type": "code",
   "execution_count": 94,
   "id": "0b601032-b879-49a5-8814-1a777e2448a1",
   "metadata": {},
   "outputs": [
    {
     "name": "stdin",
     "output_type": "stream",
     "text": [
      "enter 153\n"
     ]
    },
    {
     "name": "stdout",
     "output_type": "stream",
     "text": [
      "equal\n"
     ]
    }
   ],
   "source": [
    "def ams():\n",
    "    num=int(input(\"enter\"))\n",
    "    i=str(num)\n",
    "    power=len(i)\n",
    "    total=0\n",
    "    for j in i:\n",
    "        total=total+(int(j) ** power)\n",
    "\n",
    "    if total==num:\n",
    "        print(\"equal\")\n",
    "    else:\n",
    "        print(\"not equal\")\n",
    "\n",
    "ams()"
   ]
  },
  {
   "cell_type": "code",
   "execution_count": 98,
   "id": "a37dde56-1304-4563-bf2c-6053518f263e",
   "metadata": {},
   "outputs": [
    {
     "name": "stdin",
     "output_type": "stream",
     "text": [
      "enter 1010\n"
     ]
    },
    {
     "data": {
      "text/plain": [
       "'1111110010'"
      ]
     },
     "execution_count": 98,
     "metadata": {},
     "output_type": "execute_result"
    }
   ],
   "source": [
    "#d to b\n",
    "\n",
    "def d_b():\n",
    "    i=int(input(\"enter\"))\n",
    "    return format(i,'b')\n",
    "d_b()\n",
    "    "
   ]
  },
  {
   "cell_type": "code",
   "execution_count": 108,
   "id": "b143840f-c374-44c3-89a6-bb4e778efd7f",
   "metadata": {},
   "outputs": [
    {
     "data": {
      "text/plain": [
       "[2, 4, 8]"
      ]
     },
     "execution_count": 108,
     "metadata": {},
     "output_type": "execute_result"
    }
   ],
   "source": [
    "def cl(l1, l2):\n",
    "    result = []\n",
    "    for i in l1:\n",
    "        for j in l2:\n",
    "            if i == j and i not in result:\n",
    "                result.append(i)\n",
    "    return result\n",
    "\n",
    "cl([2,4,8,19], [4,6,8,2,1])"
   ]
  },
  {
   "cell_type": "code",
   "execution_count": null,
   "id": "beaf4543-49f5-46f0-bfce-3a7f98ecd016",
   "metadata": {},
   "outputs": [],
   "source": []
  }
 ],
 "metadata": {
  "kernelspec": {
   "display_name": "Python [conda env:base] *",
   "language": "python",
   "name": "conda-base-py"
  },
  "language_info": {
   "codemirror_mode": {
    "name": "ipython",
    "version": 3
   },
   "file_extension": ".py",
   "mimetype": "text/x-python",
   "name": "python",
   "nbconvert_exporter": "python",
   "pygments_lexer": "ipython3",
   "version": "3.13.5"
  }
 },
 "nbformat": 4,
 "nbformat_minor": 5
}
