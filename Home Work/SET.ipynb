{
 "cells": [
  {
   "cell_type": "code",
   "execution_count": 3,
   "id": "523d9988-315d-4dcf-aace-9b754edc04f6",
   "metadata": {},
   "outputs": [
    {
     "data": {
      "text/plain": [
       "{'feb', 'jan', 'march', 'may'}"
      ]
     },
     "execution_count": 3,
     "metadata": {},
     "output_type": "execute_result"
    }
   ],
   "source": [
    "#SET \n",
    "\n",
    "r={\"jan\",\"march\",\"feb\",\"may\"}\n",
    "r"
   ]
  },
  {
   "cell_type": "code",
   "execution_count": 4,
   "id": "5f2a82d9-2231-4ab8-af04-5e734fbe2d42",
   "metadata": {},
   "outputs": [
    {
     "data": {
      "text/plain": [
       "{'feb', 'jan', 'march', 'may'}"
      ]
     },
     "execution_count": 4,
     "metadata": {},
     "output_type": "execute_result"
    }
   ],
   "source": [
    "r={\"jan\",\"march\",\"feb\",\"may\",\"jan\",\"march\",\"feb\",\"may\"}#duplicates not allowed\n",
    "r"
   ]
  },
  {
   "cell_type": "code",
   "execution_count": 5,
   "id": "9b812061-f824-4a26-a741-a9267cc68889",
   "metadata": {},
   "outputs": [
    {
     "data": {
      "text/plain": [
       "{'april', 'feb', 'jan', 'march', 'may'}"
      ]
     },
     "execution_count": 5,
     "metadata": {},
     "output_type": "execute_result"
    }
   ],
   "source": [
    "r={\"jan\",\"march\",\"feb\",\"may\"} #ADD\n",
    "r.add(\"april\")\n",
    "r"
   ]
  },
  {
   "cell_type": "code",
   "execution_count": 7,
   "id": "9df7b456-b8e5-465e-8e5d-79f405567f85",
   "metadata": {},
   "outputs": [
    {
     "data": {
      "text/plain": [
       "{'feb', 'jan', 'march', 'may', 'mon', 'thurs', 'tue', 'wed'}"
      ]
     },
     "execution_count": 7,
     "metadata": {},
     "output_type": "execute_result"
    }
   ],
   "source": [
    "r={\"jan\",\"march\",\"feb\",\"may\"} #Update\n",
    "u={\"mon\",\"tue\",\"wed\",\"thurs\"}\n",
    "r.update(u)\n",
    "r"
   ]
  },
  {
   "cell_type": "code",
   "execution_count": 9,
   "id": "1d4f1c1f-dfc2-4cb5-af8a-e66704ec5517",
   "metadata": {},
   "outputs": [
    {
     "data": {
      "text/plain": [
       "{'jan', 'march', 'may'}"
      ]
     },
     "execution_count": 9,
     "metadata": {},
     "output_type": "execute_result"
    }
   ],
   "source": [
    "r={\"jan\",\"march\",\"feb\",\"may\"} #remove\n",
    "r.remove(\"feb\")\n",
    "r"
   ]
  },
  {
   "cell_type": "code",
   "execution_count": 10,
   "id": "136d235a-a53f-448f-8c3e-74da88ceefbf",
   "metadata": {},
   "outputs": [
    {
     "data": {
      "text/plain": [
       "{'jan', 'march', 'may'}"
      ]
     },
     "execution_count": 10,
     "metadata": {},
     "output_type": "execute_result"
    }
   ],
   "source": [
    "r={\"jan\",\"march\",\"feb\",\"may\"} # remove and discard is same\n",
    "r.discard(\"feb\")\n",
    "r"
   ]
  },
  {
   "cell_type": "code",
   "execution_count": 28,
   "id": "d61b8850-33d3-4a3a-a07a-b110887fc3c1",
   "metadata": {},
   "outputs": [
    {
     "name": "stdout",
     "output_type": "stream",
     "text": [
      "{'march', 'feb', 'jan', 'may'}\n"
     ]
    },
    {
     "data": {
      "text/plain": [
       "'march'"
      ]
     },
     "execution_count": 28,
     "metadata": {},
     "output_type": "execute_result"
    }
   ],
   "source": [
    "r={\"jan\",\"march\",\"feb\",\"may\"}\n",
    "print(r)\n",
    "x=r.pop()#pop() is unpredictable—it just removes one element, often the “first” in internal storage, but that’s not guaranteed.\n",
    "x"
   ]
  },
  {
   "cell_type": "code",
   "execution_count": 29,
   "id": "20657fd3-0b47-4a54-b3a9-2808bcbd76a8",
   "metadata": {},
   "outputs": [
    {
     "data": {
      "text/plain": [
       "set()"
      ]
     },
     "execution_count": 29,
     "metadata": {},
     "output_type": "execute_result"
    }
   ],
   "source": [
    "r={\"jan\",\"march\",\"feb\",\"may\"}\n",
    "r.clear()\n",
    "r"
   ]
  },
  {
   "cell_type": "code",
   "execution_count": 32,
   "id": "4b59cba0-b2cf-4f7a-ae30-92ffc58a8db2",
   "metadata": {},
   "outputs": [
    {
     "data": {
      "text/plain": [
       "{'feb', 'jan', 'march', 'may', 'mon', 'thurs', 'tue', 'wed'}"
      ]
     },
     "execution_count": 32,
     "metadata": {},
     "output_type": "execute_result"
    }
   ],
   "source": [
    "#UNION\n",
    "r={\"jan\",\"march\",\"feb\",\"may\"}\n",
    "u={\"mon\",\"tue\",\"wed\",\"thurs\"}\n",
    "\n",
    "ru=r.union(u)\n",
    "#ru=r|u\n",
    "ru\n",
    "\n"
   ]
  },
  {
   "cell_type": "code",
   "execution_count": 38,
   "id": "0f6fe29d-505c-4eca-8c0d-736945a0461e",
   "metadata": {},
   "outputs": [
    {
     "data": {
      "text/plain": [
       "{'march'}"
      ]
     },
     "execution_count": 38,
     "metadata": {},
     "output_type": "execute_result"
    }
   ],
   "source": [
    "#intersection\n",
    "r={\"jan\",\"march\",\"feb\",\"may\"}\n",
    "u={\"mon\",\"tue\",\"wed\",\"thurs\",\"march\"}\n",
    "ru=r&u\n",
    "#ru=r.intersection(u)#that can be used to combine the common things other wise empty\n",
    "ru"
   ]
  },
  {
   "cell_type": "code",
   "execution_count": 40,
   "id": "24d4a823-e486-48a9-98fe-57f10b458e80",
   "metadata": {},
   "outputs": [
    {
     "data": {
      "text/plain": [
       "{'feb', 'march', 'may', 'mon', 'thurs', 'tue', 'wed'}"
      ]
     },
     "execution_count": 40,
     "metadata": {},
     "output_type": "execute_result"
    }
   ],
   "source": [
    "#symmetric_difference\n",
    "r={\"jan\",\"march\",\"feb\",\"may\"}\n",
    "u={\"mon\",\"tue\",\"wed\",\"thurs\",\"jan\"}\n",
    "\n",
    "ru=r.symmetric_difference(u)\n",
    "ru"
   ]
  },
  {
   "cell_type": "code",
   "execution_count": null,
   "id": "21c3c3a8-81b0-4ffa-ae4c-a5e2b0b292bb",
   "metadata": {},
   "outputs": [],
   "source": []
  }
 ],
 "metadata": {
  "kernelspec": {
   "display_name": "Python [conda env:base] *",
   "language": "python",
   "name": "conda-base-py"
  },
  "language_info": {
   "codemirror_mode": {
    "name": "ipython",
    "version": 3
   },
   "file_extension": ".py",
   "mimetype": "text/x-python",
   "name": "python",
   "nbconvert_exporter": "python",
   "pygments_lexer": "ipython3",
   "version": "3.13.5"
  }
 },
 "nbformat": 4,
 "nbformat_minor": 5
}
