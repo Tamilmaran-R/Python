{
 "cells": [
  {
   "cell_type": "code",
   "execution_count": null,
   "id": "163ab5d4-6253-47b5-a687-c80aa3ce92ea",
   "metadata": {},
   "outputs": [],
   "source": [
    "#multilevel and encapsulation\n",
    "\n",
    "class student:\n",
    "    def __init__(self,name,dep,dob):\n",
    "        self.name=name\n",
    "        self._dep=dep\n",
    "        self.__dob=dob\n",
    "\n",
    "    def sname(self):\n",
    "        print(\"Name:\",self.name)#public\n",
    "    \n",
    "\n",
    "class department(student):\n",
    "    \n",
    "    def sdep(self):\n",
    "        print(\"Dep:\",self._dep) #protect\n",
    "\n",
    "class Dateofbirth(department):\n",
    "\n",
    "    def sdob(self):\n",
    "        print(\"DOB:\",self.__dob)#private\n",
    "\n",
    "\n",
    "  \n",
    "s=Dateofbirth(\"Tamil\",\"CS\",1-1-1999)\n",
    "s.sname()\n",
    "s.sdep()\n",
    "s.sdob()\n",
    "\n",
    "\n",
    "\n"
   ]
  },
  {
   "cell_type": "code",
   "execution_count": 12,
   "id": "a18e4aa1-d1f6-4a77-a960-f37e79fd5fff",
   "metadata": {},
   "outputs": [
    {
     "name": "stdout",
     "output_type": "stream",
     "text": [
      "kid below 11\n",
      "teen below 20\n",
      "adult above 20\n"
     ]
    }
   ],
   "source": [
    "#polymorphism\n",
    "class k:\n",
    "    def male(self):\n",
    "        print(\"kid below 11\")\n",
    "\n",
    "class t:\n",
    "    def male(self):\n",
    "        print(\"teen below 20\")\n",
    "\n",
    "class a:\n",
    "    def male(self):\n",
    "        print(\"adult above 20\")\n",
    "\n",
    "m1=k()\n",
    "m2=t()\n",
    "m3=a()\n",
    "\n",
    "m1.male()\n",
    "m2.male()\n",
    "m3.male()\n"
   ]
  },
  {
   "cell_type": "code",
   "execution_count": null,
   "id": "7ba79986-3234-4eff-a35c-be106b2c97cb",
   "metadata": {},
   "outputs": [],
   "source": []
  }
 ],
 "metadata": {
  "kernelspec": {
   "display_name": "Python [conda env:base] *",
   "language": "python",
   "name": "conda-base-py"
  },
  "language_info": {
   "codemirror_mode": {
    "name": "ipython",
    "version": 3
   },
   "file_extension": ".py",
   "mimetype": "text/x-python",
   "name": "python",
   "nbconvert_exporter": "python",
   "pygments_lexer": "ipython3",
   "version": "3.13.5"
  }
 },
 "nbformat": 4,
 "nbformat_minor": 5
}
