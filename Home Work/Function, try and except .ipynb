{
 "cells": [
  {
   "cell_type": "code",
   "execution_count": 1,
   "id": "02e12d8d-d1ac-43d3-9fc2-3fb2cc92c2c7",
   "metadata": {},
   "outputs": [
    {
     "name": "stdin",
     "output_type": "stream",
     "text": [
      "first value: 9\n",
      "second value: o\n"
     ]
    },
    {
     "name": "stdout",
     "output_type": "stream",
     "text": [
      "invalid literal for int() with base 10: 'o'\n",
      "Process Executed\n"
     ]
    }
   ],
   "source": [
    "try:\n",
    "    def add(b, c):\n",
    "        a = b + c\n",
    "        return a\n",
    "    \n",
    "    def sub(b, c):\n",
    "        a = b - c\n",
    "        return a\n",
    "    \n",
    "    def multi(b, c):\n",
    "        a = b * c\n",
    "        return a\n",
    "\n",
    "    def div(b, c):\n",
    "        a = b / c  \n",
    "        return a\n",
    "    \n",
    "    b=int(input(\"first value:\"))\n",
    "    c=int(input(\"second value:\"))\n",
    "    exp=input(\"expression:\")\n",
    "\n",
    "\n",
    "    if exp==\"+\":\n",
    "        s = add(b, c)\n",
    "        print(\"Addition:\", s)\n",
    "    \n",
    "    elif exp==\"-\":\n",
    "        d = sub(b, c)\n",
    "        print(\"Subtraction:\", d)\n",
    "    \n",
    "    elif exp==\"*\":\n",
    "        e = multi(b, c)\n",
    "        print(\"Multiplication:\", e)\n",
    "    \n",
    "    elif exp==\"%\":\n",
    "        f = div(b, c)\n",
    "        print(\"Division:\", f)\n",
    "    else:\n",
    "        print(\"invalid\")\n",
    "        \n",
    "except Exception as r:\n",
    "    print(r)\n",
    "finally:\n",
    "    print(\"Process Executed\")"
   ]
  },
  {
   "cell_type": "code",
   "execution_count": null,
   "id": "43d39a2d-586b-411f-a11f-e8020a62e72f",
   "metadata": {},
   "outputs": [],
   "source": []
  },
  {
   "cell_type": "code",
   "execution_count": null,
   "id": "942338c5-0f7c-4079-9fbb-dd1e6b75d6e3",
   "metadata": {},
   "outputs": [],
   "source": []
  }
 ],
 "metadata": {
  "kernelspec": {
   "display_name": "Python [conda env:base] *",
   "language": "python",
   "name": "conda-base-py"
  },
  "language_info": {
   "codemirror_mode": {
    "name": "ipython",
    "version": 3
   },
   "file_extension": ".py",
   "mimetype": "text/x-python",
   "name": "python",
   "nbconvert_exporter": "python",
   "pygments_lexer": "ipython3",
   "version": "3.13.5"
  }
 },
 "nbformat": 4,
 "nbformat_minor": 5
}
