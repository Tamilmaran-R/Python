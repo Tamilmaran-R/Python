{
 "cells": [
  {
   "cell_type": "code",
   "execution_count": 2,
   "id": "74e19710-c415-4a4b-b84d-819a0805379a",
   "metadata": {},
   "outputs": [
    {
     "data": {
      "text/plain": [
       "('jan', 'feb', 'mar', 'april', 'may')"
      ]
     },
     "execution_count": 2,
     "metadata": {},
     "output_type": "execute_result"
    }
   ],
   "source": [
    "#tuple\n",
    "a=(\"jan\",\"feb\",\"mar\",\"april\",\"may\")\n",
    "a\n"
   ]
  },
  {
   "cell_type": "code",
   "execution_count": 3,
   "id": "640bbeed-abfb-4d31-93d5-d8567444854d",
   "metadata": {},
   "outputs": [
    {
     "data": {
      "text/plain": [
       "('jan', 'feb', 'mar', 'april', 'may', 'mar')"
      ]
     },
     "execution_count": 3,
     "metadata": {},
     "output_type": "execute_result"
    }
   ],
   "source": [
    "b=(\"jan\",\"feb\",\"mar\",\"april\",\"may\",\"mar\") #allow duplicate\n",
    "b"
   ]
  },
  {
   "cell_type": "code",
   "execution_count": 7,
   "id": "5dd53e89-39c2-4b19-8e7d-44ac574d0e85",
   "metadata": {},
   "outputs": [
    {
     "name": "stdout",
     "output_type": "stream",
     "text": [
      "<class 'tuple'>\n"
     ]
    }
   ],
   "source": [
    "print(type(a))"
   ]
  },
  {
   "cell_type": "code",
   "execution_count": 10,
   "id": "9193b55f-38f8-43ee-a271-98ecb897a451",
   "metadata": {},
   "outputs": [
    {
     "name": "stdout",
     "output_type": "stream",
     "text": [
      "mar\n",
      "may\n"
     ]
    }
   ],
   "source": [
    "#Access Tuple Items\n",
    "\n",
    "print(a[2])\n",
    "print(a[4])"
   ]
  },
  {
   "cell_type": "code",
   "execution_count": 13,
   "id": "f7e04c98-e561-4858-ac4f-b04c7e7b6618",
   "metadata": {},
   "outputs": [
    {
     "name": "stdout",
     "output_type": "stream",
     "text": [
      "('jan', 'feb', 'MARCH', 'april', 'may')\n"
     ]
    }
   ],
   "source": [
    "#Change Tuple Values\n",
    "a=(\"jan\",\"feb\",\"mar\",\"april\",\"may\")\n",
    "l=list(a)\n",
    "l[2]=\"MARCH\"\n",
    "a=tuple(l)\n",
    "print(a)"
   ]
  },
  {
   "cell_type": "code",
   "execution_count": 14,
   "id": "c72067e0-7295-4e49-859b-fc13679bac46",
   "metadata": {},
   "outputs": [
    {
     "name": "stdout",
     "output_type": "stream",
     "text": [
      "('jan', 'feb', 'mar', 'april', 'may', 'june')\n"
     ]
    }
   ],
   "source": [
    "#append\n",
    "a=(\"jan\",\"feb\",\"mar\",\"april\",\"may\")\n",
    "l=list(a)\n",
    "l.append(\"june\")#add items to a tuple.\n",
    "a=tuple(l)\n",
    "print(a)\n"
   ]
  },
  {
   "cell_type": "code",
   "execution_count": 15,
   "id": "bb5ed064-21d2-456e-927c-de325afb12c6",
   "metadata": {},
   "outputs": [
    {
     "name": "stdout",
     "output_type": "stream",
     "text": [
      "('jan', 'feb', 'mar', 'april', 'may')\n"
     ]
    }
   ],
   "source": [
    "#remove\n",
    "a=(\"jan\",\"feb\",\"mar\",\"april\",\"may\",\"june\")\n",
    "l=list(a)\n",
    "l.remove(\"june\")#remove items to a tuple.\n",
    "a=tuple(l)\n",
    "print(a)\n"
   ]
  },
  {
   "cell_type": "code",
   "execution_count": 16,
   "id": "dee991e7-1404-4dcc-8fa0-8182699a2108",
   "metadata": {},
   "outputs": [
    {
     "ename": "NameError",
     "evalue": "name 'a' is not defined",
     "output_type": "error",
     "traceback": [
      "\u001b[1;31m---------------------------------------------------------------------------\u001b[0m",
      "\u001b[1;31mNameError\u001b[0m                                 Traceback (most recent call last)",
      "Cell \u001b[1;32mIn[16], line 4\u001b[0m\n\u001b[0;32m      2\u001b[0m a\u001b[38;5;241m=\u001b[39m(\u001b[38;5;124m\"\u001b[39m\u001b[38;5;124mjan\u001b[39m\u001b[38;5;124m\"\u001b[39m,\u001b[38;5;124m\"\u001b[39m\u001b[38;5;124mfeb\u001b[39m\u001b[38;5;124m\"\u001b[39m,\u001b[38;5;124m\"\u001b[39m\u001b[38;5;124mmar\u001b[39m\u001b[38;5;124m\"\u001b[39m,\u001b[38;5;124m\"\u001b[39m\u001b[38;5;124mapril\u001b[39m\u001b[38;5;124m\"\u001b[39m,\u001b[38;5;124m\"\u001b[39m\u001b[38;5;124mmay\u001b[39m\u001b[38;5;124m\"\u001b[39m)\n\u001b[0;32m      3\u001b[0m \u001b[38;5;28;01mdel\u001b[39;00m a\n\u001b[1;32m----> 4\u001b[0m \u001b[38;5;28mprint\u001b[39m(a)\n",
      "\u001b[1;31mNameError\u001b[0m: name 'a' is not defined"
     ]
    }
   ],
   "source": [
    "#append\n",
    "a=(\"jan\",\"feb\",\"mar\",\"april\",\"may\")\n",
    "del a\n",
    "print(a)\n"
   ]
  },
  {
   "cell_type": "code",
   "execution_count": 29,
   "id": "6e313812-c048-4e6e-9cde-ef82d9c18083",
   "metadata": {},
   "outputs": [
    {
     "name": "stdout",
     "output_type": "stream",
     "text": [
      "red\n",
      "blue\n",
      "green\n"
     ]
    }
   ],
   "source": [
    "#Unpacking a Tuple\n",
    "colors=(\"red\",\"blue\",\"green\")\n",
    "(blood,sky,grass)=colors\n",
    "print(blood)\n",
    "print(sky)\n",
    "print(grass)"
   ]
  },
  {
   "cell_type": "code",
   "execution_count": 30,
   "id": "d68ac926-6716-4a6e-931a-1b659aea4d64",
   "metadata": {},
   "outputs": [
    {
     "name": "stdout",
     "output_type": "stream",
     "text": [
      "red\n",
      "blue\n",
      "['green', 'yellow']\n"
     ]
    }
   ],
   "source": [
    "#Using Asterisk*\n",
    "colors=(\"red\",\"blue\",\"green\",\"yellow\")\n",
    "(blood,sky,*grass)=colors\n",
    "print(blood)\n",
    "print(sky)\n",
    "print(grass)"
   ]
  },
  {
   "cell_type": "code",
   "execution_count": 34,
   "id": "7f87c465-09e9-4a0e-b410-1ebe360ad247",
   "metadata": {},
   "outputs": [
    {
     "name": "stdout",
     "output_type": "stream",
     "text": [
      "['red', 'blue', 'green']\n",
      "yellow\n",
      "grey\n"
     ]
    }
   ],
   "source": [
    "colors=(\"red\",\"blue\",\"green\",\"yellow\",\"grey\")\n",
    "(*blood,sky,grass)=colors\n",
    "print(blood)\n",
    "print(sky)\n",
    "print(grass)"
   ]
  },
  {
   "cell_type": "code",
   "execution_count": 36,
   "id": "d671fef5-a6f1-44a7-b0d6-867bb22ef8e9",
   "metadata": {},
   "outputs": [
    {
     "name": "stdout",
     "output_type": "stream",
     "text": [
      "red\n",
      "['blue', 'green', 'yellow']\n",
      "grey\n"
     ]
    }
   ],
   "source": [
    "colors=(\"red\",\"blue\",\"green\",\"yellow\",\"grey\")\n",
    "(blood,*sky,grass)=colors\n",
    "print(blood)\n",
    "print(sky)\n",
    "print(grass)"
   ]
  },
  {
   "cell_type": "code",
   "execution_count": 38,
   "id": "44c22cfd-4508-49fd-9e27-8132b9331a75",
   "metadata": {},
   "outputs": [
    {
     "name": "stdout",
     "output_type": "stream",
     "text": [
      "3\n"
     ]
    }
   ],
   "source": [
    "colors=(\"red\",\"blue\",\"green\",\"yellow\",\"grey\")\n",
    "c=colors.index(\"yellow\")\n",
    "print(c)"
   ]
  },
  {
   "cell_type": "code",
   "execution_count": 45,
   "id": "13da8497-e723-4055-accc-1fd124c3273c",
   "metadata": {},
   "outputs": [
    {
     "name": "stdout",
     "output_type": "stream",
     "text": [
      "('red', 'blue', 'green', 'pink', 'grey')\n"
     ]
    }
   ],
   "source": [
    "colors=(\"red\",\"blue\",\"green\",\"yellow\",\"grey\")\n",
    "l=list(colors)\n",
    "i=l.index(\"yellow\")\n",
    "l[i]=\"pink\"\n",
    "t=tuple(l)\n",
    "print(t)\n",
    "\n",
    "      "
   ]
  },
  {
   "cell_type": "code",
   "execution_count": 46,
   "id": "6eb6cee9-eb7e-4e73-9127-6e7363882024",
   "metadata": {},
   "outputs": [
    {
     "data": {
      "text/plain": [
       "('tcs', 'wipro', 'zoho')"
      ]
     },
     "execution_count": 46,
     "metadata": {},
     "output_type": "execute_result"
    }
   ],
   "source": [
    "name=(\"tcs\",\"wipro\",\"cap\")\n",
    "l=list(name)\n",
    "i=l.index(\"cap\")\n",
    "l[i]=\"zoho\"\n",
    "t=tuple(l)\n",
    "t"
   ]
  }
 ],
 "metadata": {
  "kernelspec": {
   "display_name": "Python [conda env:base] *",
   "language": "python",
   "name": "conda-base-py"
  },
  "language_info": {
   "codemirror_mode": {
    "name": "ipython",
    "version": 3
   },
   "file_extension": ".py",
   "mimetype": "text/x-python",
   "name": "python",
   "nbconvert_exporter": "python",
   "pygments_lexer": "ipython3",
   "version": "3.13.5"
  }
 },
 "nbformat": 4,
 "nbformat_minor": 5
}
