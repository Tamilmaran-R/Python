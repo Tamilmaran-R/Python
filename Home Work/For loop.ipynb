{
 "cells": [
  {
   "cell_type": "code",
   "execution_count": 10,
   "id": "306c12ce-23b2-46b3-b545-c5be11789cbf",
   "metadata": {},
   "outputs": [
    {
     "name": "stdout",
     "output_type": "stream",
     "text": [
      "minimum value:20\n",
      "maximum value:70\n"
     ]
    }
   ],
   "source": [
    "l=[20,40,30,50,70]\n",
    "\n",
    "minvalue=l[0]\n",
    "maxvalue=l[0]\n",
    "\n",
    "for i in l:\n",
    "    if i<minvalue:\n",
    "        minvalue=i\n",
    "    if i>maxvalue:\n",
    "        maxvalue=i\n",
    "print(f\"minimum value:{minvalue}\")\n",
    "print(f\"maximum value:{maxvalue}\")"
   ]
  },
  {
   "cell_type": "code",
   "execution_count": null,
   "id": "a8a77b25-8d90-44de-a7f1-e895b1c83384",
   "metadata": {},
   "outputs": [],
   "source": []
  },
  {
   "cell_type": "code",
   "execution_count": 8,
   "id": "3098e062-1023-4198-bad5-3bf9a41f8f06",
   "metadata": {},
   "outputs": [
    {
     "name": "stdout",
     "output_type": "stream",
     "text": [
      "30\n"
     ]
    }
   ],
   "source": [
    "minvalue=l[0]\n",
    "minvalue2=l[1]\n",
    "for i in l:\n",
    "    if i<minvalue:\n",
    "        minvalue=i\n",
    "    elif i<minvalue2 and i!=minvalue:\n",
    "        minvalue2=i\n",
    "print(minvalue2)"
   ]
  },
  {
   "cell_type": "code",
   "execution_count": 9,
   "id": "c81dedd4-ff0d-495b-a0a2-e4824ccd9059",
   "metadata": {},
   "outputs": [
    {
     "name": "stdout",
     "output_type": "stream",
     "text": [
      "40\n"
     ]
    }
   ],
   "source": [
    "maxvalue=l[0]\n",
    "maxvalue2=l[1]\n",
    "for i in l:\n",
    "    if i>maxvalue:\n",
    "        maxvalue=i\n",
    "    elif i>maxvalue2 and i!=maxvalue:\n",
    "        maxvalue2=i\n",
    "print(maxvalue2)"
   ]
  },
  {
   "cell_type": "code",
   "execution_count": 27,
   "id": "c8c3f337-d7f7-4bc3-afc2-192de93d6098",
   "metadata": {},
   "outputs": [
    {
     "name": "stdout",
     "output_type": "stream",
     "text": [
      "2001\n",
      "2002\n",
      "2003\n",
      "2004\n"
     ]
    }
   ],
   "source": [
    "for i in range(2001,2010):\n",
    "    if i ==2005:\n",
    "        break\n",
    "    print(i)\n",
    "\n"
   ]
  },
  {
   "cell_type": "code",
   "execution_count": 28,
   "id": "bd65730e-7ff4-4a08-90f8-ebc03aeb6056",
   "metadata": {},
   "outputs": [
    {
     "name": "stdout",
     "output_type": "stream",
     "text": [
      "2001\n",
      "2002\n",
      "2003\n",
      "2004\n",
      "2006\n",
      "2007\n",
      "2008\n",
      "2009\n"
     ]
    }
   ],
   "source": [
    "for i in range(2001,2010):\n",
    "    if i ==2005:\n",
    "        continue\n",
    "    print(i)"
   ]
  },
  {
   "cell_type": "code",
   "execution_count": null,
   "id": "a0e5e217-b55c-4bdb-b915-58ef2f0042e3",
   "metadata": {},
   "outputs": [],
   "source": []
  },
  {
   "cell_type": "code",
   "execution_count": null,
   "id": "af7ca620-da58-4957-b6d7-2fd02da5e6b0",
   "metadata": {},
   "outputs": [],
   "source": []
  },
  {
   "cell_type": "code",
   "execution_count": null,
   "id": "e75b4304-5f1c-4e9e-80f8-b3f480fe9104",
   "metadata": {},
   "outputs": [],
   "source": []
  }
 ],
 "metadata": {
  "kernelspec": {
   "display_name": "Python [conda env:base] *",
   "language": "python",
   "name": "conda-base-py"
  },
  "language_info": {
   "codemirror_mode": {
    "name": "ipython",
    "version": 3
   },
   "file_extension": ".py",
   "mimetype": "text/x-python",
   "name": "python",
   "nbconvert_exporter": "python",
   "pygments_lexer": "ipython3",
   "version": "3.13.5"
  }
 },
 "nbformat": 4,
 "nbformat_minor": 5
}
