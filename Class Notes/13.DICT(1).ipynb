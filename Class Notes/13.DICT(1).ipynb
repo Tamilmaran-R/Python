{
 "cells": [
  {
   "cell_type": "code",
   "execution_count": 11,
   "id": "3347f963-3fcc-46ad-8a71-9a77101def62",
   "metadata": {},
   "outputs": [
    {
     "data": {
      "text/plain": [
       "{'child1': {'name': 'abc', 'year': 2004},\n",
       " 'child2': {'name': 'Tobias', 'year': 2007},\n",
       " 'child3': {'name': 'Linus', 'year': 2012}}"
      ]
     },
     "execution_count": 11,
     "metadata": {},
     "output_type": "execute_result"
    }
   ],
   "source": [
    "myfamily = {\n",
    "  \"child1\" : {\"name\" : \"abc\",\"year\" : 2004 },\n",
    "  \"child2\" : {\"name\" : \"Tobias\",\"year\" : 2007},\n",
    "  \"child3\" : {\"name\" : \"Linus\",\"year\" : 2011}\n",
    "}\n",
    "\n",
    "myfamily[\"child3\"][\"year\"]=2012\n",
    "myfamily"
   ]
  },
  {
   "cell_type": "code",
   "execution_count": 5,
   "id": "c32e82ae-0d5b-40da-92cb-1788ae086580",
   "metadata": {},
   "outputs": [
    {
     "data": {
      "text/plain": [
       "{'name': 'abc', 'year': 2004}"
      ]
     },
     "execution_count": 5,
     "metadata": {},
     "output_type": "execute_result"
    }
   ],
   "source": [
    "myfamily[\"child1\"]"
   ]
  },
  {
   "cell_type": "code",
   "execution_count": null,
   "id": "144a060b-8599-464b-b3b7-74eb122453dc",
   "metadata": {},
   "outputs": [],
   "source": [
    "myfamily[\"child1\"][\"name\"]"
   ]
  },
  {
   "cell_type": "code",
   "execution_count": 5,
   "id": "8e11412d-adf6-4e4d-adf8-3771495bb235",
   "metadata": {},
   "outputs": [
    {
     "data": {
      "text/plain": [
       "{'child1': {'name': 'Emil', 'year': 2004},\n",
       " 'child2': {'name': 'Tobias', 'year': 2007},\n",
       " 'child3': {'name': 'Linus', 'year': 2011}}"
      ]
     },
     "execution_count": 5,
     "metadata": {},
     "output_type": "execute_result"
    }
   ],
   "source": [
    "child1 = {\n",
    "  \"name\" : \"Emil\",\n",
    "  \"year\" : 2004\n",
    "}\n",
    "\n",
    "\n",
    "\n",
    "child2 = {\n",
    "  \"name\" : \"Tobias\",\n",
    "  \"year\" : 2007\n",
    "}\n",
    "\n",
    "\n",
    "child3 = {\n",
    "  \"name\" : \"Linus\",\n",
    "  \"year\" : 2011\n",
    "}\n",
    "\n",
    "myfamily = {\n",
    "  \"child1\" : child1,\n",
    "  \"child2\" : child2,\n",
    "  \"child3\" : child3\n",
    "}\n",
    "myfamily"
   ]
  },
  {
   "cell_type": "code",
   "execution_count": null,
   "id": "4243fe1d-14b3-4b14-ae0f-fac3907ebcb3",
   "metadata": {},
   "outputs": [],
   "source": [
    "myfamily.values()"
   ]
  },
  {
   "cell_type": "code",
   "execution_count": null,
   "id": "613fb412-8c1f-4e05-abcc-43fb4aefd871",
   "metadata": {},
   "outputs": [],
   "source": [
    "child1 = {\"name\" : \"Emil\",\"year\" : 2004}\n",
    "for i in child1.values():\n",
    "    print(i)"
   ]
  },
  {
   "cell_type": "code",
   "execution_count": null,
   "id": "41e68ab2-a560-4eaa-9061-5fc02389c942",
   "metadata": {},
   "outputs": [],
   "source": [
    "child1 = {\"name\" : \"Emil\",\"year\" : 2004}\n",
    "for i in child1.items():\n",
    "    print(i)"
   ]
  },
  {
   "cell_type": "code",
   "execution_count": null,
   "id": "f253be8e-772d-4807-b1a4-1933777f9d73",
   "metadata": {},
   "outputs": [],
   "source": [
    "child1 = {\"name\" : \"Emil\",\"year\" : 2004}\n",
    "for i in child1.keys():\n",
    "    print(i)"
   ]
  },
  {
   "cell_type": "code",
   "execution_count": null,
   "id": "0512fa1c-36b9-47c1-933c-44441c19858e",
   "metadata": {},
   "outputs": [],
   "source": [
    "child1 = {\"name\" : \"Emil\",\"year\" : 2004}\n",
    "for i in child1.values():\n",
    "    print(i)"
   ]
  },
  {
   "cell_type": "code",
   "execution_count": 1,
   "id": "73a9d281-83df-464c-ae1c-70af35d4adee",
   "metadata": {},
   "outputs": [
    {
     "data": {
      "text/plain": [
       "68"
      ]
     },
     "execution_count": 1,
     "metadata": {},
     "output_type": "execute_result"
    }
   ],
   "source": [
    "l=[1,3,4,[5,68],89]\n",
    "l[3][1]"
   ]
  },
  {
   "cell_type": "code",
   "execution_count": null,
   "id": "ab6894ba-1c3a-4113-8990-9825829c8f57",
   "metadata": {},
   "outputs": [],
   "source": []
  }
 ],
 "metadata": {
  "kernelspec": {
   "display_name": "Python [conda env:base] *",
   "language": "python",
   "name": "conda-base-py"
  },
  "language_info": {
   "codemirror_mode": {
    "name": "ipython",
    "version": 3
   },
   "file_extension": ".py",
   "mimetype": "text/x-python",
   "name": "python",
   "nbconvert_exporter": "python",
   "pygments_lexer": "ipython3",
   "version": "3.13.5"
  }
 },
 "nbformat": 4,
 "nbformat_minor": 5
}
