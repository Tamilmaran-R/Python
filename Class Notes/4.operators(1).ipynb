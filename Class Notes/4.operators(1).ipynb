{
 "cells": [
  {
   "cell_type": "markdown",
   "id": "12288d1c",
   "metadata": {},
   "source": [
    "#  Python Logical Operators"
   ]
  },
  {
   "cell_type": "markdown",
   "id": "938a4749",
   "metadata": {},
   "source": [
    "### and\n",
    "### or\n",
    "### not"
   ]
  },
  {
   "cell_type": "code",
   "execution_count": 3,
   "id": "23cdeb7c",
   "metadata": {},
   "outputs": [
    {
     "name": "stdout",
     "output_type": "stream",
     "text": [
      "True\n"
     ]
    }
   ],
   "source": [
    "a = 15\n",
    "\n",
    "\n",
    "print(a > 5 or a < 10)"
   ]
  },
  {
   "cell_type": "code",
   "execution_count": 2,
   "id": "01605f32",
   "metadata": {},
   "outputs": [
    {
     "name": "stdout",
     "output_type": "stream",
     "text": [
      "False\n"
     ]
    }
   ],
   "source": [
    "print(a > 3 and a < 4)"
   ]
  },
  {
   "cell_type": "code",
   "execution_count": 7,
   "id": "290aa2e1",
   "metadata": {},
   "outputs": [
    {
     "name": "stdout",
     "output_type": "stream",
     "text": [
      "True\n"
     ]
    }
   ],
   "source": [
    "print(a > 3 or a < 10)"
   ]
  },
  {
   "cell_type": "code",
   "execution_count": 8,
   "id": "b54df9ce",
   "metadata": {},
   "outputs": [
    {
     "name": "stdout",
     "output_type": "stream",
     "text": [
      "False\n"
     ]
    }
   ],
   "source": [
    "print(not(a > 3 or a < 4))"
   ]
  },
  {
   "cell_type": "markdown",
   "id": "7222bb2f",
   "metadata": {},
   "source": [
    "# Python Identity Operators\n"
   ]
  },
  {
   "cell_type": "markdown",
   "id": "aab18154",
   "metadata": {},
   "source": [
    "## is "
   ]
  },
  {
   "cell_type": "markdown",
   "id": "ec19b177",
   "metadata": {},
   "source": [
    "## is not"
   ]
  },
  {
   "cell_type": "code",
   "execution_count": 3,
   "id": "881b1502",
   "metadata": {},
   "outputs": [
    {
     "name": "stdout",
     "output_type": "stream",
     "text": [
      "True\n"
     ]
    }
   ],
   "source": [
    "x =[\"apple\"]\n",
    "y =[\"apple\"]\n",
    "z = x\n",
    "# print(z)\n",
    "print(x is z)\n",
    "# print(x is y)\n",
    "# print(x == y)\n"
   ]
  },
  {
   "cell_type": "code",
   "execution_count": 12,
   "id": "6ed81c67-97a6-433d-a091-16d853357f0d",
   "metadata": {},
   "outputs": [
    {
     "name": "stdout",
     "output_type": "stream",
     "text": [
      "False\n"
     ]
    }
   ],
   "source": [
    "X=257\n",
    "Y=257\n",
    "print(X is Y)\n",
    "# print(x is not y)"
   ]
  },
  {
   "cell_type": "code",
   "execution_count": 14,
   "id": "b4f139db",
   "metadata": {},
   "outputs": [
    {
     "name": "stdout",
     "output_type": "stream",
     "text": [
      "True\n"
     ]
    }
   ],
   "source": [
    "\n",
    "print(x is not y)\n",
    "\n"
   ]
  },
  {
   "cell_type": "code",
   "execution_count": 19,
   "id": "2bf1d258-57c9-4373-b0b1-13f38dbfd18e",
   "metadata": {},
   "outputs": [
    {
     "data": {
      "text/plain": [
       "True"
      ]
     },
     "execution_count": 19,
     "metadata": {},
     "output_type": "execute_result"
    }
   ],
   "source": [
    "a=\"hi\"\n",
    "b=\"hello\"\n",
    "a is  not b"
   ]
  },
  {
   "cell_type": "markdown",
   "id": "dd00f1a9",
   "metadata": {},
   "source": [
    "## Python Membership Operators"
   ]
  },
  {
   "cell_type": "markdown",
   "id": "a6755007",
   "metadata": {},
   "source": [
    "### in\n",
    "### not in "
   ]
  },
  {
   "cell_type": "code",
   "execution_count": 21,
   "id": "b139c913",
   "metadata": {},
   "outputs": [
    {
     "name": "stdout",
     "output_type": "stream",
     "text": [
      "False\n"
     ]
    }
   ],
   "source": [
    "a=\"apple\"\n",
    "\n",
    "print(\"e\" not  in a)"
   ]
  },
  {
   "cell_type": "code",
   "execution_count": 22,
   "id": "70b5490d",
   "metadata": {},
   "outputs": [
    {
     "name": "stdout",
     "output_type": "stream",
     "text": [
      "True\n"
     ]
    }
   ],
   "source": [
    "a=\"hi hello apple\"\n",
    "\n",
    "print(\"hi\"   in a)"
   ]
  },
  {
   "cell_type": "code",
   "execution_count": 25,
   "id": "875b6354-6528-4034-a844-6a12e7f28b63",
   "metadata": {},
   "outputs": [
    {
     "data": {
      "text/plain": [
       "False"
      ]
     },
     "execution_count": 25,
     "metadata": {},
     "output_type": "execute_result"
    }
   ],
   "source": [
    "a=(1,2,4,5)\n",
    "7 in a"
   ]
  },
  {
   "cell_type": "code",
   "execution_count": null,
   "id": "e6309df1-0516-4b0a-b10c-9129ae34bf0d",
   "metadata": {},
   "outputs": [],
   "source": [
    "|"
   ]
  }
 ],
 "metadata": {
  "kernelspec": {
   "display_name": "Python 3 (ipykernel)",
   "language": "python",
   "name": "python3"
  },
  "language_info": {
   "codemirror_mode": {
    "name": "ipython",
    "version": 3
   },
   "file_extension": ".py",
   "mimetype": "text/x-python",
   "name": "python",
   "nbconvert_exporter": "python",
   "pygments_lexer": "ipython3",
   "version": "3.12.4"
  }
 },
 "nbformat": 4,
 "nbformat_minor": 5
}
