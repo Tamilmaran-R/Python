{
 "cells": [
  {
   "cell_type": "markdown",
   "id": "d30129a3",
   "metadata": {},
   "source": [
    "# set"
   ]
  },
  {
   "cell_type": "markdown",
   "id": "6f9926d4",
   "metadata": {},
   "source": [
    "## Unordered\n",
    "## Duplicates Not Allowed\n"
   ]
  },
  {
   "cell_type": "code",
   "execution_count": null,
   "id": "578461db-9821-41c0-9938-73c7d07acbf9",
   "metadata": {},
   "outputs": [],
   "source": [
    "k={1,1,1,2,2,1,1}\n",
    "k"
   ]
  },
  {
   "cell_type": "code",
   "execution_count": null,
   "id": "ed43ff09",
   "metadata": {},
   "outputs": [],
   "source": [
    "myset = {\"apple\",89,\"banana\", \"cherry\", False, 1,True,0,5,9,90,8,90}\n",
    "myset"
   ]
  },
  {
   "cell_type": "code",
   "execution_count": null,
   "id": "5a2424b1",
   "metadata": {},
   "outputs": [],
   "source": [
    "print(len(myset))"
   ]
  },
  {
   "cell_type": "code",
   "execution_count": null,
   "id": "b22ef16b-b139-47e2-bb39-c4b2f2ba3ecd",
   "metadata": {},
   "outputs": [],
   "source": [
    "a={1,1,2,2,2,2,3,4,4}\n",
    "a"
   ]
  },
  {
   "cell_type": "code",
   "execution_count": 3,
   "id": "99cd0995",
   "metadata": {},
   "outputs": [
    {
     "data": {
      "text/plain": [
       "{1, 2, 3, 454, 'hello', 'hi'}"
      ]
     },
     "execution_count": 3,
     "metadata": {},
     "output_type": "execute_result"
    }
   ],
   "source": [
    "mylist=[\"hello\",1,2,2,2,3,454,\"hi\"]\n",
    "myset=set(mylist)\n",
    "myset"
   ]
  },
  {
   "cell_type": "code",
   "execution_count": null,
   "id": "28e7b35d",
   "metadata": {},
   "outputs": [],
   "source": [
    "myset = {\"apple\", \"banana\", \"cherry\"}\n",
    "\n",
    "for x in myset:\n",
    "  print(x)"
   ]
  },
  {
   "cell_type": "code",
   "execution_count": null,
   "id": "be5ae9ae",
   "metadata": {},
   "outputs": [],
   "source": [
    "myset = {1,1,1,1,2,3,3,4}\n",
    "myset\n"
   ]
  },
  {
   "cell_type": "markdown",
   "id": "12a36f13",
   "metadata": {},
   "source": [
    "# add"
   ]
  },
  {
   "cell_type": "code",
   "execution_count": 5,
   "id": "3be4099b",
   "metadata": {},
   "outputs": [
    {
     "name": "stdout",
     "output_type": "stream",
     "text": [
      "{1, 'cherry', 'banana', 'apple'}\n"
     ]
    }
   ],
   "source": [
    "myset = {\"apple\", \"banana\", \"cherry\"}\n",
    "\n",
    "myset.add(1)\n",
    "\n",
    "print(myset)"
   ]
  },
  {
   "cell_type": "code",
   "execution_count": 8,
   "id": "ac0c4baf",
   "metadata": {},
   "outputs": [
    {
     "name": "stdout",
     "output_type": "stream",
     "text": [
      "{'cherry', 'mango', 'papaya', 'pineapple', 'banana', 'apple'}\n"
     ]
    }
   ],
   "source": [
    "myset = {\"apple\", \"banana\", \"cherry\"}\n",
    "myset1 = {\"pineapple\", \"mango\", \"papaya\"}\n",
    "\n",
    "myset.update(myset1)\n",
    "\n",
    "print(myset)"
   ]
  },
  {
   "cell_type": "code",
   "execution_count": null,
   "id": "e390b2d6",
   "metadata": {},
   "outputs": [],
   "source": [
    "myset = {\"apple\", \"banana\", \"cherry\"}\n",
    "mylist = {\"kiwi\", \"orange\",\"apple\"}\n",
    "\n",
    "myset.update(mylist)\n",
    "\n",
    "print(myset)"
   ]
  },
  {
   "cell_type": "markdown",
   "id": "7cbfb488",
   "metadata": {},
   "source": [
    "# remove"
   ]
  },
  {
   "cell_type": "code",
   "execution_count": null,
   "id": "a2dd9ad9",
   "metadata": {},
   "outputs": [],
   "source": [
    "myset = {\"apple\", \"banana\", \"cherry\"}\n",
    "\n",
    "myset.remove(\"banana\")\n",
    "\n",
    "print(myset)"
   ]
  },
  {
   "cell_type": "code",
   "execution_count": null,
   "id": "06b164f8",
   "metadata": {},
   "outputs": [],
   "source": [
    "myset = {\"apple\", \"banana\", \"cherry\"}\n",
    "\n",
    "myset.discard(\"banana\")\n",
    "\n",
    "print(myset)"
   ]
  },
  {
   "cell_type": "code",
   "execution_count": 14,
   "id": "eef3d177",
   "metadata": {},
   "outputs": [
    {
     "name": "stdout",
     "output_type": "stream",
     "text": [
      "{'apple', 'hello', 9, 'banana', 78, 'hji'}\n",
      "apple\n"
     ]
    }
   ],
   "source": [
    "myset = { \"banana\",\"apple\",\"hji\",9,78,\"hello\"}\n",
    "print(myset)\n",
    "x = myset.pop()\n",
    "\n",
    "print(x)\n",
    "\n",
    "# print(myset)"
   ]
  },
  {
   "cell_type": "code",
   "execution_count": null,
   "id": "68799950",
   "metadata": {},
   "outputs": [],
   "source": [
    "myset = {\"apple\", \"banana\", \"cherry\"}\n",
    "myset.clear()\n",
    "print(myset)\n",
    "del myset\n",
    "myset"
   ]
  },
  {
   "cell_type": "code",
   "execution_count": null,
   "id": "ef5ceb91-da7c-4587-a63a-08af9660b485",
   "metadata": {},
   "outputs": [],
   "source": []
  }
 ],
 "metadata": {
  "kernelspec": {
   "display_name": "Python 3 (ipykernel)",
   "language": "python",
   "name": "python3"
  },
  "language_info": {
   "codemirror_mode": {
    "name": "ipython",
    "version": 3
   },
   "file_extension": ".py",
   "mimetype": "text/x-python",
   "name": "python",
   "nbconvert_exporter": "python",
   "pygments_lexer": "ipython3",
   "version": "3.12.4"
  }
 },
 "nbformat": 4,
 "nbformat_minor": 5
}
