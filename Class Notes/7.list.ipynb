{
 "cells": [
  {
   "cell_type": "markdown",
   "id": "86e4ccb9",
   "metadata": {},
   "source": [
    "# Python Lists\n"
   ]
  },
  {
   "cell_type": "code",
   "execution_count": null,
   "id": "bcc9f19b",
   "metadata": {},
   "outputs": [],
   "source": [
    "### Lists are used to store multiple items in a single variable.\n",
    "\n",
    "Lists are one of 4 built-in data types in Python used to store collections of data, the other 3 are Tuple, Set, and Dictionary, all with different qualities and usage.\n",
    "\n",
    "Lists are created using square brackets:"
   ]
  },
  {
   "cell_type": "code",
   "execution_count": 1,
   "id": "fa8f2bfb",
   "metadata": {},
   "outputs": [
    {
     "name": "stdout",
     "output_type": "stream",
     "text": [
      "['hi', 67, 67, 'welcome', (9+3j)]\n"
     ]
    }
   ],
   "source": [
    "mylist = [\"hi\", 67,67, \"welcome\",9+3j]\n",
    "print(mylist)"
   ]
  },
  {
   "cell_type": "markdown",
   "id": "4efbb04d",
   "metadata": {},
   "source": [
    "## Allow Duplicates\n",
    "## mutable"
   ]
  },
  {
   "cell_type": "code",
   "execution_count": 2,
   "id": "dd68cf36",
   "metadata": {},
   "outputs": [
    {
     "name": "stdout",
     "output_type": "stream",
     "text": [
      "['hi', 'hello', 'welcome', 'welcome']\n"
     ]
    }
   ],
   "source": [
    "mylist = [\"hi\", \"hello\", \"welcome\",\"welcome\"]\n",
    "print(mylist)"
   ]
  },
  {
   "cell_type": "code",
   "execution_count": 3,
   "id": "26b950fe",
   "metadata": {},
   "outputs": [
    {
     "name": "stdout",
     "output_type": "stream",
     "text": [
      "4\n"
     ]
    }
   ],
   "source": [
    "print(len(mylist))"
   ]
  },
  {
   "cell_type": "code",
   "execution_count": 4,
   "id": "6a8f351e",
   "metadata": {},
   "outputs": [
    {
     "name": "stdout",
     "output_type": "stream",
     "text": [
      "['hi', 1, 0.1, (1+4j)]\n"
     ]
    }
   ],
   "source": [
    "mylist = [\"hi\", 1, 0.1,1+4j]\n",
    "print(mylist)"
   ]
  },
  {
   "cell_type": "code",
   "execution_count": null,
   "id": "7d6ce375",
   "metadata": {},
   "outputs": [],
   "source": [
    "type(mylist)"
   ]
  },
  {
   "cell_type": "markdown",
   "id": "c5e14b74",
   "metadata": {},
   "source": [
    "## Access Items\n"
   ]
  },
  {
   "cell_type": "code",
   "execution_count": 5,
   "id": "f76a742c",
   "metadata": {},
   "outputs": [
    {
     "name": "stdout",
     "output_type": "stream",
     "text": [
      "welcome\n"
     ]
    }
   ],
   "source": [
    "mylist = [\"hi\", \"hello\", \"welcome\",\"welcome\"]\n",
    "print(mylist[2])"
   ]
  },
  {
   "cell_type": "code",
   "execution_count": 6,
   "id": "811123a1",
   "metadata": {},
   "outputs": [
    {
     "name": "stdout",
     "output_type": "stream",
     "text": [
      "welcome\n"
     ]
    }
   ],
   "source": [
    "mylist = [\"hi\", \"hello\", \"welcome\",\"welcome\"]\n",
    "print(mylist[-1])"
   ]
  },
  {
   "cell_type": "code",
   "execution_count": 1,
   "id": "82ea6351",
   "metadata": {},
   "outputs": [
    {
     "name": "stdout",
     "output_type": "stream",
     "text": [
      "['welcome', 'welcome', 899]\n"
     ]
    }
   ],
   "source": [
    "mylist = [\"hi\", \"hello\", \"welcome\",\"welcome\",899]\n",
    "print(mylist[2:7])"
   ]
  },
  {
   "cell_type": "code",
   "execution_count": 7,
   "id": "ad6b98cb",
   "metadata": {},
   "outputs": [
    {
     "name": "stdout",
     "output_type": "stream",
     "text": [
      "1\n"
     ]
    }
   ],
   "source": [
    "print(True*True)"
   ]
  },
  {
   "cell_type": "code",
   "execution_count": 5,
   "id": "6d7fd3e8-af9b-4b59-8d09-73db41cd57e8",
   "metadata": {},
   "outputs": [
    {
     "name": "stdout",
     "output_type": "stream",
     "text": [
      "45\n"
     ]
    }
   ],
   "source": [
    "k=[1,2,3,[78,[45,56],89,90],7,8]\n",
    "print(k[3][1][0])"
   ]
  },
  {
   "cell_type": "code",
   "execution_count": null,
   "id": "93839b3b-5816-4717-97a4-0c8129a66620",
   "metadata": {},
   "outputs": [],
   "source": [
    "gender=input(\"enter your gender\")\n",
    "exp=int(input(\"enter your exp\"))\n",
    "\n",
    "\n",
    "if gender==\"male\":\n",
    "    if exp==1:\n",
    "        print(\"TCS\")\n",
    "    elif exp==2:\n",
    "        print(\"WIBRO\")\n",
    "    else:\n",
    "        print(\"invalid\")\n",
    "elif gender==\"female\":\n",
    "    if exp==2:\n",
    "        print(\"TCS\")\n",
    "    elif exp==3:\n",
    "        print(\"WIBRO\")\n",
    "    else:\n",
    "        print(\"invalid\")\n",
    "else:\n",
    "    print(\"invalid\")"
   ]
  }
 ],
 "metadata": {
  "kernelspec": {
   "display_name": "Python [conda env:base] *",
   "language": "python",
   "name": "conda-base-py"
  },
  "language_info": {
   "codemirror_mode": {
    "name": "ipython",
    "version": 3
   },
   "file_extension": ".py",
   "mimetype": "text/x-python",
   "name": "python",
   "nbconvert_exporter": "python",
   "pygments_lexer": "ipython3",
   "version": "3.13.5"
  }
 },
 "nbformat": 4,
 "nbformat_minor": 5
}
