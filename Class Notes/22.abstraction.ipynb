{
 "cells": [
  {
   "cell_type": "markdown",
   "id": "376f16ff-e9b5-4a22-8e6b-244e899ed739",
   "metadata": {},
   "source": [
    "# Abstraction means hiding complex implementation details and showing only the essential features of an object.\n",
    "It helps in reducing programming complexity and increases code reusability and maintainability."
   ]
  },
  {
   "cell_type": "code",
   "execution_count": 2,
   "id": "e1b5f9b6-e4ef-47c6-ab1f-2a70343dee7c",
   "metadata": {},
   "outputs": [
    {
     "name": "stdout",
     "output_type": "stream",
     "text": [
      "wow\n"
     ]
    }
   ],
   "source": [
    "# from abc import ABC, abstractmethod\n",
    "\n",
    "class animal:\n",
    "    def sounds(self):\n",
    "        pass\n",
    "    def test(self):\n",
    "        pass\n",
    "\n",
    "class dog(animal):\n",
    "     def legs(self):\n",
    "        print(\"dog have a 4 legs\")\n",
    "     def sounds(self):\n",
    "        print(\"wow\")\n",
    "         \n",
    "class cat(animal):\n",
    "     def legs(self):\n",
    "        print(\"cat have a 4 legs\")\n",
    "     def sounds(self):\n",
    "        print(\"Meow\")\n",
    "\n",
    "info=dog()\n",
    "info.sounds()\n"
   ]
  },
  {
   "cell_type": "code",
   "execution_count": null,
   "id": "7e570e65-a37e-4344-9008-26c62d696f36",
   "metadata": {},
   "outputs": [],
   "source": [
    "from abc import ABC, abstractmethod\n",
    "\n",
    "class animal:\n",
    "    \n",
    "    def legs(self):\n",
    "        pass\n",
    "    def sounds(self):\n",
    "        pass\n",
    "    def test(self):\n",
    "        pass\n",
    "\n",
    "class dog(animal):\n",
    "     def sounds(self):\n",
    "        print(\"wow\")\n",
    "         \n",
    "class cat(animal):\n",
    "     def legs(self):\n",
    "        print(\"cat have a 4 legs\")\n",
    "     def sounds(self):\n",
    "        print(\"Meow\")\n",
    "\n",
    "info=dog()\n",
    "info.legs()\n"
   ]
  },
  {
   "cell_type": "code",
   "execution_count": 4,
   "id": "adbf051c-2a0b-4076-821d-d87286f1bb4d",
   "metadata": {},
   "outputs": [
    {
     "ename": "TypeError",
     "evalue": "Can't instantiate abstract class dog without an implementation for abstract method 'sounds'",
     "output_type": "error",
     "traceback": [
      "\u001b[1;31m---------------------------------------------------------------------------\u001b[0m",
      "\u001b[1;31mTypeError\u001b[0m                                 Traceback (most recent call last)",
      "Cell \u001b[1;32mIn[4], line 24\u001b[0m\n\u001b[0;32m     21\u001b[0m      \u001b[38;5;28;01mdef\u001b[39;00m \u001b[38;5;21msounds\u001b[39m(\u001b[38;5;28mself\u001b[39m):\n\u001b[0;32m     22\u001b[0m         \u001b[38;5;28mprint\u001b[39m(\u001b[38;5;124m\"\u001b[39m\u001b[38;5;124mMeow\u001b[39m\u001b[38;5;124m\"\u001b[39m)\n\u001b[1;32m---> 24\u001b[0m info\u001b[38;5;241m=\u001b[39mdog()\n\u001b[0;32m     25\u001b[0m info\u001b[38;5;241m.\u001b[39msounds()\n",
      "\u001b[1;31mTypeError\u001b[0m: Can't instantiate abstract class dog without an implementation for abstract method 'sounds'"
     ]
    }
   ],
   "source": [
    "from abc import ABC, abstractmethod\n",
    "\n",
    "class animal(ABC):\n",
    "    def legs(self):\n",
    "        pass\n",
    "        \n",
    "    @abstractmethod\n",
    "    def sounds(self):\n",
    "        pass\n",
    "  \n",
    "\n",
    "class dog(animal):\n",
    "     def legs(self):\n",
    "        print(\"4 legs\")\n",
    "     # def sounds(self):\n",
    "     #    print(\"wow\")\n",
    "         \n",
    "class cat(animal):\n",
    "     def legs(self):\n",
    "        print(\"cat have a 4 legs\")\n",
    "     def sounds(self):\n",
    "        print(\"Meow\")\n",
    "\n",
    "info=dog()\n",
    "info.sounds()\n"
   ]
  },
  {
   "cell_type": "code",
   "execution_count": 1,
   "id": "3e260531-8f46-4e15-ade4-071c50cfa1c9",
   "metadata": {},
   "outputs": [
    {
     "name": "stdout",
     "output_type": "stream",
     "text": [
      "Lathe Machine stopped.\n"
     ]
    }
   ],
   "source": [
    "from abc import ABC, abstractmethod\n",
    "\n",
    "class Machine(ABC):  # Abstract base class\n",
    "    @abstractmethod\n",
    "    def start(self):\n",
    "        pass\n",
    "\n",
    "    @abstractmethod\n",
    "    def stop(self):\n",
    "        pass\n",
    "\n",
    "\n",
    "class LatheMachine(Machine):\n",
    "    def start(self):\n",
    "        print(\"Lathe Machine started.\")\n",
    "\n",
    "    def stop(self):\n",
    "        print(\"Lathe Machine stopped.\")\n",
    "\n",
    "\n",
    "\n",
    "lathe = LatheMachine()\n",
    "# lathe.start()  # Output: Lathe Machine started.\n",
    "lathe.stop()   # Output: Lathe Machine stopped.\n",
    "\n",
    "\n"
   ]
  },
  {
   "cell_type": "code",
   "execution_count": 32,
   "id": "a681501a-6073-41ed-b2c1-5d8e34b58834",
   "metadata": {},
   "outputs": [
    {
     "data": {
      "text/plain": [
       "31.4159"
      ]
     },
     "execution_count": 32,
     "metadata": {},
     "output_type": "execute_result"
    }
   ],
   "source": [
    "from abc import ABC, abstractmethod\n",
    "\n",
    "class Shape(ABC):\n",
    "    @abstractmethod\n",
    "    def area(self):\n",
    "        pass\n",
    "\n",
    "    @abstractmethod\n",
    "    def perimeter(self):\n",
    "        pass\n",
    "    \n",
    "class Circle(Shape):\n",
    "    def __init__(self, radius):\n",
    "        self.radius = radius\n",
    "\n",
    "    def area(self):\n",
    "        return 3.14159 * self.radius ** 2\n",
    "\n",
    "    def perimeter(self):\n",
    "        return 2 * 3.14159 * self.radius\n",
    "\n",
    "    def output(self):\n",
    "        return self.radius \n",
    "\n",
    "\n",
    "\n",
    "# Uncommenting the following line will raise an error because we’re missing method implementations\n",
    "# shape = Shape() # TypeError: Can't instantiate abstract class Shape with abstract methods #area, perimeter\n",
    "\n",
    "circle = Circle(5)\n",
    "circle.perimeter()\n",
    "# print(f\"Area: {circle.area()}\")\n",
    "# print(f\"Perimeter: {circle.perimeter()}\")\n"
   ]
  },
  {
   "cell_type": "code",
   "execution_count": 33,
   "id": "a11cae40-55e7-4e02-906a-cfe938df06d9",
   "metadata": {},
   "outputs": [
    {
     "data": {
      "text/plain": [
       "30"
      ]
     },
     "execution_count": 33,
     "metadata": {},
     "output_type": "execute_result"
    }
   ],
   "source": [
    "class Rectangle(Shape):\n",
    "    def __init__(self, width, height):\n",
    "        self.width = width\n",
    "        self.height = height\n",
    "\n",
    "    def area(self):\n",
    "        return self.width * self.height\n",
    "\n",
    "    def perimeter(self):\n",
    "        return 2 * (self.width + self.height)\n",
    "rectangle = Rectangle(5, 10)\n",
    "rectangle.perimeter()"
   ]
  },
  {
   "cell_type": "code",
   "execution_count": 11,
   "id": "17918471-65a3-40e2-8cdf-cab29eaf844a",
   "metadata": {},
   "outputs": [
    {
     "ename": "AttributeError",
     "evalue": "'driver2' object has no attribute 'move'",
     "output_type": "error",
     "traceback": [
      "\u001b[1;31m---------------------------------------------------------------------------\u001b[0m",
      "\u001b[1;31mAttributeError\u001b[0m                            Traceback (most recent call last)",
      "Cell \u001b[1;32mIn[11], line 35\u001b[0m\n\u001b[0;32m     30\u001b[0m         \u001b[38;5;28;01mreturn\u001b[39;00m \u001b[38;5;124m\"\u001b[39m\u001b[38;5;124mcar stop\u001b[39m\u001b[38;5;124m\"\u001b[39m\n\u001b[0;32m     34\u001b[0m dri\u001b[38;5;241m=\u001b[39mdriver2()\n\u001b[1;32m---> 35\u001b[0m dri\u001b[38;5;241m.\u001b[39mmove()\n",
      "\u001b[1;31mAttributeError\u001b[0m: 'driver2' object has no attribute 'move'"
     ]
    }
   ],
   "source": [
    "from abc import ABC,abstractmethod\n",
    "\n",
    "\n",
    "class car(ABC):\n",
    "\n",
    "    @abstractmethod\n",
    "    def  start(self):\n",
    "        pass\n",
    "    @abstractmethod\n",
    "    def stop(self):\n",
    "        pass\n",
    "\n",
    "class driver1(car):\n",
    "    def start(self):\n",
    "        return \"car start\"\n",
    "\n",
    "    def move(self):\n",
    "        return \"car move\"\n",
    "        \n",
    "    def stop(self):\n",
    "        return \"car stop\"\n",
    "\n",
    "\n",
    "\n",
    "class driver2(car):\n",
    "    def start(self):\n",
    "        return \"car start\"\n",
    "\n",
    "    def dontmove(self):\n",
    "        return False\n",
    "        \n",
    "    def stop(self):\n",
    "        return \"car stop\"\n",
    "\n",
    "\n",
    "\n",
    "dri=driver2()\n",
    "dri.()"
   ]
  },
  {
   "cell_type": "code",
   "execution_count": null,
   "id": "7dbe5413-051c-48cc-841c-9509a0ee8537",
   "metadata": {},
   "outputs": [],
   "source": []
  }
 ],
 "metadata": {
  "kernelspec": {
   "display_name": "Python [conda env:base] *",
   "language": "python",
   "name": "conda-base-py"
  },
  "language_info": {
   "codemirror_mode": {
    "name": "ipython",
    "version": 3
   },
   "file_extension": ".py",
   "mimetype": "text/x-python",
   "name": "python",
   "nbconvert_exporter": "python",
   "pygments_lexer": "ipython3",
   "version": "3.13.5"
  }
 },
 "nbformat": 4,
 "nbformat_minor": 5
}
