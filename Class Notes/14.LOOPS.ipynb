{
 "cells": [
  {
   "cell_type": "markdown",
   "id": "e6a32baf-2710-4e11-a817-838ea810626a",
   "metadata": {},
   "source": [
    "# for loops"
   ]
  },
  {
   "cell_type": "code",
   "execution_count": null,
   "id": "c571c981-c6c3-4237-a481-adec5eb40561",
   "metadata": {},
   "outputs": [],
   "source": [
    "fruits = [\"apple\", \"banana\", \"cherry\"]\n",
    "for i in fruits:\n",
    "  print(i)"
   ]
  },
  {
   "cell_type": "code",
   "execution_count": null,
   "id": "922ca14c-1de6-41ec-b6f5-b23c06d428fd",
   "metadata": {},
   "outputs": [],
   "source": [
    "a=\"banana\"\n",
    "for x in a:\n",
    "  print(x)"
   ]
  },
  {
   "cell_type": "code",
   "execution_count": null,
   "id": "250e4012-68f1-490e-8d39-de614078fb25",
   "metadata": {},
   "outputs": [],
   "source": [
    "l=[1,3,4,545,1,4,3]\n",
    "for i in l:\n",
    "    print(i)"
   ]
  },
  {
   "cell_type": "code",
   "execution_count": null,
   "id": "97ffb44d-aaa1-430a-b2bb-c79eb563182a",
   "metadata": {},
   "outputs": [],
   "source": [
    "for i in range(11):\n",
    "  if i==5:\n",
    "      continue\n",
    "  print(i)\n",
    "      \n",
    "      "
   ]
  },
  {
   "cell_type": "code",
   "execution_count": null,
   "id": "9cc0b822-8db6-40d7-9c2e-39be8bb41b7b",
   "metadata": {},
   "outputs": [],
   "source": [
    "for x in range(2, 60):\n",
    "  print(x)"
   ]
  },
  {
   "cell_type": "code",
   "execution_count": null,
   "id": "17cb2f07-0ea2-4065-b3cf-e28b6ed70ff1",
   "metadata": {},
   "outputs": [],
   "source": [
    "for x in range(2, 30, 3):\n",
    "  print(x)"
   ]
  },
  {
   "cell_type": "code",
   "execution_count": null,
   "id": "8faf7cd2-a581-4eba-a5c2-846a580a8f77",
   "metadata": {},
   "outputs": [],
   "source": [
    "for x in range(2, 30):\n",
    "    pass\n",
    " "
   ]
  },
  {
   "cell_type": "code",
   "execution_count": null,
   "id": "b1f128f5-6ec1-4722-995c-04b56f0a1c01",
   "metadata": {},
   "outputs": [],
   "source": [
    "k={1,3,5,8,98}\n",
    "for i in k:\n",
    "    if i %2==0:\n",
    "        print(i,\"even\")\n",
    "    else:\n",
    "        print(i,\"odd\")"
   ]
  },
  {
   "cell_type": "code",
   "execution_count": null,
   "id": "205d21a9-6ae5-447a-a7f3-9efab1c0df74",
   "metadata": {},
   "outputs": [],
   "source": [
    "for x in range(2, 30, 3):\n",
    "  if x==8:\n",
    "        break\n",
    "  print(x)"
   ]
  },
  {
   "cell_type": "code",
   "execution_count": null,
   "id": "e7a72634-0845-477d-a758-61f2fba3e223",
   "metadata": {},
   "outputs": [],
   "source": [
    "for x in range(2, 30, 3):\n",
    "    pass\n",
    "    \n",
    "\n"
   ]
  },
  {
   "cell_type": "code",
   "execution_count": null,
   "id": "349c05fa-c067-4f46-adea-9f10b3e12497",
   "metadata": {},
   "outputs": [],
   "source": [
    "l={\"k\":1,\"k2\":3,\"j1\":7}\n",
    "for i in l.keys():\n",
    "    print(i)"
   ]
  },
  {
   "cell_type": "code",
   "execution_count": null,
   "id": "72b80df5-9f69-4674-afa7-3b4f6849779b",
   "metadata": {},
   "outputs": [],
   "source": [
    "l=(\"hi\",1,3,3,4,6,8,9,8,7,\"apple\",)\n",
    "for i in l:\n",
    "    print(i)"
   ]
  },
  {
   "cell_type": "code",
   "execution_count": null,
   "id": "38b010d4-27af-432c-8b0b-462f4f3b223f",
   "metadata": {},
   "outputs": [],
   "source": [
    "k=[1,3,45,6,889,90]\n",
    "for i,j in enumerate(k):\n",
    "    if i==3:\n",
    "        print(j)"
   ]
  },
  {
   "cell_type": "markdown",
   "id": "da83e68f-9737-42f7-8999-9ddfcf91a2cf",
   "metadata": {},
   "source": [
    "# while loops"
   ]
  },
  {
   "cell_type": "code",
   "execution_count": null,
   "id": "8a800f73-e146-45c3-8963-b2e6c18f8703",
   "metadata": {},
   "outputs": [],
   "source": [
    "i = 0\n",
    "\n",
    "while i <=7:\n",
    "    pass\n",
    "    \n",
    "print(\"hi\")\n",
    "\n"
   ]
  },
  {
   "cell_type": "code",
   "execution_count": null,
   "id": "b516eb44-367b-441b-ad41-6d3d35c05c7c",
   "metadata": {},
   "outputs": [],
   "source": [
    "i = 0\n",
    "while i < 6:\n",
    "  i += 1\n",
    "  if i == 3:\n",
    "    continue\n",
    "  print(i)\n",
    "\n"
   ]
  },
  {
   "cell_type": "raw",
   "id": "874cf0b1-414b-4da0-b8da-1e54c6cabda6",
   "metadata": {},
   "source": []
  }
 ],
 "metadata": {
  "kernelspec": {
   "display_name": "Python 3 (ipykernel)",
   "language": "python",
   "name": "python3"
  },
  "language_info": {
   "codemirror_mode": {
    "name": "ipython",
    "version": 3
   },
   "file_extension": ".py",
   "mimetype": "text/x-python",
   "name": "python",
   "nbconvert_exporter": "python",
   "pygments_lexer": "ipython3",
   "version": "3.12.4"
  }
 },
 "nbformat": 4,
 "nbformat_minor": 5
}
