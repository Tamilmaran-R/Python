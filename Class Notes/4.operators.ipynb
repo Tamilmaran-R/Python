{
 "cells": [
  {
   "cell_type": "markdown",
   "id": "71aa33d3",
   "metadata": {},
   "source": [
    " # Python Operators"
   ]
  },
  {
   "cell_type": "code",
   "execution_count": null,
   "id": "2f5e308c",
   "metadata": {},
   "outputs": [],
   "source": [
    "  \"Operators are used to perform operations on variables and values.\"\n",
    "\n"
   ]
  },
  {
   "cell_type": "markdown",
   "id": "f814eee4",
   "metadata": {},
   "source": [
    "### Arithmetic operators\n",
    "### Assignment operators\n",
    "### Comparison operators\n",
    "### Logical operators\n",
    "### Identity operators\n",
    "### Membership operators\n",
    "### Bitwise operators"
   ]
  },
  {
   "cell_type": "code",
   "execution_count": null,
   "id": "0262efaa",
   "metadata": {},
   "outputs": [],
   "source": []
  },
  {
   "cell_type": "markdown",
   "id": "ade2be57",
   "metadata": {},
   "source": [
    "## Arithmetic operators"
   ]
  },
  {
   "cell_type": "code",
   "execution_count": 8,
   "id": "0d5c6067",
   "metadata": {},
   "outputs": [
    {
     "name": "stdin",
     "output_type": "stream",
     "text": [
      " enter the number 1\n",
      "enter the number \n"
     ]
    },
    {
     "ename": "ValueError",
     "evalue": "invalid literal for int() with base 10: ''",
     "output_type": "error",
     "traceback": [
      "\u001b[1;31m---------------------------------------------------------------------------\u001b[0m",
      "\u001b[1;31mValueError\u001b[0m                                Traceback (most recent call last)",
      "Cell \u001b[1;32mIn[8], line 2\u001b[0m\n\u001b[0;32m      1\u001b[0m a\u001b[38;5;241m=\u001b[39m\u001b[38;5;28mint\u001b[39m(\u001b[38;5;28minput\u001b[39m(\u001b[38;5;124m\"\u001b[39m\u001b[38;5;124m enter the number\u001b[39m\u001b[38;5;124m\"\u001b[39m))\n\u001b[1;32m----> 2\u001b[0m b\u001b[38;5;241m=\u001b[39m\u001b[38;5;28mint\u001b[39m(\u001b[38;5;28minput\u001b[39m(\u001b[38;5;124m\"\u001b[39m\u001b[38;5;124menter the number\u001b[39m\u001b[38;5;124m\"\u001b[39m))\n",
      "\u001b[1;31mValueError\u001b[0m: invalid literal for int() with base 10: ''"
     ]
    }
   ],
   "source": [
    "a=int(input(\" enter the number\"))\n",
    "b=int(input(\"enter the number\"))\n"
   ]
  },
  {
   "cell_type": "code",
   "execution_count": 2,
   "id": "6111f21b",
   "metadata": {},
   "outputs": [
    {
     "name": "stdout",
     "output_type": "stream",
     "text": [
      "13\n"
     ]
    }
   ],
   "source": [
    "print(a+b )"
   ]
  },
  {
   "cell_type": "code",
   "execution_count": 3,
   "id": "5ef1cfc4",
   "metadata": {},
   "outputs": [
    {
     "name": "stdout",
     "output_type": "stream",
     "text": [
      "7\n"
     ]
    }
   ],
   "source": [
    "print(a-b )"
   ]
  },
  {
   "cell_type": "code",
   "execution_count": 4,
   "id": "2cf872b5",
   "metadata": {},
   "outputs": [
    {
     "name": "stdout",
     "output_type": "stream",
     "text": [
      "30\n"
     ]
    }
   ],
   "source": [
    "print(a*b )"
   ]
  },
  {
   "cell_type": "code",
   "execution_count": 5,
   "id": "f54fea02",
   "metadata": {},
   "outputs": [
    {
     "name": "stdout",
     "output_type": "stream",
     "text": [
      "3.3333333333333335\n"
     ]
    }
   ],
   "source": [
    "print(a/b )"
   ]
  },
  {
   "cell_type": "code",
   "execution_count": 6,
   "id": "24f471cf-7c2b-43ee-9c34-b1748087b05a",
   "metadata": {},
   "outputs": [
    {
     "name": "stdout",
     "output_type": "stream",
     "text": [
      "1\n"
     ]
    }
   ],
   "source": [
    "print(a%b )"
   ]
  },
  {
   "cell_type": "code",
   "execution_count": 7,
   "id": "41b92ccf-aee1-43ff-a1a3-9c50ddc60e92",
   "metadata": {},
   "outputs": [
    {
     "name": "stdout",
     "output_type": "stream",
     "text": [
      "3\n"
     ]
    }
   ],
   "source": [
    "print(a//b )"
   ]
  },
  {
   "cell_type": "code",
   "execution_count": null,
   "id": "9122c7eb",
   "metadata": {},
   "outputs": [],
   "source": [
    "print(a**2)"
   ]
  },
  {
   "cell_type": "code",
   "execution_count": null,
   "id": "226d03f2",
   "metadata": {},
   "outputs": [],
   "source": [
    "print(a//b)"
   ]
  },
  {
   "cell_type": "code",
   "execution_count": null,
   "id": "7d194eea-8983-4c85-a79e-098cb2814032",
   "metadata": {},
   "outputs": [],
   "source": [
    "print(5/2)"
   ]
  },
  {
   "cell_type": "code",
   "execution_count": null,
   "id": "ee77d468-be3d-41db-b122-91b8fd31a6c0",
   "metadata": {},
   "outputs": [],
   "source": [
    "print(5//2)"
   ]
  },
  {
   "cell_type": "code",
   "execution_count": null,
   "id": "7947c6be-71c0-4b07-824a-cdfb2ba33e30",
   "metadata": {},
   "outputs": [],
   "source": [
    "print(5%2)"
   ]
  },
  {
   "cell_type": "markdown",
   "id": "9932b103",
   "metadata": {},
   "source": [
    "# Python Assignment Operators"
   ]
  },
  {
   "cell_type": "code",
   "execution_count": 1,
   "id": "050ff4e7",
   "metadata": {},
   "outputs": [
    {
     "name": "stdout",
     "output_type": "stream",
     "text": [
      "8\n"
     ]
    }
   ],
   "source": [
    "a=5\n",
    "a=a+3\n",
    "print(a)"
   ]
  },
  {
   "cell_type": "code",
   "execution_count": 2,
   "id": "0ada9ff4",
   "metadata": {},
   "outputs": [
    {
     "name": "stdout",
     "output_type": "stream",
     "text": [
      "11\n"
     ]
    }
   ],
   "source": [
    "a+=3\n",
    "print(a)"
   ]
  },
  {
   "cell_type": "code",
   "execution_count": 3,
   "id": "b24eae88",
   "metadata": {},
   "outputs": [
    {
     "name": "stdout",
     "output_type": "stream",
     "text": [
      "8\n"
     ]
    }
   ],
   "source": [
    "a-=3\n",
    "print(a)"
   ]
  },
  {
   "cell_type": "code",
   "execution_count": null,
   "id": "8357f3b7",
   "metadata": {},
   "outputs": [],
   "source": [
    "a*=3\n",
    "print(a)"
   ]
  },
  {
   "cell_type": "code",
   "execution_count": null,
   "id": "029107e9",
   "metadata": {},
   "outputs": [],
   "source": [
    "a/=3\n",
    "print(a)"
   ]
  },
  {
   "cell_type": "code",
   "execution_count": null,
   "id": "ee45486c",
   "metadata": {},
   "outputs": [],
   "source": [
    "a%=3\n",
    "print(a)"
   ]
  },
  {
   "cell_type": "markdown",
   "id": "89a0bd15",
   "metadata": {},
   "source": [
    "## Python Comparison Operators"
   ]
  },
  {
   "cell_type": "code",
   "execution_count": 9,
   "id": "bcd7b8ad",
   "metadata": {},
   "outputs": [
    {
     "name": "stdout",
     "output_type": "stream",
     "text": [
      "False\n"
     ]
    }
   ],
   "source": [
    "a=15\n",
    "b=15\n",
    "print(a>b)\n",
    "\n"
   ]
  },
  {
   "cell_type": "code",
   "execution_count": 10,
   "id": "4fea3fcc",
   "metadata": {},
   "outputs": [
    {
     "name": "stdout",
     "output_type": "stream",
     "text": [
      "True\n"
     ]
    }
   ],
   "source": [
    "print(a==b)"
   ]
  },
  {
   "cell_type": "code",
   "execution_count": 11,
   "id": "ac5a4c7c",
   "metadata": {},
   "outputs": [
    {
     "name": "stdout",
     "output_type": "stream",
     "text": [
      "False\n"
     ]
    }
   ],
   "source": [
    "print(a!=b)"
   ]
  },
  {
   "cell_type": "code",
   "execution_count": null,
   "id": "7597d7e5",
   "metadata": {},
   "outputs": [],
   "source": [
    "print(a>b)"
   ]
  },
  {
   "cell_type": "code",
   "execution_count": null,
   "id": "79ecd5c4-2092-4740-835f-0224343644b2",
   "metadata": {},
   "outputs": [],
   "source": [
    "print(a>=b)"
   ]
  },
  {
   "cell_type": "code",
   "execution_count": null,
   "id": "a74f853f",
   "metadata": {},
   "outputs": [],
   "source": [
    "print(a<=b)"
   ]
  },
  {
   "cell_type": "code",
   "execution_count": null,
   "id": "bf397a94-6fec-44e1-bf01-d4899fd968e3",
   "metadata": {},
   "outputs": [],
   "source": [
    "a=67\n",
    "b=67\n",
    "print(a>=b)"
   ]
  },
  {
   "cell_type": "code",
   "execution_count": null,
   "id": "960283b2-af84-435d-ad91-ab8e731591b4",
   "metadata": {},
   "outputs": [],
   "source": []
  }
 ],
 "metadata": {
  "kernelspec": {
   "display_name": "Python 3 (ipykernel)",
   "language": "python",
   "name": "python3"
  },
  "language_info": {
   "codemirror_mode": {
    "name": "ipython",
    "version": 3
   },
   "file_extension": ".py",
   "mimetype": "text/x-python",
   "name": "python",
   "nbconvert_exporter": "python",
   "pygments_lexer": "ipython3",
   "version": "3.12.4"
  }
 },
 "nbformat": 4,
 "nbformat_minor": 5
}
